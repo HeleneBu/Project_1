{
 "cells": [
  {
   "cell_type": "markdown",
   "metadata": {},
   "source": [
    "**Data cleaning and question 2**"
   ]
  },
  {
   "cell_type": "markdown",
   "metadata": {},
   "source": [
    "2) If I have a house with an above average grade, what factors will influence its sales price? As a related question, how can I further increase the price of my property?\n",
    "\n",
    "As outlined in the introduction document, we know that properties with a high grade tend to be more expensive. What would influence the price of a property with an above average grade?"
   ]
  },
  {
   "cell_type": "code",
   "execution_count": 1,
   "metadata": {},
   "outputs": [],
   "source": [
    "import pandas as pd\n",
    "\n",
    "import numpy as np\n",
    "\n",
    "from matplotlib import pyplot as plt\n",
    "\n",
    "%matplotlib inline\n",
    "\n",
    "import seaborn as sns\n",
    "\n",
    "df = pd.read_csv(\"kc_house_data.csv\")"
   ]
  },
  {
   "cell_type": "code",
   "execution_count": 2,
   "metadata": {},
   "outputs": [
    {
     "data": {
      "text/plain": [
       "7     8974\n",
       "8     6065\n",
       "9     2615\n",
       "6     2038\n",
       "10    1134\n",
       "11     399\n",
       "5      242\n",
       "12      89\n",
       "4       27\n",
       "13      13\n",
       "3        1\n",
       "Name: grade, dtype: int64"
      ]
     },
     "execution_count": 2,
     "metadata": {},
     "output_type": "execute_result"
    }
   ],
   "source": [
    "df['grade'].value_counts()"
   ]
  },
  {
   "cell_type": "markdown",
   "metadata": {},
   "source": [
    "The grading system for houses in the King County area runs from 1 to 13. Given that the client has a house with a high grade, we can assume that they have a house with a grade of 8 or above. We must therefore explore the dataset for houses with a grade of 8 or above."
   ]
  },
  {
   "cell_type": "code",
   "execution_count": 3,
   "metadata": {
    "scrolled": false
   },
   "outputs": [
    {
     "data": {
      "text/plain": [
       "False"
      ]
     },
     "execution_count": 3,
     "metadata": {},
     "output_type": "execute_result"
    }
   ],
   "source": [
    "df['grade'].isna().any()"
   ]
  },
  {
   "cell_type": "code",
   "execution_count": 4,
   "metadata": {},
   "outputs": [
    {
     "data": {
      "text/plain": [
       "7.657915451220076"
      ]
     },
     "execution_count": 4,
     "metadata": {},
     "output_type": "execute_result"
    }
   ],
   "source": [
    "df['grade'].mean()"
   ]
  },
  {
   "cell_type": "markdown",
   "metadata": {},
   "source": [
    "The mean grade of the houses in the dataset is 7.65. This means our client has a house which has a grade of 7.65 or above."
   ]
  },
  {
   "cell_type": "code",
   "execution_count": 5,
   "metadata": {
    "scrolled": true
   },
   "outputs": [
    {
     "data": {
      "text/plain": [
       "dtype('int64')"
      ]
     },
     "execution_count": 5,
     "metadata": {},
     "output_type": "execute_result"
    }
   ],
   "source": [
    "df['grade'].dtype"
   ]
  },
  {
   "cell_type": "markdown",
   "metadata": {},
   "source": [
    "The type of data included in the grade column are integers. This means we will need to select for all the houses which have a grade of 8 or above."
   ]
  },
  {
   "cell_type": "code",
   "execution_count": 6,
   "metadata": {},
   "outputs": [],
   "source": [
    "df_grade_above8 = df.loc[df['grade'] >= 8]"
   ]
  },
  {
   "cell_type": "code",
   "execution_count": 7,
   "metadata": {
    "scrolled": true
   },
   "outputs": [
    {
     "data": {
      "text/html": [
       "<div>\n",
       "<style scoped>\n",
       "    .dataframe tbody tr th:only-of-type {\n",
       "        vertical-align: middle;\n",
       "    }\n",
       "\n",
       "    .dataframe tbody tr th {\n",
       "        vertical-align: top;\n",
       "    }\n",
       "\n",
       "    .dataframe thead th {\n",
       "        text-align: right;\n",
       "    }\n",
       "</style>\n",
       "<table border=\"1\" class=\"dataframe\">\n",
       "  <thead>\n",
       "    <tr style=\"text-align: right;\">\n",
       "      <th></th>\n",
       "      <th>id</th>\n",
       "      <th>date</th>\n",
       "      <th>price</th>\n",
       "      <th>bedrooms</th>\n",
       "      <th>bathrooms</th>\n",
       "      <th>sqft_living</th>\n",
       "      <th>sqft_lot</th>\n",
       "      <th>floors</th>\n",
       "      <th>waterfront</th>\n",
       "      <th>view</th>\n",
       "      <th>...</th>\n",
       "      <th>grade</th>\n",
       "      <th>sqft_above</th>\n",
       "      <th>sqft_basement</th>\n",
       "      <th>yr_built</th>\n",
       "      <th>yr_renovated</th>\n",
       "      <th>zipcode</th>\n",
       "      <th>lat</th>\n",
       "      <th>long</th>\n",
       "      <th>sqft_living15</th>\n",
       "      <th>sqft_lot15</th>\n",
       "    </tr>\n",
       "  </thead>\n",
       "  <tbody>\n",
       "    <tr>\n",
       "      <th>4</th>\n",
       "      <td>1954400510</td>\n",
       "      <td>2/18/2015</td>\n",
       "      <td>510000.0</td>\n",
       "      <td>3</td>\n",
       "      <td>2.00</td>\n",
       "      <td>1680</td>\n",
       "      <td>8080</td>\n",
       "      <td>1.0</td>\n",
       "      <td>0.0</td>\n",
       "      <td>0.0</td>\n",
       "      <td>...</td>\n",
       "      <td>8</td>\n",
       "      <td>1680</td>\n",
       "      <td>0.0</td>\n",
       "      <td>1987</td>\n",
       "      <td>0.0</td>\n",
       "      <td>98074</td>\n",
       "      <td>47.6168</td>\n",
       "      <td>-122.045</td>\n",
       "      <td>1800</td>\n",
       "      <td>7503</td>\n",
       "    </tr>\n",
       "    <tr>\n",
       "      <th>5</th>\n",
       "      <td>7237550310</td>\n",
       "      <td>5/12/2014</td>\n",
       "      <td>1230000.0</td>\n",
       "      <td>4</td>\n",
       "      <td>4.50</td>\n",
       "      <td>5420</td>\n",
       "      <td>101930</td>\n",
       "      <td>1.0</td>\n",
       "      <td>0.0</td>\n",
       "      <td>0.0</td>\n",
       "      <td>...</td>\n",
       "      <td>11</td>\n",
       "      <td>3890</td>\n",
       "      <td>1530.0</td>\n",
       "      <td>2001</td>\n",
       "      <td>0.0</td>\n",
       "      <td>98053</td>\n",
       "      <td>47.6561</td>\n",
       "      <td>-122.005</td>\n",
       "      <td>4760</td>\n",
       "      <td>101930</td>\n",
       "    </tr>\n",
       "    <tr>\n",
       "      <th>10</th>\n",
       "      <td>1736800520</td>\n",
       "      <td>4/3/2015</td>\n",
       "      <td>662500.0</td>\n",
       "      <td>3</td>\n",
       "      <td>2.50</td>\n",
       "      <td>3560</td>\n",
       "      <td>9796</td>\n",
       "      <td>1.0</td>\n",
       "      <td>NaN</td>\n",
       "      <td>0.0</td>\n",
       "      <td>...</td>\n",
       "      <td>8</td>\n",
       "      <td>1860</td>\n",
       "      <td>1700.0</td>\n",
       "      <td>1965</td>\n",
       "      <td>0.0</td>\n",
       "      <td>98007</td>\n",
       "      <td>47.6007</td>\n",
       "      <td>-122.145</td>\n",
       "      <td>2210</td>\n",
       "      <td>8925</td>\n",
       "    </tr>\n",
       "    <tr>\n",
       "      <th>15</th>\n",
       "      <td>9297300055</td>\n",
       "      <td>1/24/2015</td>\n",
       "      <td>650000.0</td>\n",
       "      <td>4</td>\n",
       "      <td>3.00</td>\n",
       "      <td>2950</td>\n",
       "      <td>5000</td>\n",
       "      <td>2.0</td>\n",
       "      <td>0.0</td>\n",
       "      <td>3.0</td>\n",
       "      <td>...</td>\n",
       "      <td>9</td>\n",
       "      <td>1980</td>\n",
       "      <td>970.0</td>\n",
       "      <td>1979</td>\n",
       "      <td>0.0</td>\n",
       "      <td>98126</td>\n",
       "      <td>47.5714</td>\n",
       "      <td>-122.375</td>\n",
       "      <td>2140</td>\n",
       "      <td>4000</td>\n",
       "    </tr>\n",
       "    <tr>\n",
       "      <th>21</th>\n",
       "      <td>2524049179</td>\n",
       "      <td>8/26/2014</td>\n",
       "      <td>2000000.0</td>\n",
       "      <td>3</td>\n",
       "      <td>2.75</td>\n",
       "      <td>3050</td>\n",
       "      <td>44867</td>\n",
       "      <td>1.0</td>\n",
       "      <td>0.0</td>\n",
       "      <td>4.0</td>\n",
       "      <td>...</td>\n",
       "      <td>9</td>\n",
       "      <td>2330</td>\n",
       "      <td>720.0</td>\n",
       "      <td>1968</td>\n",
       "      <td>0.0</td>\n",
       "      <td>98040</td>\n",
       "      <td>47.5316</td>\n",
       "      <td>-122.233</td>\n",
       "      <td>4110</td>\n",
       "      <td>20336</td>\n",
       "    </tr>\n",
       "  </tbody>\n",
       "</table>\n",
       "<p>5 rows × 21 columns</p>\n",
       "</div>"
      ],
      "text/plain": [
       "            id       date      price  bedrooms  bathrooms  sqft_living  \\\n",
       "4   1954400510  2/18/2015   510000.0         3       2.00         1680   \n",
       "5   7237550310  5/12/2014  1230000.0         4       4.50         5420   \n",
       "10  1736800520   4/3/2015   662500.0         3       2.50         3560   \n",
       "15  9297300055  1/24/2015   650000.0         4       3.00         2950   \n",
       "21  2524049179  8/26/2014  2000000.0         3       2.75         3050   \n",
       "\n",
       "    sqft_lot  floors  waterfront  view  ...  grade  sqft_above  sqft_basement  \\\n",
       "4       8080     1.0         0.0   0.0  ...      8        1680            0.0   \n",
       "5     101930     1.0         0.0   0.0  ...     11        3890         1530.0   \n",
       "10      9796     1.0         NaN   0.0  ...      8        1860         1700.0   \n",
       "15      5000     2.0         0.0   3.0  ...      9        1980          970.0   \n",
       "21     44867     1.0         0.0   4.0  ...      9        2330          720.0   \n",
       "\n",
       "   yr_built  yr_renovated  zipcode      lat     long  sqft_living15  \\\n",
       "4      1987           0.0    98074  47.6168 -122.045           1800   \n",
       "5      2001           0.0    98053  47.6561 -122.005           4760   \n",
       "10     1965           0.0    98007  47.6007 -122.145           2210   \n",
       "15     1979           0.0    98126  47.5714 -122.375           2140   \n",
       "21     1968           0.0    98040  47.5316 -122.233           4110   \n",
       "\n",
       "    sqft_lot15  \n",
       "4         7503  \n",
       "5       101930  \n",
       "10        8925  \n",
       "15        4000  \n",
       "21       20336  \n",
       "\n",
       "[5 rows x 21 columns]"
      ]
     },
     "execution_count": 7,
     "metadata": {},
     "output_type": "execute_result"
    }
   ],
   "source": [
    "df_grade_above8.head()"
   ]
  },
  {
   "cell_type": "markdown",
   "metadata": {},
   "source": [
    "We need to explore each factor in turn to see which might increase the price of a house if it has an above average grade."
   ]
  },
  {
   "cell_type": "code",
   "execution_count": 8,
   "metadata": {
    "scrolled": true
   },
   "outputs": [
    {
     "name": "stdout",
     "output_type": "stream",
     "text": [
      "<class 'pandas.core.frame.DataFrame'>\n",
      "Int64Index: 10315 entries, 4 to 21595\n",
      "Data columns (total 21 columns):\n",
      "id               10315 non-null int64\n",
      "date             10315 non-null object\n",
      "price            10315 non-null float64\n",
      "bedrooms         10315 non-null int64\n",
      "bathrooms        10315 non-null float64\n",
      "sqft_living      10315 non-null int64\n",
      "sqft_lot         10315 non-null int64\n",
      "floors           10315 non-null float64\n",
      "waterfront       9199 non-null float64\n",
      "view             10285 non-null float64\n",
      "condition        10315 non-null int64\n",
      "grade            10315 non-null int64\n",
      "sqft_above       10315 non-null int64\n",
      "sqft_basement    10315 non-null object\n",
      "yr_built         10315 non-null int64\n",
      "yr_renovated     8503 non-null float64\n",
      "zipcode          10315 non-null int64\n",
      "lat              10315 non-null float64\n",
      "long             10315 non-null float64\n",
      "sqft_living15    10315 non-null int64\n",
      "sqft_lot15       10315 non-null int64\n",
      "dtypes: float64(8), int64(11), object(2)\n",
      "memory usage: 1.7+ MB\n"
     ]
    }
   ],
   "source": [
    "df_grade_above8.info()"
   ]
  },
  {
   "cell_type": "markdown",
   "metadata": {},
   "source": [
    "**Price**"
   ]
  },
  {
   "cell_type": "markdown",
   "metadata": {},
   "source": [
    "We must first ensure that the price of houses with an above average grade is controlled for outliers, as there are some very expensive houses which may affect our model."
   ]
  },
  {
   "cell_type": "code",
   "execution_count": 9,
   "metadata": {},
   "outputs": [],
   "source": [
    "def remove_outlier(df_in, col_name):\n",
    "   q1 = df_in[col_name].quantile(0.25)\n",
    "   q3 = df_in[col_name].quantile(0.75)\n",
    "   iqr = q3-q1 #this calculates the interquartile range\n",
    "   fence_low  = q1 - (1.5*iqr) #this removes the outliers at the lower range of the dataset for price\n",
    "   fence_high = q3 + (1.5*iqr) #this removes the outliers at the higher range of the dataset for price\n",
    "   df_out = df_in.loc[(df_in[col_name] >= fence_low) & (df_in[col_name] <= fence_high)]\n",
    "   return df_out"
   ]
  },
  {
   "cell_type": "code",
   "execution_count": 10,
   "metadata": {},
   "outputs": [],
   "source": [
    "price_df_grade_above8 = remove_outlier(df_grade_above8, 'price')"
   ]
  },
  {
   "cell_type": "code",
   "execution_count": 11,
   "metadata": {},
   "outputs": [
    {
     "data": {
      "text/html": [
       "<div>\n",
       "<style scoped>\n",
       "    .dataframe tbody tr th:only-of-type {\n",
       "        vertical-align: middle;\n",
       "    }\n",
       "\n",
       "    .dataframe tbody tr th {\n",
       "        vertical-align: top;\n",
       "    }\n",
       "\n",
       "    .dataframe thead th {\n",
       "        text-align: right;\n",
       "    }\n",
       "</style>\n",
       "<table border=\"1\" class=\"dataframe\">\n",
       "  <thead>\n",
       "    <tr style=\"text-align: right;\">\n",
       "      <th></th>\n",
       "      <th>id</th>\n",
       "      <th>date</th>\n",
       "      <th>price</th>\n",
       "      <th>bedrooms</th>\n",
       "      <th>bathrooms</th>\n",
       "      <th>sqft_living</th>\n",
       "      <th>sqft_lot</th>\n",
       "      <th>floors</th>\n",
       "      <th>waterfront</th>\n",
       "      <th>view</th>\n",
       "      <th>...</th>\n",
       "      <th>grade</th>\n",
       "      <th>sqft_above</th>\n",
       "      <th>sqft_basement</th>\n",
       "      <th>yr_built</th>\n",
       "      <th>yr_renovated</th>\n",
       "      <th>zipcode</th>\n",
       "      <th>lat</th>\n",
       "      <th>long</th>\n",
       "      <th>sqft_living15</th>\n",
       "      <th>sqft_lot15</th>\n",
       "    </tr>\n",
       "  </thead>\n",
       "  <tbody>\n",
       "    <tr>\n",
       "      <th>4</th>\n",
       "      <td>1954400510</td>\n",
       "      <td>2/18/2015</td>\n",
       "      <td>510000.0</td>\n",
       "      <td>3</td>\n",
       "      <td>2.00</td>\n",
       "      <td>1680</td>\n",
       "      <td>8080</td>\n",
       "      <td>1.0</td>\n",
       "      <td>0.0</td>\n",
       "      <td>0.0</td>\n",
       "      <td>...</td>\n",
       "      <td>8</td>\n",
       "      <td>1680</td>\n",
       "      <td>0.0</td>\n",
       "      <td>1987</td>\n",
       "      <td>0.0</td>\n",
       "      <td>98074</td>\n",
       "      <td>47.6168</td>\n",
       "      <td>-122.045</td>\n",
       "      <td>1800</td>\n",
       "      <td>7503</td>\n",
       "    </tr>\n",
       "    <tr>\n",
       "      <th>5</th>\n",
       "      <td>7237550310</td>\n",
       "      <td>5/12/2014</td>\n",
       "      <td>1230000.0</td>\n",
       "      <td>4</td>\n",
       "      <td>4.50</td>\n",
       "      <td>5420</td>\n",
       "      <td>101930</td>\n",
       "      <td>1.0</td>\n",
       "      <td>0.0</td>\n",
       "      <td>0.0</td>\n",
       "      <td>...</td>\n",
       "      <td>11</td>\n",
       "      <td>3890</td>\n",
       "      <td>1530.0</td>\n",
       "      <td>2001</td>\n",
       "      <td>0.0</td>\n",
       "      <td>98053</td>\n",
       "      <td>47.6561</td>\n",
       "      <td>-122.005</td>\n",
       "      <td>4760</td>\n",
       "      <td>101930</td>\n",
       "    </tr>\n",
       "    <tr>\n",
       "      <th>10</th>\n",
       "      <td>1736800520</td>\n",
       "      <td>4/3/2015</td>\n",
       "      <td>662500.0</td>\n",
       "      <td>3</td>\n",
       "      <td>2.50</td>\n",
       "      <td>3560</td>\n",
       "      <td>9796</td>\n",
       "      <td>1.0</td>\n",
       "      <td>NaN</td>\n",
       "      <td>0.0</td>\n",
       "      <td>...</td>\n",
       "      <td>8</td>\n",
       "      <td>1860</td>\n",
       "      <td>1700.0</td>\n",
       "      <td>1965</td>\n",
       "      <td>0.0</td>\n",
       "      <td>98007</td>\n",
       "      <td>47.6007</td>\n",
       "      <td>-122.145</td>\n",
       "      <td>2210</td>\n",
       "      <td>8925</td>\n",
       "    </tr>\n",
       "    <tr>\n",
       "      <th>15</th>\n",
       "      <td>9297300055</td>\n",
       "      <td>1/24/2015</td>\n",
       "      <td>650000.0</td>\n",
       "      <td>4</td>\n",
       "      <td>3.00</td>\n",
       "      <td>2950</td>\n",
       "      <td>5000</td>\n",
       "      <td>2.0</td>\n",
       "      <td>0.0</td>\n",
       "      <td>3.0</td>\n",
       "      <td>...</td>\n",
       "      <td>9</td>\n",
       "      <td>1980</td>\n",
       "      <td>970.0</td>\n",
       "      <td>1979</td>\n",
       "      <td>0.0</td>\n",
       "      <td>98126</td>\n",
       "      <td>47.5714</td>\n",
       "      <td>-122.375</td>\n",
       "      <td>2140</td>\n",
       "      <td>4000</td>\n",
       "    </tr>\n",
       "    <tr>\n",
       "      <th>22</th>\n",
       "      <td>7137970340</td>\n",
       "      <td>7/3/2014</td>\n",
       "      <td>285000.0</td>\n",
       "      <td>5</td>\n",
       "      <td>2.50</td>\n",
       "      <td>2270</td>\n",
       "      <td>6300</td>\n",
       "      <td>2.0</td>\n",
       "      <td>0.0</td>\n",
       "      <td>0.0</td>\n",
       "      <td>...</td>\n",
       "      <td>8</td>\n",
       "      <td>2270</td>\n",
       "      <td>0.0</td>\n",
       "      <td>1995</td>\n",
       "      <td>0.0</td>\n",
       "      <td>98092</td>\n",
       "      <td>47.3266</td>\n",
       "      <td>-122.169</td>\n",
       "      <td>2240</td>\n",
       "      <td>7005</td>\n",
       "    </tr>\n",
       "    <tr>\n",
       "      <th>24</th>\n",
       "      <td>3814700200</td>\n",
       "      <td>11/20/2014</td>\n",
       "      <td>329000.0</td>\n",
       "      <td>3</td>\n",
       "      <td>2.25</td>\n",
       "      <td>2450</td>\n",
       "      <td>6500</td>\n",
       "      <td>2.0</td>\n",
       "      <td>0.0</td>\n",
       "      <td>0.0</td>\n",
       "      <td>...</td>\n",
       "      <td>8</td>\n",
       "      <td>2450</td>\n",
       "      <td>0.0</td>\n",
       "      <td>1985</td>\n",
       "      <td>0.0</td>\n",
       "      <td>98030</td>\n",
       "      <td>47.3739</td>\n",
       "      <td>-122.172</td>\n",
       "      <td>2200</td>\n",
       "      <td>6865</td>\n",
       "    </tr>\n",
       "    <tr>\n",
       "      <th>26</th>\n",
       "      <td>1794500383</td>\n",
       "      <td>6/26/2014</td>\n",
       "      <td>937000.0</td>\n",
       "      <td>3</td>\n",
       "      <td>1.75</td>\n",
       "      <td>2450</td>\n",
       "      <td>2691</td>\n",
       "      <td>2.0</td>\n",
       "      <td>0.0</td>\n",
       "      <td>0.0</td>\n",
       "      <td>...</td>\n",
       "      <td>8</td>\n",
       "      <td>1750</td>\n",
       "      <td>700.0</td>\n",
       "      <td>1915</td>\n",
       "      <td>NaN</td>\n",
       "      <td>98119</td>\n",
       "      <td>47.6386</td>\n",
       "      <td>-122.360</td>\n",
       "      <td>1760</td>\n",
       "      <td>3573</td>\n",
       "    </tr>\n",
       "    <tr>\n",
       "      <th>27</th>\n",
       "      <td>3303700376</td>\n",
       "      <td>12/1/2014</td>\n",
       "      <td>667000.0</td>\n",
       "      <td>3</td>\n",
       "      <td>1.00</td>\n",
       "      <td>1400</td>\n",
       "      <td>1581</td>\n",
       "      <td>1.5</td>\n",
       "      <td>0.0</td>\n",
       "      <td>0.0</td>\n",
       "      <td>...</td>\n",
       "      <td>8</td>\n",
       "      <td>1400</td>\n",
       "      <td>0.0</td>\n",
       "      <td>1909</td>\n",
       "      <td>0.0</td>\n",
       "      <td>98112</td>\n",
       "      <td>47.6221</td>\n",
       "      <td>-122.314</td>\n",
       "      <td>1860</td>\n",
       "      <td>3861</td>\n",
       "    </tr>\n",
       "    <tr>\n",
       "      <th>29</th>\n",
       "      <td>1873100390</td>\n",
       "      <td>3/2/2015</td>\n",
       "      <td>719000.0</td>\n",
       "      <td>4</td>\n",
       "      <td>2.50</td>\n",
       "      <td>2570</td>\n",
       "      <td>7173</td>\n",
       "      <td>2.0</td>\n",
       "      <td>0.0</td>\n",
       "      <td>0.0</td>\n",
       "      <td>...</td>\n",
       "      <td>8</td>\n",
       "      <td>2570</td>\n",
       "      <td>0.0</td>\n",
       "      <td>2005</td>\n",
       "      <td>0.0</td>\n",
       "      <td>98052</td>\n",
       "      <td>47.7073</td>\n",
       "      <td>-122.110</td>\n",
       "      <td>2630</td>\n",
       "      <td>6026</td>\n",
       "    </tr>\n",
       "    <tr>\n",
       "      <th>30</th>\n",
       "      <td>8562750320</td>\n",
       "      <td>11/10/2014</td>\n",
       "      <td>580500.0</td>\n",
       "      <td>3</td>\n",
       "      <td>2.50</td>\n",
       "      <td>2320</td>\n",
       "      <td>3980</td>\n",
       "      <td>2.0</td>\n",
       "      <td>0.0</td>\n",
       "      <td>0.0</td>\n",
       "      <td>...</td>\n",
       "      <td>8</td>\n",
       "      <td>2320</td>\n",
       "      <td>0.0</td>\n",
       "      <td>2003</td>\n",
       "      <td>0.0</td>\n",
       "      <td>98027</td>\n",
       "      <td>47.5391</td>\n",
       "      <td>-122.070</td>\n",
       "      <td>2580</td>\n",
       "      <td>3980</td>\n",
       "    </tr>\n",
       "    <tr>\n",
       "      <th>33</th>\n",
       "      <td>7589200193</td>\n",
       "      <td>11/10/2014</td>\n",
       "      <td>535000.0</td>\n",
       "      <td>3</td>\n",
       "      <td>1.00</td>\n",
       "      <td>1090</td>\n",
       "      <td>3000</td>\n",
       "      <td>1.5</td>\n",
       "      <td>0.0</td>\n",
       "      <td>0.0</td>\n",
       "      <td>...</td>\n",
       "      <td>8</td>\n",
       "      <td>1090</td>\n",
       "      <td>0.0</td>\n",
       "      <td>1929</td>\n",
       "      <td>0.0</td>\n",
       "      <td>98117</td>\n",
       "      <td>47.6889</td>\n",
       "      <td>-122.375</td>\n",
       "      <td>1570</td>\n",
       "      <td>5080</td>\n",
       "    </tr>\n",
       "    <tr>\n",
       "      <th>35</th>\n",
       "      <td>9547205180</td>\n",
       "      <td>6/13/2014</td>\n",
       "      <td>696000.0</td>\n",
       "      <td>3</td>\n",
       "      <td>2.50</td>\n",
       "      <td>2300</td>\n",
       "      <td>3060</td>\n",
       "      <td>1.5</td>\n",
       "      <td>0.0</td>\n",
       "      <td>0.0</td>\n",
       "      <td>...</td>\n",
       "      <td>8</td>\n",
       "      <td>1510</td>\n",
       "      <td>790.0</td>\n",
       "      <td>1930</td>\n",
       "      <td>2002.0</td>\n",
       "      <td>98115</td>\n",
       "      <td>47.6827</td>\n",
       "      <td>-122.310</td>\n",
       "      <td>1590</td>\n",
       "      <td>3264</td>\n",
       "    </tr>\n",
       "    <tr>\n",
       "      <th>37</th>\n",
       "      <td>2768000400</td>\n",
       "      <td>12/30/2014</td>\n",
       "      <td>640000.0</td>\n",
       "      <td>4</td>\n",
       "      <td>2.00</td>\n",
       "      <td>2360</td>\n",
       "      <td>6000</td>\n",
       "      <td>2.0</td>\n",
       "      <td>0.0</td>\n",
       "      <td>0.0</td>\n",
       "      <td>...</td>\n",
       "      <td>8</td>\n",
       "      <td>2360</td>\n",
       "      <td>0.0</td>\n",
       "      <td>1904</td>\n",
       "      <td>0.0</td>\n",
       "      <td>98107</td>\n",
       "      <td>47.6702</td>\n",
       "      <td>-122.362</td>\n",
       "      <td>1730</td>\n",
       "      <td>4700</td>\n",
       "    </tr>\n",
       "    <tr>\n",
       "      <th>39</th>\n",
       "      <td>2078500320</td>\n",
       "      <td>6/20/2014</td>\n",
       "      <td>605000.0</td>\n",
       "      <td>4</td>\n",
       "      <td>2.50</td>\n",
       "      <td>2620</td>\n",
       "      <td>7553</td>\n",
       "      <td>2.0</td>\n",
       "      <td>0.0</td>\n",
       "      <td>0.0</td>\n",
       "      <td>...</td>\n",
       "      <td>8</td>\n",
       "      <td>2620</td>\n",
       "      <td>0.0</td>\n",
       "      <td>1996</td>\n",
       "      <td>0.0</td>\n",
       "      <td>98056</td>\n",
       "      <td>47.5301</td>\n",
       "      <td>-122.180</td>\n",
       "      <td>2620</td>\n",
       "      <td>11884</td>\n",
       "    </tr>\n",
       "    <tr>\n",
       "      <th>40</th>\n",
       "      <td>5547700270</td>\n",
       "      <td>7/15/2014</td>\n",
       "      <td>625000.0</td>\n",
       "      <td>4</td>\n",
       "      <td>2.50</td>\n",
       "      <td>2570</td>\n",
       "      <td>5520</td>\n",
       "      <td>2.0</td>\n",
       "      <td>NaN</td>\n",
       "      <td>0.0</td>\n",
       "      <td>...</td>\n",
       "      <td>9</td>\n",
       "      <td>2570</td>\n",
       "      <td>0.0</td>\n",
       "      <td>2000</td>\n",
       "      <td>NaN</td>\n",
       "      <td>98074</td>\n",
       "      <td>47.6145</td>\n",
       "      <td>-122.027</td>\n",
       "      <td>2470</td>\n",
       "      <td>5669</td>\n",
       "    </tr>\n",
       "    <tr>\n",
       "      <th>41</th>\n",
       "      <td>7766200013</td>\n",
       "      <td>8/11/2014</td>\n",
       "      <td>775000.0</td>\n",
       "      <td>4</td>\n",
       "      <td>2.25</td>\n",
       "      <td>4220</td>\n",
       "      <td>24186</td>\n",
       "      <td>1.0</td>\n",
       "      <td>0.0</td>\n",
       "      <td>0.0</td>\n",
       "      <td>...</td>\n",
       "      <td>8</td>\n",
       "      <td>2600</td>\n",
       "      <td>1620.0</td>\n",
       "      <td>1984</td>\n",
       "      <td>0.0</td>\n",
       "      <td>98166</td>\n",
       "      <td>47.4450</td>\n",
       "      <td>-122.347</td>\n",
       "      <td>2410</td>\n",
       "      <td>30617</td>\n",
       "    </tr>\n",
       "    <tr>\n",
       "      <th>42</th>\n",
       "      <td>7203220400</td>\n",
       "      <td>7/7/2014</td>\n",
       "      <td>861990.0</td>\n",
       "      <td>5</td>\n",
       "      <td>2.75</td>\n",
       "      <td>3595</td>\n",
       "      <td>5639</td>\n",
       "      <td>2.0</td>\n",
       "      <td>0.0</td>\n",
       "      <td>0.0</td>\n",
       "      <td>...</td>\n",
       "      <td>9</td>\n",
       "      <td>3595</td>\n",
       "      <td>?</td>\n",
       "      <td>2014</td>\n",
       "      <td>0.0</td>\n",
       "      <td>98053</td>\n",
       "      <td>47.6848</td>\n",
       "      <td>-122.016</td>\n",
       "      <td>3625</td>\n",
       "      <td>5639</td>\n",
       "    </tr>\n",
       "    <tr>\n",
       "      <th>45</th>\n",
       "      <td>8035350320</td>\n",
       "      <td>7/18/2014</td>\n",
       "      <td>488000.0</td>\n",
       "      <td>3</td>\n",
       "      <td>2.50</td>\n",
       "      <td>3160</td>\n",
       "      <td>13603</td>\n",
       "      <td>2.0</td>\n",
       "      <td>0.0</td>\n",
       "      <td>0.0</td>\n",
       "      <td>...</td>\n",
       "      <td>8</td>\n",
       "      <td>3160</td>\n",
       "      <td>0.0</td>\n",
       "      <td>2003</td>\n",
       "      <td>NaN</td>\n",
       "      <td>98019</td>\n",
       "      <td>47.7443</td>\n",
       "      <td>-121.977</td>\n",
       "      <td>3050</td>\n",
       "      <td>9232</td>\n",
       "    </tr>\n",
       "    <tr>\n",
       "      <th>47</th>\n",
       "      <td>4178300310</td>\n",
       "      <td>7/16/2014</td>\n",
       "      <td>785000.0</td>\n",
       "      <td>4</td>\n",
       "      <td>2.50</td>\n",
       "      <td>2290</td>\n",
       "      <td>13416</td>\n",
       "      <td>2.0</td>\n",
       "      <td>0.0</td>\n",
       "      <td>0.0</td>\n",
       "      <td>...</td>\n",
       "      <td>9</td>\n",
       "      <td>2290</td>\n",
       "      <td>0.0</td>\n",
       "      <td>1981</td>\n",
       "      <td>0.0</td>\n",
       "      <td>98007</td>\n",
       "      <td>47.6194</td>\n",
       "      <td>-122.151</td>\n",
       "      <td>2680</td>\n",
       "      <td>13685</td>\n",
       "    </tr>\n",
       "    <tr>\n",
       "      <th>49</th>\n",
       "      <td>822039084</td>\n",
       "      <td>3/11/2015</td>\n",
       "      <td>1350000.0</td>\n",
       "      <td>3</td>\n",
       "      <td>2.50</td>\n",
       "      <td>2753</td>\n",
       "      <td>65005</td>\n",
       "      <td>1.0</td>\n",
       "      <td>1.0</td>\n",
       "      <td>2.0</td>\n",
       "      <td>...</td>\n",
       "      <td>9</td>\n",
       "      <td>2165</td>\n",
       "      <td>588.0</td>\n",
       "      <td>1953</td>\n",
       "      <td>0.0</td>\n",
       "      <td>98070</td>\n",
       "      <td>47.4041</td>\n",
       "      <td>-122.451</td>\n",
       "      <td>2680</td>\n",
       "      <td>72513</td>\n",
       "    </tr>\n",
       "    <tr>\n",
       "      <th>51</th>\n",
       "      <td>7231300125</td>\n",
       "      <td>2/17/2015</td>\n",
       "      <td>345000.0</td>\n",
       "      <td>5</td>\n",
       "      <td>2.50</td>\n",
       "      <td>3150</td>\n",
       "      <td>9134</td>\n",
       "      <td>1.0</td>\n",
       "      <td>0.0</td>\n",
       "      <td>0.0</td>\n",
       "      <td>...</td>\n",
       "      <td>8</td>\n",
       "      <td>1640</td>\n",
       "      <td>1510.0</td>\n",
       "      <td>1966</td>\n",
       "      <td>0.0</td>\n",
       "      <td>98056</td>\n",
       "      <td>47.4934</td>\n",
       "      <td>-122.189</td>\n",
       "      <td>1990</td>\n",
       "      <td>9133</td>\n",
       "    </tr>\n",
       "    <tr>\n",
       "      <th>54</th>\n",
       "      <td>4217401195</td>\n",
       "      <td>3/3/2015</td>\n",
       "      <td>920000.0</td>\n",
       "      <td>5</td>\n",
       "      <td>2.25</td>\n",
       "      <td>2730</td>\n",
       "      <td>6000</td>\n",
       "      <td>1.5</td>\n",
       "      <td>0.0</td>\n",
       "      <td>0.0</td>\n",
       "      <td>...</td>\n",
       "      <td>8</td>\n",
       "      <td>2130</td>\n",
       "      <td>600.0</td>\n",
       "      <td>1927</td>\n",
       "      <td>0.0</td>\n",
       "      <td>98105</td>\n",
       "      <td>47.6571</td>\n",
       "      <td>-122.281</td>\n",
       "      <td>2730</td>\n",
       "      <td>6000</td>\n",
       "    </tr>\n",
       "    <tr>\n",
       "      <th>55</th>\n",
       "      <td>9822700295</td>\n",
       "      <td>5/12/2014</td>\n",
       "      <td>885000.0</td>\n",
       "      <td>4</td>\n",
       "      <td>2.50</td>\n",
       "      <td>2830</td>\n",
       "      <td>5000</td>\n",
       "      <td>2.0</td>\n",
       "      <td>NaN</td>\n",
       "      <td>0.0</td>\n",
       "      <td>...</td>\n",
       "      <td>9</td>\n",
       "      <td>2830</td>\n",
       "      <td>0.0</td>\n",
       "      <td>1995</td>\n",
       "      <td>0.0</td>\n",
       "      <td>98105</td>\n",
       "      <td>47.6597</td>\n",
       "      <td>-122.290</td>\n",
       "      <td>1950</td>\n",
       "      <td>5000</td>\n",
       "    </tr>\n",
       "    <tr>\n",
       "      <th>57</th>\n",
       "      <td>2799800710</td>\n",
       "      <td>4/7/2015</td>\n",
       "      <td>301000.0</td>\n",
       "      <td>3</td>\n",
       "      <td>2.50</td>\n",
       "      <td>2420</td>\n",
       "      <td>4750</td>\n",
       "      <td>2.0</td>\n",
       "      <td>0.0</td>\n",
       "      <td>0.0</td>\n",
       "      <td>...</td>\n",
       "      <td>8</td>\n",
       "      <td>2420</td>\n",
       "      <td>0.0</td>\n",
       "      <td>2003</td>\n",
       "      <td>0.0</td>\n",
       "      <td>98042</td>\n",
       "      <td>47.3663</td>\n",
       "      <td>-122.122</td>\n",
       "      <td>2690</td>\n",
       "      <td>4750</td>\n",
       "    </tr>\n",
       "    <tr>\n",
       "      <th>58</th>\n",
       "      <td>7922800400</td>\n",
       "      <td>8/27/2014</td>\n",
       "      <td>951000.0</td>\n",
       "      <td>5</td>\n",
       "      <td>3.25</td>\n",
       "      <td>3250</td>\n",
       "      <td>14342</td>\n",
       "      <td>2.0</td>\n",
       "      <td>0.0</td>\n",
       "      <td>4.0</td>\n",
       "      <td>...</td>\n",
       "      <td>8</td>\n",
       "      <td>3250</td>\n",
       "      <td>0.0</td>\n",
       "      <td>1968</td>\n",
       "      <td>NaN</td>\n",
       "      <td>98008</td>\n",
       "      <td>47.5880</td>\n",
       "      <td>-122.116</td>\n",
       "      <td>2960</td>\n",
       "      <td>11044</td>\n",
       "    </tr>\n",
       "    <tr>\n",
       "      <th>59</th>\n",
       "      <td>8079040320</td>\n",
       "      <td>2/23/2015</td>\n",
       "      <td>430000.0</td>\n",
       "      <td>4</td>\n",
       "      <td>3.00</td>\n",
       "      <td>1850</td>\n",
       "      <td>9976</td>\n",
       "      <td>2.0</td>\n",
       "      <td>0.0</td>\n",
       "      <td>0.0</td>\n",
       "      <td>...</td>\n",
       "      <td>8</td>\n",
       "      <td>1850</td>\n",
       "      <td>0.0</td>\n",
       "      <td>1991</td>\n",
       "      <td>0.0</td>\n",
       "      <td>98059</td>\n",
       "      <td>47.5059</td>\n",
       "      <td>-122.149</td>\n",
       "      <td>2270</td>\n",
       "      <td>8542</td>\n",
       "    </tr>\n",
       "    <tr>\n",
       "      <th>60</th>\n",
       "      <td>1516000055</td>\n",
       "      <td>12/10/2014</td>\n",
       "      <td>650000.0</td>\n",
       "      <td>3</td>\n",
       "      <td>2.25</td>\n",
       "      <td>2150</td>\n",
       "      <td>21235</td>\n",
       "      <td>1.0</td>\n",
       "      <td>NaN</td>\n",
       "      <td>3.0</td>\n",
       "      <td>...</td>\n",
       "      <td>8</td>\n",
       "      <td>1590</td>\n",
       "      <td>560.0</td>\n",
       "      <td>1959</td>\n",
       "      <td>0.0</td>\n",
       "      <td>98166</td>\n",
       "      <td>47.4336</td>\n",
       "      <td>-122.339</td>\n",
       "      <td>2570</td>\n",
       "      <td>18900</td>\n",
       "    </tr>\n",
       "    <tr>\n",
       "      <th>62</th>\n",
       "      <td>5072410070</td>\n",
       "      <td>10/21/2014</td>\n",
       "      <td>505000.0</td>\n",
       "      <td>3</td>\n",
       "      <td>1.75</td>\n",
       "      <td>2519</td>\n",
       "      <td>8690</td>\n",
       "      <td>2.0</td>\n",
       "      <td>NaN</td>\n",
       "      <td>0.0</td>\n",
       "      <td>...</td>\n",
       "      <td>8</td>\n",
       "      <td>2519</td>\n",
       "      <td>0.0</td>\n",
       "      <td>1973</td>\n",
       "      <td>0.0</td>\n",
       "      <td>98166</td>\n",
       "      <td>47.4428</td>\n",
       "      <td>-122.344</td>\n",
       "      <td>2500</td>\n",
       "      <td>9500</td>\n",
       "    </tr>\n",
       "    <tr>\n",
       "      <th>63</th>\n",
       "      <td>9528102996</td>\n",
       "      <td>12/7/2014</td>\n",
       "      <td>549000.0</td>\n",
       "      <td>3</td>\n",
       "      <td>1.75</td>\n",
       "      <td>1540</td>\n",
       "      <td>1044</td>\n",
       "      <td>3.0</td>\n",
       "      <td>0.0</td>\n",
       "      <td>0.0</td>\n",
       "      <td>...</td>\n",
       "      <td>8</td>\n",
       "      <td>1540</td>\n",
       "      <td>0.0</td>\n",
       "      <td>2014</td>\n",
       "      <td>0.0</td>\n",
       "      <td>98115</td>\n",
       "      <td>47.6765</td>\n",
       "      <td>-122.320</td>\n",
       "      <td>1580</td>\n",
       "      <td>3090</td>\n",
       "    </tr>\n",
       "    <tr>\n",
       "      <th>66</th>\n",
       "      <td>3394100030</td>\n",
       "      <td>9/9/2014</td>\n",
       "      <td>975000.0</td>\n",
       "      <td>4</td>\n",
       "      <td>2.50</td>\n",
       "      <td>2720</td>\n",
       "      <td>11049</td>\n",
       "      <td>2.0</td>\n",
       "      <td>NaN</td>\n",
       "      <td>0.0</td>\n",
       "      <td>...</td>\n",
       "      <td>10</td>\n",
       "      <td>2720</td>\n",
       "      <td>0.0</td>\n",
       "      <td>1989</td>\n",
       "      <td>0.0</td>\n",
       "      <td>98004</td>\n",
       "      <td>47.5815</td>\n",
       "      <td>-122.192</td>\n",
       "      <td>2750</td>\n",
       "      <td>11049</td>\n",
       "    </tr>\n",
       "    <tr>\n",
       "      <th>...</th>\n",
       "      <td>...</td>\n",
       "      <td>...</td>\n",
       "      <td>...</td>\n",
       "      <td>...</td>\n",
       "      <td>...</td>\n",
       "      <td>...</td>\n",
       "      <td>...</td>\n",
       "      <td>...</td>\n",
       "      <td>...</td>\n",
       "      <td>...</td>\n",
       "      <td>...</td>\n",
       "      <td>...</td>\n",
       "      <td>...</td>\n",
       "      <td>...</td>\n",
       "      <td>...</td>\n",
       "      <td>...</td>\n",
       "      <td>...</td>\n",
       "      <td>...</td>\n",
       "      <td>...</td>\n",
       "      <td>...</td>\n",
       "      <td>...</td>\n",
       "    </tr>\n",
       "    <tr>\n",
       "      <th>21557</th>\n",
       "      <td>8562790760</td>\n",
       "      <td>5/20/2014</td>\n",
       "      <td>785000.0</td>\n",
       "      <td>4</td>\n",
       "      <td>3.50</td>\n",
       "      <td>3070</td>\n",
       "      <td>4684</td>\n",
       "      <td>2.0</td>\n",
       "      <td>0.0</td>\n",
       "      <td>0.0</td>\n",
       "      <td>...</td>\n",
       "      <td>10</td>\n",
       "      <td>2190</td>\n",
       "      <td>880.0</td>\n",
       "      <td>2009</td>\n",
       "      <td>0.0</td>\n",
       "      <td>98027</td>\n",
       "      <td>47.5316</td>\n",
       "      <td>-122.076</td>\n",
       "      <td>2290</td>\n",
       "      <td>2664</td>\n",
       "    </tr>\n",
       "    <tr>\n",
       "      <th>21558</th>\n",
       "      <td>1931300090</td>\n",
       "      <td>5/7/2014</td>\n",
       "      <td>610950.0</td>\n",
       "      <td>3</td>\n",
       "      <td>3.00</td>\n",
       "      <td>1680</td>\n",
       "      <td>1570</td>\n",
       "      <td>3.0</td>\n",
       "      <td>0.0</td>\n",
       "      <td>0.0</td>\n",
       "      <td>...</td>\n",
       "      <td>8</td>\n",
       "      <td>1680</td>\n",
       "      <td>0.0</td>\n",
       "      <td>2014</td>\n",
       "      <td>0.0</td>\n",
       "      <td>98103</td>\n",
       "      <td>47.6572</td>\n",
       "      <td>-122.346</td>\n",
       "      <td>1640</td>\n",
       "      <td>4800</td>\n",
       "    </tr>\n",
       "    <tr>\n",
       "      <th>21559</th>\n",
       "      <td>9578500790</td>\n",
       "      <td>11/11/2014</td>\n",
       "      <td>399950.0</td>\n",
       "      <td>3</td>\n",
       "      <td>2.50</td>\n",
       "      <td>3087</td>\n",
       "      <td>5002</td>\n",
       "      <td>2.0</td>\n",
       "      <td>0.0</td>\n",
       "      <td>0.0</td>\n",
       "      <td>...</td>\n",
       "      <td>8</td>\n",
       "      <td>3087</td>\n",
       "      <td>0.0</td>\n",
       "      <td>2014</td>\n",
       "      <td>0.0</td>\n",
       "      <td>98023</td>\n",
       "      <td>47.2974</td>\n",
       "      <td>-122.349</td>\n",
       "      <td>2927</td>\n",
       "      <td>5183</td>\n",
       "    </tr>\n",
       "    <tr>\n",
       "      <th>21561</th>\n",
       "      <td>3881900317</td>\n",
       "      <td>1/23/2015</td>\n",
       "      <td>579000.0</td>\n",
       "      <td>4</td>\n",
       "      <td>3.25</td>\n",
       "      <td>1900</td>\n",
       "      <td>2631</td>\n",
       "      <td>2.0</td>\n",
       "      <td>0.0</td>\n",
       "      <td>0.0</td>\n",
       "      <td>...</td>\n",
       "      <td>9</td>\n",
       "      <td>1250</td>\n",
       "      <td>650.0</td>\n",
       "      <td>2014</td>\n",
       "      <td>0.0</td>\n",
       "      <td>98144</td>\n",
       "      <td>47.5869</td>\n",
       "      <td>-122.311</td>\n",
       "      <td>1710</td>\n",
       "      <td>4502</td>\n",
       "    </tr>\n",
       "    <tr>\n",
       "      <th>21563</th>\n",
       "      <td>7011201004</td>\n",
       "      <td>5/29/2014</td>\n",
       "      <td>645000.0</td>\n",
       "      <td>3</td>\n",
       "      <td>3.25</td>\n",
       "      <td>1730</td>\n",
       "      <td>1229</td>\n",
       "      <td>2.0</td>\n",
       "      <td>0.0</td>\n",
       "      <td>2.0</td>\n",
       "      <td>...</td>\n",
       "      <td>9</td>\n",
       "      <td>1320</td>\n",
       "      <td>410.0</td>\n",
       "      <td>2008</td>\n",
       "      <td>0.0</td>\n",
       "      <td>98119</td>\n",
       "      <td>47.6374</td>\n",
       "      <td>-122.369</td>\n",
       "      <td>1710</td>\n",
       "      <td>1686</td>\n",
       "    </tr>\n",
       "    <tr>\n",
       "      <th>21564</th>\n",
       "      <td>7853420110</td>\n",
       "      <td>10/3/2014</td>\n",
       "      <td>594866.0</td>\n",
       "      <td>3</td>\n",
       "      <td>3.00</td>\n",
       "      <td>2780</td>\n",
       "      <td>6000</td>\n",
       "      <td>2.0</td>\n",
       "      <td>0.0</td>\n",
       "      <td>0.0</td>\n",
       "      <td>...</td>\n",
       "      <td>9</td>\n",
       "      <td>2780</td>\n",
       "      <td>0.0</td>\n",
       "      <td>2013</td>\n",
       "      <td>0.0</td>\n",
       "      <td>98065</td>\n",
       "      <td>47.5184</td>\n",
       "      <td>-121.886</td>\n",
       "      <td>2850</td>\n",
       "      <td>6000</td>\n",
       "    </tr>\n",
       "    <tr>\n",
       "      <th>21565</th>\n",
       "      <td>7853420110</td>\n",
       "      <td>5/4/2015</td>\n",
       "      <td>625000.0</td>\n",
       "      <td>3</td>\n",
       "      <td>3.00</td>\n",
       "      <td>2780</td>\n",
       "      <td>6000</td>\n",
       "      <td>2.0</td>\n",
       "      <td>0.0</td>\n",
       "      <td>0.0</td>\n",
       "      <td>...</td>\n",
       "      <td>9</td>\n",
       "      <td>2780</td>\n",
       "      <td>0.0</td>\n",
       "      <td>2013</td>\n",
       "      <td>NaN</td>\n",
       "      <td>98065</td>\n",
       "      <td>47.5184</td>\n",
       "      <td>-121.886</td>\n",
       "      <td>2850</td>\n",
       "      <td>6000</td>\n",
       "    </tr>\n",
       "    <tr>\n",
       "      <th>21566</th>\n",
       "      <td>3052700432</td>\n",
       "      <td>11/12/2014</td>\n",
       "      <td>490000.0</td>\n",
       "      <td>3</td>\n",
       "      <td>2.25</td>\n",
       "      <td>1500</td>\n",
       "      <td>1290</td>\n",
       "      <td>2.0</td>\n",
       "      <td>0.0</td>\n",
       "      <td>0.0</td>\n",
       "      <td>...</td>\n",
       "      <td>8</td>\n",
       "      <td>1220</td>\n",
       "      <td>280.0</td>\n",
       "      <td>2006</td>\n",
       "      <td>0.0</td>\n",
       "      <td>98117</td>\n",
       "      <td>47.6785</td>\n",
       "      <td>-122.375</td>\n",
       "      <td>1460</td>\n",
       "      <td>1375</td>\n",
       "    </tr>\n",
       "    <tr>\n",
       "      <th>21570</th>\n",
       "      <td>2767604724</td>\n",
       "      <td>10/15/2014</td>\n",
       "      <td>505000.0</td>\n",
       "      <td>2</td>\n",
       "      <td>2.50</td>\n",
       "      <td>1430</td>\n",
       "      <td>1201</td>\n",
       "      <td>3.0</td>\n",
       "      <td>0.0</td>\n",
       "      <td>0.0</td>\n",
       "      <td>...</td>\n",
       "      <td>8</td>\n",
       "      <td>1430</td>\n",
       "      <td>0.0</td>\n",
       "      <td>2009</td>\n",
       "      <td>0.0</td>\n",
       "      <td>98107</td>\n",
       "      <td>47.6707</td>\n",
       "      <td>-122.381</td>\n",
       "      <td>1430</td>\n",
       "      <td>1249</td>\n",
       "    </tr>\n",
       "    <tr>\n",
       "      <th>21571</th>\n",
       "      <td>6632300207</td>\n",
       "      <td>3/5/2015</td>\n",
       "      <td>385000.0</td>\n",
       "      <td>3</td>\n",
       "      <td>2.50</td>\n",
       "      <td>1520</td>\n",
       "      <td>1488</td>\n",
       "      <td>3.0</td>\n",
       "      <td>0.0</td>\n",
       "      <td>0.0</td>\n",
       "      <td>...</td>\n",
       "      <td>8</td>\n",
       "      <td>1520</td>\n",
       "      <td>0.0</td>\n",
       "      <td>2006</td>\n",
       "      <td>0.0</td>\n",
       "      <td>98125</td>\n",
       "      <td>47.7337</td>\n",
       "      <td>-122.309</td>\n",
       "      <td>1520</td>\n",
       "      <td>1497</td>\n",
       "    </tr>\n",
       "    <tr>\n",
       "      <th>21572</th>\n",
       "      <td>2767600688</td>\n",
       "      <td>11/13/2014</td>\n",
       "      <td>414500.0</td>\n",
       "      <td>2</td>\n",
       "      <td>1.50</td>\n",
       "      <td>1210</td>\n",
       "      <td>1278</td>\n",
       "      <td>2.0</td>\n",
       "      <td>0.0</td>\n",
       "      <td>0.0</td>\n",
       "      <td>...</td>\n",
       "      <td>8</td>\n",
       "      <td>1020</td>\n",
       "      <td>190.0</td>\n",
       "      <td>2007</td>\n",
       "      <td>0.0</td>\n",
       "      <td>98117</td>\n",
       "      <td>47.6756</td>\n",
       "      <td>-122.375</td>\n",
       "      <td>1210</td>\n",
       "      <td>1118</td>\n",
       "    </tr>\n",
       "    <tr>\n",
       "      <th>21573</th>\n",
       "      <td>7570050450</td>\n",
       "      <td>9/10/2014</td>\n",
       "      <td>347500.0</td>\n",
       "      <td>3</td>\n",
       "      <td>2.50</td>\n",
       "      <td>2540</td>\n",
       "      <td>4760</td>\n",
       "      <td>2.0</td>\n",
       "      <td>0.0</td>\n",
       "      <td>0.0</td>\n",
       "      <td>...</td>\n",
       "      <td>8</td>\n",
       "      <td>2540</td>\n",
       "      <td>0.0</td>\n",
       "      <td>2010</td>\n",
       "      <td>0.0</td>\n",
       "      <td>98038</td>\n",
       "      <td>47.3452</td>\n",
       "      <td>-122.022</td>\n",
       "      <td>2540</td>\n",
       "      <td>4571</td>\n",
       "    </tr>\n",
       "    <tr>\n",
       "      <th>21574</th>\n",
       "      <td>7430200100</td>\n",
       "      <td>5/14/2014</td>\n",
       "      <td>1220000.0</td>\n",
       "      <td>4</td>\n",
       "      <td>3.50</td>\n",
       "      <td>4910</td>\n",
       "      <td>9444</td>\n",
       "      <td>1.5</td>\n",
       "      <td>0.0</td>\n",
       "      <td>0.0</td>\n",
       "      <td>...</td>\n",
       "      <td>11</td>\n",
       "      <td>3110</td>\n",
       "      <td>1800.0</td>\n",
       "      <td>2007</td>\n",
       "      <td>0.0</td>\n",
       "      <td>98074</td>\n",
       "      <td>47.6502</td>\n",
       "      <td>-122.066</td>\n",
       "      <td>4560</td>\n",
       "      <td>11063</td>\n",
       "    </tr>\n",
       "    <tr>\n",
       "      <th>21575</th>\n",
       "      <td>4140940150</td>\n",
       "      <td>10/2/2014</td>\n",
       "      <td>572000.0</td>\n",
       "      <td>4</td>\n",
       "      <td>2.75</td>\n",
       "      <td>2770</td>\n",
       "      <td>3852</td>\n",
       "      <td>2.0</td>\n",
       "      <td>0.0</td>\n",
       "      <td>0.0</td>\n",
       "      <td>...</td>\n",
       "      <td>8</td>\n",
       "      <td>2770</td>\n",
       "      <td>0.0</td>\n",
       "      <td>2014</td>\n",
       "      <td>NaN</td>\n",
       "      <td>98178</td>\n",
       "      <td>47.5001</td>\n",
       "      <td>-122.232</td>\n",
       "      <td>1810</td>\n",
       "      <td>5641</td>\n",
       "    </tr>\n",
       "    <tr>\n",
       "      <th>21576</th>\n",
       "      <td>1931300412</td>\n",
       "      <td>4/16/2015</td>\n",
       "      <td>475000.0</td>\n",
       "      <td>3</td>\n",
       "      <td>2.25</td>\n",
       "      <td>1190</td>\n",
       "      <td>1200</td>\n",
       "      <td>3.0</td>\n",
       "      <td>0.0</td>\n",
       "      <td>0.0</td>\n",
       "      <td>...</td>\n",
       "      <td>8</td>\n",
       "      <td>1190</td>\n",
       "      <td>0.0</td>\n",
       "      <td>2008</td>\n",
       "      <td>NaN</td>\n",
       "      <td>98103</td>\n",
       "      <td>47.6542</td>\n",
       "      <td>-122.346</td>\n",
       "      <td>1180</td>\n",
       "      <td>1224</td>\n",
       "    </tr>\n",
       "    <tr>\n",
       "      <th>21577</th>\n",
       "      <td>8672200110</td>\n",
       "      <td>3/17/2015</td>\n",
       "      <td>1090000.0</td>\n",
       "      <td>5</td>\n",
       "      <td>3.75</td>\n",
       "      <td>4170</td>\n",
       "      <td>8142</td>\n",
       "      <td>2.0</td>\n",
       "      <td>0.0</td>\n",
       "      <td>2.0</td>\n",
       "      <td>...</td>\n",
       "      <td>10</td>\n",
       "      <td>4170</td>\n",
       "      <td>0.0</td>\n",
       "      <td>2006</td>\n",
       "      <td>NaN</td>\n",
       "      <td>98056</td>\n",
       "      <td>47.5354</td>\n",
       "      <td>-122.181</td>\n",
       "      <td>3030</td>\n",
       "      <td>7980</td>\n",
       "    </tr>\n",
       "    <tr>\n",
       "      <th>21578</th>\n",
       "      <td>5087900040</td>\n",
       "      <td>10/17/2014</td>\n",
       "      <td>350000.0</td>\n",
       "      <td>4</td>\n",
       "      <td>2.75</td>\n",
       "      <td>2500</td>\n",
       "      <td>5995</td>\n",
       "      <td>2.0</td>\n",
       "      <td>NaN</td>\n",
       "      <td>0.0</td>\n",
       "      <td>...</td>\n",
       "      <td>8</td>\n",
       "      <td>2500</td>\n",
       "      <td>0.0</td>\n",
       "      <td>2008</td>\n",
       "      <td>0.0</td>\n",
       "      <td>98042</td>\n",
       "      <td>47.3749</td>\n",
       "      <td>-122.107</td>\n",
       "      <td>2530</td>\n",
       "      <td>5988</td>\n",
       "    </tr>\n",
       "    <tr>\n",
       "      <th>21579</th>\n",
       "      <td>1972201967</td>\n",
       "      <td>10/31/2014</td>\n",
       "      <td>520000.0</td>\n",
       "      <td>2</td>\n",
       "      <td>2.25</td>\n",
       "      <td>1530</td>\n",
       "      <td>981</td>\n",
       "      <td>3.0</td>\n",
       "      <td>0.0</td>\n",
       "      <td>0.0</td>\n",
       "      <td>...</td>\n",
       "      <td>8</td>\n",
       "      <td>1480</td>\n",
       "      <td>50.0</td>\n",
       "      <td>2006</td>\n",
       "      <td>NaN</td>\n",
       "      <td>98103</td>\n",
       "      <td>47.6533</td>\n",
       "      <td>-122.346</td>\n",
       "      <td>1530</td>\n",
       "      <td>1282</td>\n",
       "    </tr>\n",
       "    <tr>\n",
       "      <th>21580</th>\n",
       "      <td>7502800100</td>\n",
       "      <td>8/13/2014</td>\n",
       "      <td>679950.0</td>\n",
       "      <td>5</td>\n",
       "      <td>2.75</td>\n",
       "      <td>3600</td>\n",
       "      <td>9437</td>\n",
       "      <td>2.0</td>\n",
       "      <td>0.0</td>\n",
       "      <td>0.0</td>\n",
       "      <td>...</td>\n",
       "      <td>9</td>\n",
       "      <td>3600</td>\n",
       "      <td>0.0</td>\n",
       "      <td>2014</td>\n",
       "      <td>0.0</td>\n",
       "      <td>98059</td>\n",
       "      <td>47.4822</td>\n",
       "      <td>-122.131</td>\n",
       "      <td>3550</td>\n",
       "      <td>9421</td>\n",
       "    </tr>\n",
       "    <tr>\n",
       "      <th>21582</th>\n",
       "      <td>8956200760</td>\n",
       "      <td>10/13/2014</td>\n",
       "      <td>541800.0</td>\n",
       "      <td>4</td>\n",
       "      <td>2.50</td>\n",
       "      <td>3118</td>\n",
       "      <td>7866</td>\n",
       "      <td>2.0</td>\n",
       "      <td>NaN</td>\n",
       "      <td>2.0</td>\n",
       "      <td>...</td>\n",
       "      <td>9</td>\n",
       "      <td>3118</td>\n",
       "      <td>0.0</td>\n",
       "      <td>2014</td>\n",
       "      <td>0.0</td>\n",
       "      <td>98001</td>\n",
       "      <td>47.2931</td>\n",
       "      <td>-122.264</td>\n",
       "      <td>2673</td>\n",
       "      <td>6500</td>\n",
       "    </tr>\n",
       "    <tr>\n",
       "      <th>21583</th>\n",
       "      <td>7202300110</td>\n",
       "      <td>9/15/2014</td>\n",
       "      <td>810000.0</td>\n",
       "      <td>4</td>\n",
       "      <td>3.00</td>\n",
       "      <td>3990</td>\n",
       "      <td>7838</td>\n",
       "      <td>2.0</td>\n",
       "      <td>0.0</td>\n",
       "      <td>0.0</td>\n",
       "      <td>...</td>\n",
       "      <td>9</td>\n",
       "      <td>3990</td>\n",
       "      <td>0.0</td>\n",
       "      <td>2003</td>\n",
       "      <td>NaN</td>\n",
       "      <td>98053</td>\n",
       "      <td>47.6857</td>\n",
       "      <td>-122.046</td>\n",
       "      <td>3370</td>\n",
       "      <td>6814</td>\n",
       "    </tr>\n",
       "    <tr>\n",
       "      <th>21585</th>\n",
       "      <td>5100403806</td>\n",
       "      <td>4/7/2015</td>\n",
       "      <td>467000.0</td>\n",
       "      <td>3</td>\n",
       "      <td>2.50</td>\n",
       "      <td>1425</td>\n",
       "      <td>1179</td>\n",
       "      <td>3.0</td>\n",
       "      <td>0.0</td>\n",
       "      <td>0.0</td>\n",
       "      <td>...</td>\n",
       "      <td>8</td>\n",
       "      <td>1425</td>\n",
       "      <td>0.0</td>\n",
       "      <td>2008</td>\n",
       "      <td>0.0</td>\n",
       "      <td>98125</td>\n",
       "      <td>47.6963</td>\n",
       "      <td>-122.318</td>\n",
       "      <td>1285</td>\n",
       "      <td>1253</td>\n",
       "    </tr>\n",
       "    <tr>\n",
       "      <th>21587</th>\n",
       "      <td>7852140040</td>\n",
       "      <td>8/25/2014</td>\n",
       "      <td>507250.0</td>\n",
       "      <td>3</td>\n",
       "      <td>2.50</td>\n",
       "      <td>2270</td>\n",
       "      <td>5536</td>\n",
       "      <td>2.0</td>\n",
       "      <td>NaN</td>\n",
       "      <td>0.0</td>\n",
       "      <td>...</td>\n",
       "      <td>8</td>\n",
       "      <td>2270</td>\n",
       "      <td>0.0</td>\n",
       "      <td>2003</td>\n",
       "      <td>0.0</td>\n",
       "      <td>98065</td>\n",
       "      <td>47.5389</td>\n",
       "      <td>-121.881</td>\n",
       "      <td>2270</td>\n",
       "      <td>5731</td>\n",
       "    </tr>\n",
       "    <tr>\n",
       "      <th>21588</th>\n",
       "      <td>9834201367</td>\n",
       "      <td>1/26/2015</td>\n",
       "      <td>429000.0</td>\n",
       "      <td>3</td>\n",
       "      <td>2.00</td>\n",
       "      <td>1490</td>\n",
       "      <td>1126</td>\n",
       "      <td>3.0</td>\n",
       "      <td>0.0</td>\n",
       "      <td>0.0</td>\n",
       "      <td>...</td>\n",
       "      <td>8</td>\n",
       "      <td>1490</td>\n",
       "      <td>0.0</td>\n",
       "      <td>2014</td>\n",
       "      <td>0.0</td>\n",
       "      <td>98144</td>\n",
       "      <td>47.5699</td>\n",
       "      <td>-122.288</td>\n",
       "      <td>1400</td>\n",
       "      <td>1230</td>\n",
       "    </tr>\n",
       "    <tr>\n",
       "      <th>21589</th>\n",
       "      <td>3448900210</td>\n",
       "      <td>10/14/2014</td>\n",
       "      <td>610685.0</td>\n",
       "      <td>4</td>\n",
       "      <td>2.50</td>\n",
       "      <td>2520</td>\n",
       "      <td>6023</td>\n",
       "      <td>2.0</td>\n",
       "      <td>0.0</td>\n",
       "      <td>NaN</td>\n",
       "      <td>...</td>\n",
       "      <td>9</td>\n",
       "      <td>2520</td>\n",
       "      <td>0.0</td>\n",
       "      <td>2014</td>\n",
       "      <td>0.0</td>\n",
       "      <td>98056</td>\n",
       "      <td>47.5137</td>\n",
       "      <td>-122.167</td>\n",
       "      <td>2520</td>\n",
       "      <td>6023</td>\n",
       "    </tr>\n",
       "    <tr>\n",
       "      <th>21590</th>\n",
       "      <td>7936000429</td>\n",
       "      <td>3/26/2015</td>\n",
       "      <td>1010000.0</td>\n",
       "      <td>4</td>\n",
       "      <td>3.50</td>\n",
       "      <td>3510</td>\n",
       "      <td>7200</td>\n",
       "      <td>2.0</td>\n",
       "      <td>0.0</td>\n",
       "      <td>0.0</td>\n",
       "      <td>...</td>\n",
       "      <td>9</td>\n",
       "      <td>2600</td>\n",
       "      <td>910.0</td>\n",
       "      <td>2009</td>\n",
       "      <td>0.0</td>\n",
       "      <td>98136</td>\n",
       "      <td>47.5537</td>\n",
       "      <td>-122.398</td>\n",
       "      <td>2050</td>\n",
       "      <td>6200</td>\n",
       "    </tr>\n",
       "    <tr>\n",
       "      <th>21591</th>\n",
       "      <td>2997800021</td>\n",
       "      <td>2/19/2015</td>\n",
       "      <td>475000.0</td>\n",
       "      <td>3</td>\n",
       "      <td>2.50</td>\n",
       "      <td>1310</td>\n",
       "      <td>1294</td>\n",
       "      <td>2.0</td>\n",
       "      <td>0.0</td>\n",
       "      <td>0.0</td>\n",
       "      <td>...</td>\n",
       "      <td>8</td>\n",
       "      <td>1180</td>\n",
       "      <td>130.0</td>\n",
       "      <td>2008</td>\n",
       "      <td>0.0</td>\n",
       "      <td>98116</td>\n",
       "      <td>47.5773</td>\n",
       "      <td>-122.409</td>\n",
       "      <td>1330</td>\n",
       "      <td>1265</td>\n",
       "    </tr>\n",
       "    <tr>\n",
       "      <th>21592</th>\n",
       "      <td>263000018</td>\n",
       "      <td>5/21/2014</td>\n",
       "      <td>360000.0</td>\n",
       "      <td>3</td>\n",
       "      <td>2.50</td>\n",
       "      <td>1530</td>\n",
       "      <td>1131</td>\n",
       "      <td>3.0</td>\n",
       "      <td>0.0</td>\n",
       "      <td>0.0</td>\n",
       "      <td>...</td>\n",
       "      <td>8</td>\n",
       "      <td>1530</td>\n",
       "      <td>0.0</td>\n",
       "      <td>2009</td>\n",
       "      <td>0.0</td>\n",
       "      <td>98103</td>\n",
       "      <td>47.6993</td>\n",
       "      <td>-122.346</td>\n",
       "      <td>1530</td>\n",
       "      <td>1509</td>\n",
       "    </tr>\n",
       "    <tr>\n",
       "      <th>21593</th>\n",
       "      <td>6600060120</td>\n",
       "      <td>2/23/2015</td>\n",
       "      <td>400000.0</td>\n",
       "      <td>4</td>\n",
       "      <td>2.50</td>\n",
       "      <td>2310</td>\n",
       "      <td>5813</td>\n",
       "      <td>2.0</td>\n",
       "      <td>0.0</td>\n",
       "      <td>0.0</td>\n",
       "      <td>...</td>\n",
       "      <td>8</td>\n",
       "      <td>2310</td>\n",
       "      <td>0.0</td>\n",
       "      <td>2014</td>\n",
       "      <td>0.0</td>\n",
       "      <td>98146</td>\n",
       "      <td>47.5107</td>\n",
       "      <td>-122.362</td>\n",
       "      <td>1830</td>\n",
       "      <td>7200</td>\n",
       "    </tr>\n",
       "    <tr>\n",
       "      <th>21595</th>\n",
       "      <td>291310100</td>\n",
       "      <td>1/16/2015</td>\n",
       "      <td>400000.0</td>\n",
       "      <td>3</td>\n",
       "      <td>2.50</td>\n",
       "      <td>1600</td>\n",
       "      <td>2388</td>\n",
       "      <td>2.0</td>\n",
       "      <td>NaN</td>\n",
       "      <td>0.0</td>\n",
       "      <td>...</td>\n",
       "      <td>8</td>\n",
       "      <td>1600</td>\n",
       "      <td>0.0</td>\n",
       "      <td>2004</td>\n",
       "      <td>0.0</td>\n",
       "      <td>98027</td>\n",
       "      <td>47.5345</td>\n",
       "      <td>-122.069</td>\n",
       "      <td>1410</td>\n",
       "      <td>1287</td>\n",
       "    </tr>\n",
       "  </tbody>\n",
       "</table>\n",
       "<p>9657 rows × 21 columns</p>\n",
       "</div>"
      ],
      "text/plain": [
       "               id        date      price  bedrooms  bathrooms  sqft_living  \\\n",
       "4      1954400510   2/18/2015   510000.0         3       2.00         1680   \n",
       "5      7237550310   5/12/2014  1230000.0         4       4.50         5420   \n",
       "10     1736800520    4/3/2015   662500.0         3       2.50         3560   \n",
       "15     9297300055   1/24/2015   650000.0         4       3.00         2950   \n",
       "22     7137970340    7/3/2014   285000.0         5       2.50         2270   \n",
       "24     3814700200  11/20/2014   329000.0         3       2.25         2450   \n",
       "26     1794500383   6/26/2014   937000.0         3       1.75         2450   \n",
       "27     3303700376   12/1/2014   667000.0         3       1.00         1400   \n",
       "29     1873100390    3/2/2015   719000.0         4       2.50         2570   \n",
       "30     8562750320  11/10/2014   580500.0         3       2.50         2320   \n",
       "33     7589200193  11/10/2014   535000.0         3       1.00         1090   \n",
       "35     9547205180   6/13/2014   696000.0         3       2.50         2300   \n",
       "37     2768000400  12/30/2014   640000.0         4       2.00         2360   \n",
       "39     2078500320   6/20/2014   605000.0         4       2.50         2620   \n",
       "40     5547700270   7/15/2014   625000.0         4       2.50         2570   \n",
       "41     7766200013   8/11/2014   775000.0         4       2.25         4220   \n",
       "42     7203220400    7/7/2014   861990.0         5       2.75         3595   \n",
       "45     8035350320   7/18/2014   488000.0         3       2.50         3160   \n",
       "47     4178300310   7/16/2014   785000.0         4       2.50         2290   \n",
       "49      822039084   3/11/2015  1350000.0         3       2.50         2753   \n",
       "51     7231300125   2/17/2015   345000.0         5       2.50         3150   \n",
       "54     4217401195    3/3/2015   920000.0         5       2.25         2730   \n",
       "55     9822700295   5/12/2014   885000.0         4       2.50         2830   \n",
       "57     2799800710    4/7/2015   301000.0         3       2.50         2420   \n",
       "58     7922800400   8/27/2014   951000.0         5       3.25         3250   \n",
       "59     8079040320   2/23/2015   430000.0         4       3.00         1850   \n",
       "60     1516000055  12/10/2014   650000.0         3       2.25         2150   \n",
       "62     5072410070  10/21/2014   505000.0         3       1.75         2519   \n",
       "63     9528102996   12/7/2014   549000.0         3       1.75         1540   \n",
       "66     3394100030    9/9/2014   975000.0         4       2.50         2720   \n",
       "...           ...         ...        ...       ...        ...          ...   \n",
       "21557  8562790760   5/20/2014   785000.0         4       3.50         3070   \n",
       "21558  1931300090    5/7/2014   610950.0         3       3.00         1680   \n",
       "21559  9578500790  11/11/2014   399950.0         3       2.50         3087   \n",
       "21561  3881900317   1/23/2015   579000.0         4       3.25         1900   \n",
       "21563  7011201004   5/29/2014   645000.0         3       3.25         1730   \n",
       "21564  7853420110   10/3/2014   594866.0         3       3.00         2780   \n",
       "21565  7853420110    5/4/2015   625000.0         3       3.00         2780   \n",
       "21566  3052700432  11/12/2014   490000.0         3       2.25         1500   \n",
       "21570  2767604724  10/15/2014   505000.0         2       2.50         1430   \n",
       "21571  6632300207    3/5/2015   385000.0         3       2.50         1520   \n",
       "21572  2767600688  11/13/2014   414500.0         2       1.50         1210   \n",
       "21573  7570050450   9/10/2014   347500.0         3       2.50         2540   \n",
       "21574  7430200100   5/14/2014  1220000.0         4       3.50         4910   \n",
       "21575  4140940150   10/2/2014   572000.0         4       2.75         2770   \n",
       "21576  1931300412   4/16/2015   475000.0         3       2.25         1190   \n",
       "21577  8672200110   3/17/2015  1090000.0         5       3.75         4170   \n",
       "21578  5087900040  10/17/2014   350000.0         4       2.75         2500   \n",
       "21579  1972201967  10/31/2014   520000.0         2       2.25         1530   \n",
       "21580  7502800100   8/13/2014   679950.0         5       2.75         3600   \n",
       "21582  8956200760  10/13/2014   541800.0         4       2.50         3118   \n",
       "21583  7202300110   9/15/2014   810000.0         4       3.00         3990   \n",
       "21585  5100403806    4/7/2015   467000.0         3       2.50         1425   \n",
       "21587  7852140040   8/25/2014   507250.0         3       2.50         2270   \n",
       "21588  9834201367   1/26/2015   429000.0         3       2.00         1490   \n",
       "21589  3448900210  10/14/2014   610685.0         4       2.50         2520   \n",
       "21590  7936000429   3/26/2015  1010000.0         4       3.50         3510   \n",
       "21591  2997800021   2/19/2015   475000.0         3       2.50         1310   \n",
       "21592   263000018   5/21/2014   360000.0         3       2.50         1530   \n",
       "21593  6600060120   2/23/2015   400000.0         4       2.50         2310   \n",
       "21595   291310100   1/16/2015   400000.0         3       2.50         1600   \n",
       "\n",
       "       sqft_lot  floors  waterfront  view  ...  grade  sqft_above  \\\n",
       "4          8080     1.0         0.0   0.0  ...      8        1680   \n",
       "5        101930     1.0         0.0   0.0  ...     11        3890   \n",
       "10         9796     1.0         NaN   0.0  ...      8        1860   \n",
       "15         5000     2.0         0.0   3.0  ...      9        1980   \n",
       "22         6300     2.0         0.0   0.0  ...      8        2270   \n",
       "24         6500     2.0         0.0   0.0  ...      8        2450   \n",
       "26         2691     2.0         0.0   0.0  ...      8        1750   \n",
       "27         1581     1.5         0.0   0.0  ...      8        1400   \n",
       "29         7173     2.0         0.0   0.0  ...      8        2570   \n",
       "30         3980     2.0         0.0   0.0  ...      8        2320   \n",
       "33         3000     1.5         0.0   0.0  ...      8        1090   \n",
       "35         3060     1.5         0.0   0.0  ...      8        1510   \n",
       "37         6000     2.0         0.0   0.0  ...      8        2360   \n",
       "39         7553     2.0         0.0   0.0  ...      8        2620   \n",
       "40         5520     2.0         NaN   0.0  ...      9        2570   \n",
       "41        24186     1.0         0.0   0.0  ...      8        2600   \n",
       "42         5639     2.0         0.0   0.0  ...      9        3595   \n",
       "45        13603     2.0         0.0   0.0  ...      8        3160   \n",
       "47        13416     2.0         0.0   0.0  ...      9        2290   \n",
       "49        65005     1.0         1.0   2.0  ...      9        2165   \n",
       "51         9134     1.0         0.0   0.0  ...      8        1640   \n",
       "54         6000     1.5         0.0   0.0  ...      8        2130   \n",
       "55         5000     2.0         NaN   0.0  ...      9        2830   \n",
       "57         4750     2.0         0.0   0.0  ...      8        2420   \n",
       "58        14342     2.0         0.0   4.0  ...      8        3250   \n",
       "59         9976     2.0         0.0   0.0  ...      8        1850   \n",
       "60        21235     1.0         NaN   3.0  ...      8        1590   \n",
       "62         8690     2.0         NaN   0.0  ...      8        2519   \n",
       "63         1044     3.0         0.0   0.0  ...      8        1540   \n",
       "66        11049     2.0         NaN   0.0  ...     10        2720   \n",
       "...         ...     ...         ...   ...  ...    ...         ...   \n",
       "21557      4684     2.0         0.0   0.0  ...     10        2190   \n",
       "21558      1570     3.0         0.0   0.0  ...      8        1680   \n",
       "21559      5002     2.0         0.0   0.0  ...      8        3087   \n",
       "21561      2631     2.0         0.0   0.0  ...      9        1250   \n",
       "21563      1229     2.0         0.0   2.0  ...      9        1320   \n",
       "21564      6000     2.0         0.0   0.0  ...      9        2780   \n",
       "21565      6000     2.0         0.0   0.0  ...      9        2780   \n",
       "21566      1290     2.0         0.0   0.0  ...      8        1220   \n",
       "21570      1201     3.0         0.0   0.0  ...      8        1430   \n",
       "21571      1488     3.0         0.0   0.0  ...      8        1520   \n",
       "21572      1278     2.0         0.0   0.0  ...      8        1020   \n",
       "21573      4760     2.0         0.0   0.0  ...      8        2540   \n",
       "21574      9444     1.5         0.0   0.0  ...     11        3110   \n",
       "21575      3852     2.0         0.0   0.0  ...      8        2770   \n",
       "21576      1200     3.0         0.0   0.0  ...      8        1190   \n",
       "21577      8142     2.0         0.0   2.0  ...     10        4170   \n",
       "21578      5995     2.0         NaN   0.0  ...      8        2500   \n",
       "21579       981     3.0         0.0   0.0  ...      8        1480   \n",
       "21580      9437     2.0         0.0   0.0  ...      9        3600   \n",
       "21582      7866     2.0         NaN   2.0  ...      9        3118   \n",
       "21583      7838     2.0         0.0   0.0  ...      9        3990   \n",
       "21585      1179     3.0         0.0   0.0  ...      8        1425   \n",
       "21587      5536     2.0         NaN   0.0  ...      8        2270   \n",
       "21588      1126     3.0         0.0   0.0  ...      8        1490   \n",
       "21589      6023     2.0         0.0   NaN  ...      9        2520   \n",
       "21590      7200     2.0         0.0   0.0  ...      9        2600   \n",
       "21591      1294     2.0         0.0   0.0  ...      8        1180   \n",
       "21592      1131     3.0         0.0   0.0  ...      8        1530   \n",
       "21593      5813     2.0         0.0   0.0  ...      8        2310   \n",
       "21595      2388     2.0         NaN   0.0  ...      8        1600   \n",
       "\n",
       "       sqft_basement yr_built  yr_renovated  zipcode      lat     long  \\\n",
       "4                0.0     1987           0.0    98074  47.6168 -122.045   \n",
       "5             1530.0     2001           0.0    98053  47.6561 -122.005   \n",
       "10            1700.0     1965           0.0    98007  47.6007 -122.145   \n",
       "15             970.0     1979           0.0    98126  47.5714 -122.375   \n",
       "22               0.0     1995           0.0    98092  47.3266 -122.169   \n",
       "24               0.0     1985           0.0    98030  47.3739 -122.172   \n",
       "26             700.0     1915           NaN    98119  47.6386 -122.360   \n",
       "27               0.0     1909           0.0    98112  47.6221 -122.314   \n",
       "29               0.0     2005           0.0    98052  47.7073 -122.110   \n",
       "30               0.0     2003           0.0    98027  47.5391 -122.070   \n",
       "33               0.0     1929           0.0    98117  47.6889 -122.375   \n",
       "35             790.0     1930        2002.0    98115  47.6827 -122.310   \n",
       "37               0.0     1904           0.0    98107  47.6702 -122.362   \n",
       "39               0.0     1996           0.0    98056  47.5301 -122.180   \n",
       "40               0.0     2000           NaN    98074  47.6145 -122.027   \n",
       "41            1620.0     1984           0.0    98166  47.4450 -122.347   \n",
       "42                 ?     2014           0.0    98053  47.6848 -122.016   \n",
       "45               0.0     2003           NaN    98019  47.7443 -121.977   \n",
       "47               0.0     1981           0.0    98007  47.6194 -122.151   \n",
       "49             588.0     1953           0.0    98070  47.4041 -122.451   \n",
       "51            1510.0     1966           0.0    98056  47.4934 -122.189   \n",
       "54             600.0     1927           0.0    98105  47.6571 -122.281   \n",
       "55               0.0     1995           0.0    98105  47.6597 -122.290   \n",
       "57               0.0     2003           0.0    98042  47.3663 -122.122   \n",
       "58               0.0     1968           NaN    98008  47.5880 -122.116   \n",
       "59               0.0     1991           0.0    98059  47.5059 -122.149   \n",
       "60             560.0     1959           0.0    98166  47.4336 -122.339   \n",
       "62               0.0     1973           0.0    98166  47.4428 -122.344   \n",
       "63               0.0     2014           0.0    98115  47.6765 -122.320   \n",
       "66               0.0     1989           0.0    98004  47.5815 -122.192   \n",
       "...              ...      ...           ...      ...      ...      ...   \n",
       "21557          880.0     2009           0.0    98027  47.5316 -122.076   \n",
       "21558            0.0     2014           0.0    98103  47.6572 -122.346   \n",
       "21559            0.0     2014           0.0    98023  47.2974 -122.349   \n",
       "21561          650.0     2014           0.0    98144  47.5869 -122.311   \n",
       "21563          410.0     2008           0.0    98119  47.6374 -122.369   \n",
       "21564            0.0     2013           0.0    98065  47.5184 -121.886   \n",
       "21565            0.0     2013           NaN    98065  47.5184 -121.886   \n",
       "21566          280.0     2006           0.0    98117  47.6785 -122.375   \n",
       "21570            0.0     2009           0.0    98107  47.6707 -122.381   \n",
       "21571            0.0     2006           0.0    98125  47.7337 -122.309   \n",
       "21572          190.0     2007           0.0    98117  47.6756 -122.375   \n",
       "21573            0.0     2010           0.0    98038  47.3452 -122.022   \n",
       "21574         1800.0     2007           0.0    98074  47.6502 -122.066   \n",
       "21575            0.0     2014           NaN    98178  47.5001 -122.232   \n",
       "21576            0.0     2008           NaN    98103  47.6542 -122.346   \n",
       "21577            0.0     2006           NaN    98056  47.5354 -122.181   \n",
       "21578            0.0     2008           0.0    98042  47.3749 -122.107   \n",
       "21579           50.0     2006           NaN    98103  47.6533 -122.346   \n",
       "21580            0.0     2014           0.0    98059  47.4822 -122.131   \n",
       "21582            0.0     2014           0.0    98001  47.2931 -122.264   \n",
       "21583            0.0     2003           NaN    98053  47.6857 -122.046   \n",
       "21585            0.0     2008           0.0    98125  47.6963 -122.318   \n",
       "21587            0.0     2003           0.0    98065  47.5389 -121.881   \n",
       "21588            0.0     2014           0.0    98144  47.5699 -122.288   \n",
       "21589            0.0     2014           0.0    98056  47.5137 -122.167   \n",
       "21590          910.0     2009           0.0    98136  47.5537 -122.398   \n",
       "21591          130.0     2008           0.0    98116  47.5773 -122.409   \n",
       "21592            0.0     2009           0.0    98103  47.6993 -122.346   \n",
       "21593            0.0     2014           0.0    98146  47.5107 -122.362   \n",
       "21595            0.0     2004           0.0    98027  47.5345 -122.069   \n",
       "\n",
       "       sqft_living15  sqft_lot15  \n",
       "4               1800        7503  \n",
       "5               4760      101930  \n",
       "10              2210        8925  \n",
       "15              2140        4000  \n",
       "22              2240        7005  \n",
       "24              2200        6865  \n",
       "26              1760        3573  \n",
       "27              1860        3861  \n",
       "29              2630        6026  \n",
       "30              2580        3980  \n",
       "33              1570        5080  \n",
       "35              1590        3264  \n",
       "37              1730        4700  \n",
       "39              2620       11884  \n",
       "40              2470        5669  \n",
       "41              2410       30617  \n",
       "42              3625        5639  \n",
       "45              3050        9232  \n",
       "47              2680       13685  \n",
       "49              2680       72513  \n",
       "51              1990        9133  \n",
       "54              2730        6000  \n",
       "55              1950        5000  \n",
       "57              2690        4750  \n",
       "58              2960       11044  \n",
       "59              2270        8542  \n",
       "60              2570       18900  \n",
       "62              2500        9500  \n",
       "63              1580        3090  \n",
       "66              2750       11049  \n",
       "...              ...         ...  \n",
       "21557           2290        2664  \n",
       "21558           1640        4800  \n",
       "21559           2927        5183  \n",
       "21561           1710        4502  \n",
       "21563           1710        1686  \n",
       "21564           2850        6000  \n",
       "21565           2850        6000  \n",
       "21566           1460        1375  \n",
       "21570           1430        1249  \n",
       "21571           1520        1497  \n",
       "21572           1210        1118  \n",
       "21573           2540        4571  \n",
       "21574           4560       11063  \n",
       "21575           1810        5641  \n",
       "21576           1180        1224  \n",
       "21577           3030        7980  \n",
       "21578           2530        5988  \n",
       "21579           1530        1282  \n",
       "21580           3550        9421  \n",
       "21582           2673        6500  \n",
       "21583           3370        6814  \n",
       "21585           1285        1253  \n",
       "21587           2270        5731  \n",
       "21588           1400        1230  \n",
       "21589           2520        6023  \n",
       "21590           2050        6200  \n",
       "21591           1330        1265  \n",
       "21592           1530        1509  \n",
       "21593           1830        7200  \n",
       "21595           1410        1287  \n",
       "\n",
       "[9657 rows x 21 columns]"
      ]
     },
     "execution_count": 11,
     "metadata": {},
     "output_type": "execute_result"
    }
   ],
   "source": [
    "price_df_grade_above8"
   ]
  },
  {
   "cell_type": "markdown",
   "metadata": {},
   "source": [
    "**Bedrooms**"
   ]
  },
  {
   "cell_type": "code",
   "execution_count": 12,
   "metadata": {},
   "outputs": [
    {
     "data": {
      "text/plain": [
       "4     4131\n",
       "3     3867\n",
       "5      888\n",
       "2      592\n",
       "6      137\n",
       "7       20\n",
       "1       17\n",
       "8        3\n",
       "10       1\n",
       "9        1\n",
       "Name: bedrooms, dtype: int64"
      ]
     },
     "execution_count": 12,
     "metadata": {},
     "output_type": "execute_result"
    }
   ],
   "source": [
    "price_df_grade_above8['bedrooms'].value_counts()"
   ]
  },
  {
   "cell_type": "code",
   "execution_count": 13,
   "metadata": {},
   "outputs": [
    {
     "data": {
      "text/plain": [
       "False"
      ]
     },
     "execution_count": 13,
     "metadata": {},
     "output_type": "execute_result"
    }
   ],
   "source": [
    "price_df_grade_above8['bedrooms'].isna().any()"
   ]
  },
  {
   "cell_type": "code",
   "execution_count": 15,
   "metadata": {},
   "outputs": [
    {
     "data": {
      "text/plain": [
       "dtype('int64')"
      ]
     },
     "execution_count": 15,
     "metadata": {},
     "output_type": "execute_result"
    }
   ],
   "source": [
    "price_df_grade_above8['bedrooms'].dtype"
   ]
  },
  {
   "cell_type": "code",
   "execution_count": 16,
   "metadata": {
    "scrolled": true
   },
   "outputs": [
    {
     "data": {
      "text/plain": [
       "<matplotlib.axes._subplots.AxesSubplot at 0x1a2067b860>"
      ]
     },
     "execution_count": 16,
     "metadata": {},
     "output_type": "execute_result"
    },
    {
     "data": {
      "image/png": "[encoded data removed]",
      "text/plain": [
       "<Figure size 432x288 with 1 Axes>"
      ]
     },
     "metadata": {
      "needs_background": "light"
     },
     "output_type": "display_data"
    }
   ],
   "source": [
    "sns.boxplot(y = 'bedrooms', data = price_df_grade_above8, showfliers = True)"
   ]
  },
  {
   "cell_type": "code",
   "execution_count": 17,
   "metadata": {},
   "outputs": [
    {
     "data": {
      "text/plain": [
       "<matplotlib.axes._subplots.AxesSubplot at 0x1a20d657b8>"
      ]
     },
     "execution_count": 17,
     "metadata": {},
     "output_type": "execute_result"
    },
    {
     "data": {
      "image/png": "[encoded data removed]",
      "text/plain": [
       "<Figure size 432x288 with 1 Axes>"
      ]
     },
     "metadata": {
      "needs_background": "light"
     },
     "output_type": "display_data"
    }
   ],
   "source": [
    "sns.boxplot(y = 'bedrooms', data = price_df_grade_above8, showfliers = False)"
   ]
  },
  {
   "cell_type": "markdown",
   "metadata": {},
   "source": [
    "Houses with a large amount of bedrooms - which are outliers - may negatively affect our model. We therefore want to remove these from our dataset."
   ]
  },
  {
   "cell_type": "code",
   "execution_count": 18,
   "metadata": {},
   "outputs": [],
   "source": [
    "def remove_outlier(df_in, col_name):\n",
    "   q1 = df_in[col_name].quantile(0.25)\n",
    "   q3 = df_in[col_name].quantile(0.75)\n",
    "   iqr = q3-q1 #this calculates the interquartile range\n",
    "   fence_low  = q1 - (1.5*iqr) #this removes the outliers at the lower range of the dataset for price\n",
    "   fence_high = q3 + (1.5*iqr) #this removes the outliers at the higher range of the dataset for price\n",
    "   df_out = df_in.loc[(df_in[col_name] >= fence_low) & (df_in[col_name] <= fence_high)]\n",
    "   return df_out"
   ]
  },
  {
   "cell_type": "code",
   "execution_count": 19,
   "metadata": {},
   "outputs": [],
   "source": [
    "beds_above8 = remove_outlier(df_grade_above8, 'bedrooms')"
   ]
  },
  {
   "cell_type": "code",
   "execution_count": 20,
   "metadata": {},
   "outputs": [
    {
     "data": {
      "text/html": [
       "<div>\n",
       "<style scoped>\n",
       "    .dataframe tbody tr th:only-of-type {\n",
       "        vertical-align: middle;\n",
       "    }\n",
       "\n",
       "    .dataframe tbody tr th {\n",
       "        vertical-align: top;\n",
       "    }\n",
       "\n",
       "    .dataframe thead th {\n",
       "        text-align: right;\n",
       "    }\n",
       "</style>\n",
       "<table border=\"1\" class=\"dataframe\">\n",
       "  <thead>\n",
       "    <tr style=\"text-align: right;\">\n",
       "      <th></th>\n",
       "      <th>id</th>\n",
       "      <th>date</th>\n",
       "      <th>price</th>\n",
       "      <th>bedrooms</th>\n",
       "      <th>bathrooms</th>\n",
       "      <th>sqft_living</th>\n",
       "      <th>sqft_lot</th>\n",
       "      <th>floors</th>\n",
       "      <th>waterfront</th>\n",
       "      <th>view</th>\n",
       "      <th>...</th>\n",
       "      <th>grade</th>\n",
       "      <th>sqft_above</th>\n",
       "      <th>sqft_basement</th>\n",
       "      <th>yr_built</th>\n",
       "      <th>yr_renovated</th>\n",
       "      <th>zipcode</th>\n",
       "      <th>lat</th>\n",
       "      <th>long</th>\n",
       "      <th>sqft_living15</th>\n",
       "      <th>sqft_lot15</th>\n",
       "    </tr>\n",
       "  </thead>\n",
       "  <tbody>\n",
       "    <tr>\n",
       "      <th>4</th>\n",
       "      <td>1954400510</td>\n",
       "      <td>2/18/2015</td>\n",
       "      <td>510000.0</td>\n",
       "      <td>3</td>\n",
       "      <td>2.00</td>\n",
       "      <td>1680</td>\n",
       "      <td>8080</td>\n",
       "      <td>1.0</td>\n",
       "      <td>0.0</td>\n",
       "      <td>0.0</td>\n",
       "      <td>...</td>\n",
       "      <td>8</td>\n",
       "      <td>1680</td>\n",
       "      <td>0.0</td>\n",
       "      <td>1987</td>\n",
       "      <td>0.0</td>\n",
       "      <td>98074</td>\n",
       "      <td>47.6168</td>\n",
       "      <td>-122.045</td>\n",
       "      <td>1800</td>\n",
       "      <td>7503</td>\n",
       "    </tr>\n",
       "    <tr>\n",
       "      <th>5</th>\n",
       "      <td>7237550310</td>\n",
       "      <td>5/12/2014</td>\n",
       "      <td>1230000.0</td>\n",
       "      <td>4</td>\n",
       "      <td>4.50</td>\n",
       "      <td>5420</td>\n",
       "      <td>101930</td>\n",
       "      <td>1.0</td>\n",
       "      <td>0.0</td>\n",
       "      <td>0.0</td>\n",
       "      <td>...</td>\n",
       "      <td>11</td>\n",
       "      <td>3890</td>\n",
       "      <td>1530.0</td>\n",
       "      <td>2001</td>\n",
       "      <td>0.0</td>\n",
       "      <td>98053</td>\n",
       "      <td>47.6561</td>\n",
       "      <td>-122.005</td>\n",
       "      <td>4760</td>\n",
       "      <td>101930</td>\n",
       "    </tr>\n",
       "    <tr>\n",
       "      <th>10</th>\n",
       "      <td>1736800520</td>\n",
       "      <td>4/3/2015</td>\n",
       "      <td>662500.0</td>\n",
       "      <td>3</td>\n",
       "      <td>2.50</td>\n",
       "      <td>3560</td>\n",
       "      <td>9796</td>\n",
       "      <td>1.0</td>\n",
       "      <td>NaN</td>\n",
       "      <td>0.0</td>\n",
       "      <td>...</td>\n",
       "      <td>8</td>\n",
       "      <td>1860</td>\n",
       "      <td>1700.0</td>\n",
       "      <td>1965</td>\n",
       "      <td>0.0</td>\n",
       "      <td>98007</td>\n",
       "      <td>47.6007</td>\n",
       "      <td>-122.145</td>\n",
       "      <td>2210</td>\n",
       "      <td>8925</td>\n",
       "    </tr>\n",
       "    <tr>\n",
       "      <th>15</th>\n",
       "      <td>9297300055</td>\n",
       "      <td>1/24/2015</td>\n",
       "      <td>650000.0</td>\n",
       "      <td>4</td>\n",
       "      <td>3.00</td>\n",
       "      <td>2950</td>\n",
       "      <td>5000</td>\n",
       "      <td>2.0</td>\n",
       "      <td>0.0</td>\n",
       "      <td>3.0</td>\n",
       "      <td>...</td>\n",
       "      <td>9</td>\n",
       "      <td>1980</td>\n",
       "      <td>970.0</td>\n",
       "      <td>1979</td>\n",
       "      <td>0.0</td>\n",
       "      <td>98126</td>\n",
       "      <td>47.5714</td>\n",
       "      <td>-122.375</td>\n",
       "      <td>2140</td>\n",
       "      <td>4000</td>\n",
       "    </tr>\n",
       "    <tr>\n",
       "      <th>21</th>\n",
       "      <td>2524049179</td>\n",
       "      <td>8/26/2014</td>\n",
       "      <td>2000000.0</td>\n",
       "      <td>3</td>\n",
       "      <td>2.75</td>\n",
       "      <td>3050</td>\n",
       "      <td>44867</td>\n",
       "      <td>1.0</td>\n",
       "      <td>0.0</td>\n",
       "      <td>4.0</td>\n",
       "      <td>...</td>\n",
       "      <td>9</td>\n",
       "      <td>2330</td>\n",
       "      <td>720.0</td>\n",
       "      <td>1968</td>\n",
       "      <td>0.0</td>\n",
       "      <td>98040</td>\n",
       "      <td>47.5316</td>\n",
       "      <td>-122.233</td>\n",
       "      <td>4110</td>\n",
       "      <td>20336</td>\n",
       "    </tr>\n",
       "  </tbody>\n",
       "</table>\n",
       "<p>5 rows × 21 columns</p>\n",
       "</div>"
      ],
      "text/plain": [
       "            id       date      price  bedrooms  bathrooms  sqft_living  \\\n",
       "4   1954400510  2/18/2015   510000.0         3       2.00         1680   \n",
       "5   7237550310  5/12/2014  1230000.0         4       4.50         5420   \n",
       "10  1736800520   4/3/2015   662500.0         3       2.50         3560   \n",
       "15  9297300055  1/24/2015   650000.0         4       3.00         2950   \n",
       "21  2524049179  8/26/2014  2000000.0         3       2.75         3050   \n",
       "\n",
       "    sqft_lot  floors  waterfront  view  ...  grade  sqft_above  sqft_basement  \\\n",
       "4       8080     1.0         0.0   0.0  ...      8        1680            0.0   \n",
       "5     101930     1.0         0.0   0.0  ...     11        3890         1530.0   \n",
       "10      9796     1.0         NaN   0.0  ...      8        1860         1700.0   \n",
       "15      5000     2.0         0.0   3.0  ...      9        1980          970.0   \n",
       "21     44867     1.0         0.0   4.0  ...      9        2330          720.0   \n",
       "\n",
       "   yr_built  yr_renovated  zipcode      lat     long  sqft_living15  \\\n",
       "4      1987           0.0    98074  47.6168 -122.045           1800   \n",
       "5      2001           0.0    98053  47.6561 -122.005           4760   \n",
       "10     1965           0.0    98007  47.6007 -122.145           2210   \n",
       "15     1979           0.0    98126  47.5714 -122.375           2140   \n",
       "21     1968           0.0    98040  47.5316 -122.233           4110   \n",
       "\n",
       "    sqft_lot15  \n",
       "4         7503  \n",
       "5       101930  \n",
       "10        8925  \n",
       "15        4000  \n",
       "21       20336  \n",
       "\n",
       "[5 rows x 21 columns]"
      ]
     },
     "execution_count": 20,
     "metadata": {},
     "output_type": "execute_result"
    }
   ],
   "source": [
    "beds_above8.head()"
   ]
  },
  {
   "cell_type": "code",
   "execution_count": 21,
   "metadata": {},
   "outputs": [
    {
     "data": {
      "text/plain": [
       "<matplotlib.axes._subplots.AxesSubplot at 0x1a207962e8>"
      ]
     },
     "execution_count": 21,
     "metadata": {},
     "output_type": "execute_result"
    },
    {
     "data": {
      "image/png": "[encoded data removed]",
      "text/plain": [
       "<Figure size 432x288 with 1 Axes>"
      ]
     },
     "metadata": {
      "needs_background": "light"
     },
     "output_type": "display_data"
    }
   ],
   "source": [
    "sns.boxplot(x = 'bedrooms', y = 'price', data = beds_above8, showfliers = False)"
   ]
  },
  {
   "cell_type": "code",
   "execution_count": 22,
   "metadata": {},
   "outputs": [
    {
     "data": {
      "text/plain": [
       "<matplotlib.axes._subplots.AxesSubplot at 0x1a210f7898>"
      ]
     },
     "execution_count": 22,
     "metadata": {},
     "output_type": "execute_result"
    },
    {
     "data": {
      "image/png": "[encoded data removed]",
      "text/plain": [
       "<Figure size 432x288 with 1 Axes>"
      ]
     },
     "metadata": {
      "needs_background": "light"
     },
     "output_type": "display_data"
    }
   ],
   "source": [
    "sns.boxplot(x = 'bedrooms', y = 'price', data = beds_above8, showfliers = True)"
   ]
  },
  {
   "cell_type": "markdown",
   "metadata": {},
   "source": [
    "There seems to be a slight increase in price as the number of bedrooms increases for houses with a grade above 8."
   ]
  },
  {
   "cell_type": "markdown",
   "metadata": {},
   "source": [
    "**Bathrooms**"
   ]
  },
  {
   "cell_type": "code",
   "execution_count": 23,
   "metadata": {},
   "outputs": [
    {
     "data": {
      "text/plain": [
       "False"
      ]
     },
     "execution_count": 23,
     "metadata": {},
     "output_type": "execute_result"
    }
   ],
   "source": [
    "beds_above8['bathrooms'].isna().any()"
   ]
  },
  {
   "cell_type": "code",
   "execution_count": 24,
   "metadata": {
    "scrolled": true
   },
   "outputs": [
    {
     "data": {
      "text/plain": [
       "<bound method IndexOpsMixin.value_counts of 4        2.00\n",
       "5        4.50\n",
       "10       2.50\n",
       "15       3.00\n",
       "21       2.75\n",
       "22       2.50\n",
       "24       2.25\n",
       "26       1.75\n",
       "27       1.00\n",
       "29       2.50\n",
       "30       2.50\n",
       "33       1.00\n",
       "35       2.50\n",
       "37       2.00\n",
       "39       2.50\n",
       "40       2.50\n",
       "41       2.25\n",
       "42       2.75\n",
       "45       2.50\n",
       "47       2.50\n",
       "49       2.50\n",
       "51       2.50\n",
       "54       2.25\n",
       "55       2.50\n",
       "57       2.50\n",
       "58       3.25\n",
       "59       3.00\n",
       "60       2.25\n",
       "62       1.75\n",
       "63       1.75\n",
       "         ... \n",
       "21560    4.50\n",
       "21561    3.25\n",
       "21563    3.25\n",
       "21564    3.00\n",
       "21565    3.00\n",
       "21566    2.25\n",
       "21570    2.50\n",
       "21571    2.50\n",
       "21572    1.50\n",
       "21573    2.50\n",
       "21574    3.50\n",
       "21575    2.75\n",
       "21576    2.25\n",
       "21577    3.75\n",
       "21578    2.75\n",
       "21579    2.25\n",
       "21580    2.75\n",
       "21581    3.25\n",
       "21582    2.50\n",
       "21583    3.00\n",
       "21584    3.75\n",
       "21585    2.50\n",
       "21587    2.50\n",
       "21588    2.00\n",
       "21589    2.50\n",
       "21590    3.50\n",
       "21591    2.50\n",
       "21592    2.50\n",
       "21593    2.50\n",
       "21595    2.50\n",
       "Name: bathrooms, Length: 10098, dtype: float64>"
      ]
     },
     "execution_count": 24,
     "metadata": {},
     "output_type": "execute_result"
    }
   ],
   "source": [
    "beds_above8['bathrooms'].value_counts"
   ]
  },
  {
   "cell_type": "code",
   "execution_count": 25,
   "metadata": {},
   "outputs": [
    {
     "data": {
      "text/plain": [
       "<matplotlib.axes._subplots.AxesSubplot at 0x1a211d9860>"
      ]
     },
     "execution_count": 25,
     "metadata": {},
     "output_type": "execute_result"
    },
    {
     "data": {
      "image/png": "[encoded data removed]",
      "text/plain": [
       "<Figure size 432x288 with 1 Axes>"
      ]
     },
     "metadata": {
      "needs_background": "light"
     },
     "output_type": "display_data"
    }
   ],
   "source": [
    "sns.boxplot(x = 'bathrooms', y = 'price', data = beds_above8, showfliers = True)"
   ]
  },
  {
   "cell_type": "markdown",
   "metadata": {},
   "source": [
    "The price of a house of above average grade does increase as the number of bathrooms it has increases."
   ]
  },
  {
   "cell_type": "markdown",
   "metadata": {},
   "source": [
    "**Sqft living**"
   ]
  },
  {
   "cell_type": "code",
   "execution_count": 26,
   "metadata": {},
   "outputs": [
    {
     "data": {
      "text/plain": [
       "0"
      ]
     },
     "execution_count": 26,
     "metadata": {},
     "output_type": "execute_result"
    }
   ],
   "source": [
    "beds_above8['sqft_living'].isna().sum()"
   ]
  },
  {
   "cell_type": "code",
   "execution_count": 27,
   "metadata": {
    "scrolled": true
   },
   "outputs": [
    {
     "data": {
      "text/plain": [
       "<bound method IndexOpsMixin.value_counts of 4        1680\n",
       "5        5420\n",
       "10       3560\n",
       "15       2950\n",
       "21       3050\n",
       "22       2270\n",
       "24       2450\n",
       "26       2450\n",
       "27       1400\n",
       "29       2570\n",
       "30       2320\n",
       "33       1090\n",
       "35       2300\n",
       "37       2360\n",
       "39       2620\n",
       "40       2570\n",
       "41       4220\n",
       "42       3595\n",
       "45       3160\n",
       "47       2290\n",
       "49       2753\n",
       "51       3150\n",
       "54       2730\n",
       "55       2830\n",
       "57       2420\n",
       "58       3250\n",
       "59       1850\n",
       "60       2150\n",
       "62       2519\n",
       "63       1540\n",
       "         ... \n",
       "21560    4850\n",
       "21561    1900\n",
       "21563    1730\n",
       "21564    2780\n",
       "21565    2780\n",
       "21566    1500\n",
       "21570    1430\n",
       "21571    1520\n",
       "21572    1210\n",
       "21573    2540\n",
       "21574    4910\n",
       "21575    2770\n",
       "21576    1190\n",
       "21577    4170\n",
       "21578    2500\n",
       "21579    1530\n",
       "21580    3600\n",
       "21581    3410\n",
       "21582    3118\n",
       "21583    3990\n",
       "21584    4470\n",
       "21585    1425\n",
       "21587    2270\n",
       "21588    1490\n",
       "21589    2520\n",
       "21590    3510\n",
       "21591    1310\n",
       "21592    1530\n",
       "21593    2310\n",
       "21595    1600\n",
       "Name: sqft_living, Length: 10098, dtype: int64>"
      ]
     },
     "execution_count": 27,
     "metadata": {},
     "output_type": "execute_result"
    }
   ],
   "source": [
    "beds_above8['sqft_living'].value_counts"
   ]
  },
  {
   "cell_type": "code",
   "execution_count": 28,
   "metadata": {
    "scrolled": true
   },
   "outputs": [
    {
     "data": {
      "image/png": "[encoded data removed]",
      "text/plain": [
       "<Figure size 1440x720 with 1 Axes>"
      ]
     },
     "metadata": {
      "needs_background": "light"
     },
     "output_type": "display_data"
    }
   ],
   "source": [
    "plt.figure(figsize = (20,10))\n",
    "\n",
    "ax = sns.scatterplot(x=\"sqft_living\", y=\"price\",\n",
    "                      data=df)"
   ]
  },
  {
   "cell_type": "markdown",
   "metadata": {},
   "source": [
    "There seems to be a clear trend here: the larger the house, the higher its price will be."
   ]
  },
  {
   "cell_type": "markdown",
   "metadata": {},
   "source": [
    "**Sqft lot**"
   ]
  },
  {
   "cell_type": "code",
   "execution_count": 29,
   "metadata": {},
   "outputs": [
    {
     "data": {
      "text/plain": [
       "0"
      ]
     },
     "execution_count": 29,
     "metadata": {},
     "output_type": "execute_result"
    }
   ],
   "source": [
    "beds_above8['sqft_lot'].isna().sum()"
   ]
  },
  {
   "cell_type": "code",
   "execution_count": 30,
   "metadata": {},
   "outputs": [
    {
     "data": {
      "text/plain": [
       "5000      126\n",
       "4000      100\n",
       "6000       97\n",
       "7200       64\n",
       "3600       48\n",
       "4500       44\n",
       "5500       33\n",
       "8400       32\n",
       "7000       30\n",
       "4800       30\n",
       "7500       30\n",
       "9000       29\n",
       "7350       29\n",
       "9600       28\n",
       "8000       28\n",
       "5400       25\n",
       "7800       25\n",
       "4400       22\n",
       "10800      21\n",
       "7700       20\n",
       "4200       19\n",
       "10000      19\n",
       "5100       19\n",
       "3000       17\n",
       "6500       17\n",
       "9900       16\n",
       "5750       16\n",
       "8100       14\n",
       "4080       14\n",
       "12000      14\n",
       "         ... \n",
       "10256       1\n",
       "6166        1\n",
       "4119        1\n",
       "2076        1\n",
       "6174        1\n",
       "18731       1\n",
       "6182        1\n",
       "22518       1\n",
       "8175        1\n",
       "38830       1\n",
       "10184       1\n",
       "1972        1\n",
       "40887       1\n",
       "26413       1\n",
       "167869      1\n",
       "6078        1\n",
       "14274       1\n",
       "49091       1\n",
       "6086        1\n",
       "47050       1\n",
       "4069        1\n",
       "4045        1\n",
       "24527       1\n",
       "10192       1\n",
       "16339       1\n",
       "6110        1\n",
       "8159        1\n",
       "10208       1\n",
       "2020        1\n",
       "53250       1\n",
       "Name: sqft_lot, Length: 6533, dtype: int64"
      ]
     },
     "execution_count": 30,
     "metadata": {},
     "output_type": "execute_result"
    }
   ],
   "source": [
    "beds_above8['sqft_lot'].value_counts()"
   ]
  },
  {
   "cell_type": "code",
   "execution_count": 31,
   "metadata": {
    "scrolled": false
   },
   "outputs": [
    {
     "data": {
      "image/png": "[encoded data removed]",
      "text/plain": [
       "<Figure size 1440x720 with 1 Axes>"
      ]
     },
     "metadata": {
      "needs_background": "light"
     },
     "output_type": "display_data"
    }
   ],
   "source": [
    "plt.figure(figsize = (20,10))\n",
    "\n",
    "ax = sns.scatterplot(x=\"sqft_lot\", y=\"price\",\n",
    "                      data=df)"
   ]
  },
  {
   "cell_type": "markdown",
   "metadata": {},
   "source": [
    "The trend does not seem so clear here. There are many houses with a sqft lot which is the same size as the sqft living, and there is a very low rise in price as the size of the lot increases (where this differs from the size of the living area)."
   ]
  },
  {
   "cell_type": "markdown",
   "metadata": {},
   "source": [
    "**Floors**"
   ]
  },
  {
   "cell_type": "code",
   "execution_count": 32,
   "metadata": {},
   "outputs": [
    {
     "data": {
      "text/plain": [
       "0"
      ]
     },
     "execution_count": 32,
     "metadata": {},
     "output_type": "execute_result"
    }
   ],
   "source": [
    "beds_above8['floors'].isna().sum()"
   ]
  },
  {
   "cell_type": "code",
   "execution_count": 33,
   "metadata": {},
   "outputs": [
    {
     "data": {
      "text/plain": [
       "2.0    6120\n",
       "1.0    2805\n",
       "1.5     534\n",
       "3.0     504\n",
       "2.5     129\n",
       "3.5       6\n",
       "Name: floors, dtype: int64"
      ]
     },
     "execution_count": 33,
     "metadata": {},
     "output_type": "execute_result"
    }
   ],
   "source": [
    "beds_above8['floors'].value_counts()"
   ]
  },
  {
   "cell_type": "code",
   "execution_count": 34,
   "metadata": {},
   "outputs": [
    {
     "data": {
      "image/png": "[encoded data removed]",
      "text/plain": [
       "<Figure size 1440x720 with 1 Axes>"
      ]
     },
     "metadata": {
      "needs_background": "light"
     },
     "output_type": "display_data"
    }
   ],
   "source": [
    "plt.figure(figsize = (20,10))\n",
    "\n",
    "ax = sns.scatterplot(x=\"floors\", y=\"price\",\n",
    "                      data=beds_above8)"
   ]
  },
  {
   "cell_type": "markdown",
   "metadata": {},
   "source": [
    "The trend is not clear here either - in fact, house prices seem to increase with the number of floors until this reaches 2. Beyond this, house prices actually fall. Moreover, houses with a mezzanine (1.5 floors) are cheaper than houses with one floor only."
   ]
  },
  {
   "cell_type": "markdown",
   "metadata": {},
   "source": [
    "**Waterfront**"
   ]
  },
  {
   "cell_type": "code",
   "execution_count": 35,
   "metadata": {},
   "outputs": [
    {
     "name": "stderr",
     "output_type": "stream",
     "text": [
      "/Users/flatironschool/anaconda3/lib/python3.7/site-packages/pandas/core/generic.py:6130: SettingWithCopyWarning: \n",
      "A value is trying to be set on a copy of a slice from a DataFrame\n",
      "\n",
      "See the caveats in the documentation: http://pandas.pydata.org/pandas-docs/stable/indexing.html#indexing-view-versus-copy\n",
      "  self._update_inplace(new_data)\n"
     ]
    }
   ],
   "source": [
    "beds_above8[\"waterfront\"].fillna(int(0), inplace = True)"
   ]
  },
  {
   "cell_type": "code",
   "execution_count": 36,
   "metadata": {},
   "outputs": [
    {
     "data": {
      "text/html": [
       "<div>\n",
       "<style scoped>\n",
       "    .dataframe tbody tr th:only-of-type {\n",
       "        vertical-align: middle;\n",
       "    }\n",
       "\n",
       "    .dataframe tbody tr th {\n",
       "        vertical-align: top;\n",
       "    }\n",
       "\n",
       "    .dataframe thead th {\n",
       "        text-align: right;\n",
       "    }\n",
       "</style>\n",
       "<table border=\"1\" class=\"dataframe\">\n",
       "  <thead>\n",
       "    <tr style=\"text-align: right;\">\n",
       "      <th></th>\n",
       "      <th>id</th>\n",
       "      <th>date</th>\n",
       "      <th>price</th>\n",
       "      <th>bedrooms</th>\n",
       "      <th>bathrooms</th>\n",
       "      <th>sqft_living</th>\n",
       "      <th>sqft_lot</th>\n",
       "      <th>floors</th>\n",
       "      <th>waterfront</th>\n",
       "      <th>view</th>\n",
       "      <th>...</th>\n",
       "      <th>grade</th>\n",
       "      <th>sqft_above</th>\n",
       "      <th>sqft_basement</th>\n",
       "      <th>yr_built</th>\n",
       "      <th>yr_renovated</th>\n",
       "      <th>zipcode</th>\n",
       "      <th>lat</th>\n",
       "      <th>long</th>\n",
       "      <th>sqft_living15</th>\n",
       "      <th>sqft_lot15</th>\n",
       "    </tr>\n",
       "  </thead>\n",
       "  <tbody>\n",
       "    <tr>\n",
       "      <th>4</th>\n",
       "      <td>1954400510</td>\n",
       "      <td>2/18/2015</td>\n",
       "      <td>510000.0</td>\n",
       "      <td>3</td>\n",
       "      <td>2.00</td>\n",
       "      <td>1680</td>\n",
       "      <td>8080</td>\n",
       "      <td>1.0</td>\n",
       "      <td>0.0</td>\n",
       "      <td>0.0</td>\n",
       "      <td>...</td>\n",
       "      <td>8</td>\n",
       "      <td>1680</td>\n",
       "      <td>0.0</td>\n",
       "      <td>1987</td>\n",
       "      <td>0.0</td>\n",
       "      <td>98074</td>\n",
       "      <td>47.6168</td>\n",
       "      <td>-122.045</td>\n",
       "      <td>1800</td>\n",
       "      <td>7503</td>\n",
       "    </tr>\n",
       "    <tr>\n",
       "      <th>5</th>\n",
       "      <td>7237550310</td>\n",
       "      <td>5/12/2014</td>\n",
       "      <td>1230000.0</td>\n",
       "      <td>4</td>\n",
       "      <td>4.50</td>\n",
       "      <td>5420</td>\n",
       "      <td>101930</td>\n",
       "      <td>1.0</td>\n",
       "      <td>0.0</td>\n",
       "      <td>0.0</td>\n",
       "      <td>...</td>\n",
       "      <td>11</td>\n",
       "      <td>3890</td>\n",
       "      <td>1530.0</td>\n",
       "      <td>2001</td>\n",
       "      <td>0.0</td>\n",
       "      <td>98053</td>\n",
       "      <td>47.6561</td>\n",
       "      <td>-122.005</td>\n",
       "      <td>4760</td>\n",
       "      <td>101930</td>\n",
       "    </tr>\n",
       "    <tr>\n",
       "      <th>10</th>\n",
       "      <td>1736800520</td>\n",
       "      <td>4/3/2015</td>\n",
       "      <td>662500.0</td>\n",
       "      <td>3</td>\n",
       "      <td>2.50</td>\n",
       "      <td>3560</td>\n",
       "      <td>9796</td>\n",
       "      <td>1.0</td>\n",
       "      <td>0.0</td>\n",
       "      <td>0.0</td>\n",
       "      <td>...</td>\n",
       "      <td>8</td>\n",
       "      <td>1860</td>\n",
       "      <td>1700.0</td>\n",
       "      <td>1965</td>\n",
       "      <td>0.0</td>\n",
       "      <td>98007</td>\n",
       "      <td>47.6007</td>\n",
       "      <td>-122.145</td>\n",
       "      <td>2210</td>\n",
       "      <td>8925</td>\n",
       "    </tr>\n",
       "    <tr>\n",
       "      <th>15</th>\n",
       "      <td>9297300055</td>\n",
       "      <td>1/24/2015</td>\n",
       "      <td>650000.0</td>\n",
       "      <td>4</td>\n",
       "      <td>3.00</td>\n",
       "      <td>2950</td>\n",
       "      <td>5000</td>\n",
       "      <td>2.0</td>\n",
       "      <td>0.0</td>\n",
       "      <td>3.0</td>\n",
       "      <td>...</td>\n",
       "      <td>9</td>\n",
       "      <td>1980</td>\n",
       "      <td>970.0</td>\n",
       "      <td>1979</td>\n",
       "      <td>0.0</td>\n",
       "      <td>98126</td>\n",
       "      <td>47.5714</td>\n",
       "      <td>-122.375</td>\n",
       "      <td>2140</td>\n",
       "      <td>4000</td>\n",
       "    </tr>\n",
       "    <tr>\n",
       "      <th>21</th>\n",
       "      <td>2524049179</td>\n",
       "      <td>8/26/2014</td>\n",
       "      <td>2000000.0</td>\n",
       "      <td>3</td>\n",
       "      <td>2.75</td>\n",
       "      <td>3050</td>\n",
       "      <td>44867</td>\n",
       "      <td>1.0</td>\n",
       "      <td>0.0</td>\n",
       "      <td>4.0</td>\n",
       "      <td>...</td>\n",
       "      <td>9</td>\n",
       "      <td>2330</td>\n",
       "      <td>720.0</td>\n",
       "      <td>1968</td>\n",
       "      <td>0.0</td>\n",
       "      <td>98040</td>\n",
       "      <td>47.5316</td>\n",
       "      <td>-122.233</td>\n",
       "      <td>4110</td>\n",
       "      <td>20336</td>\n",
       "    </tr>\n",
       "  </tbody>\n",
       "</table>\n",
       "<p>5 rows × 21 columns</p>\n",
       "</div>"
      ],
      "text/plain": [
       "            id       date      price  bedrooms  bathrooms  sqft_living  \\\n",
       "4   1954400510  2/18/2015   510000.0         3       2.00         1680   \n",
       "5   7237550310  5/12/2014  1230000.0         4       4.50         5420   \n",
       "10  1736800520   4/3/2015   662500.0         3       2.50         3560   \n",
       "15  9297300055  1/24/2015   650000.0         4       3.00         2950   \n",
       "21  2524049179  8/26/2014  2000000.0         3       2.75         3050   \n",
       "\n",
       "    sqft_lot  floors  waterfront  view  ...  grade  sqft_above  sqft_basement  \\\n",
       "4       8080     1.0         0.0   0.0  ...      8        1680            0.0   \n",
       "5     101930     1.0         0.0   0.0  ...     11        3890         1530.0   \n",
       "10      9796     1.0         0.0   0.0  ...      8        1860         1700.0   \n",
       "15      5000     2.0         0.0   3.0  ...      9        1980          970.0   \n",
       "21     44867     1.0         0.0   4.0  ...      9        2330          720.0   \n",
       "\n",
       "   yr_built  yr_renovated  zipcode      lat     long  sqft_living15  \\\n",
       "4      1987           0.0    98074  47.6168 -122.045           1800   \n",
       "5      2001           0.0    98053  47.6561 -122.005           4760   \n",
       "10     1965           0.0    98007  47.6007 -122.145           2210   \n",
       "15     1979           0.0    98126  47.5714 -122.375           2140   \n",
       "21     1968           0.0    98040  47.5316 -122.233           4110   \n",
       "\n",
       "    sqft_lot15  \n",
       "4         7503  \n",
       "5       101930  \n",
       "10        8925  \n",
       "15        4000  \n",
       "21       20336  \n",
       "\n",
       "[5 rows x 21 columns]"
      ]
     },
     "execution_count": 36,
     "metadata": {},
     "output_type": "execute_result"
    }
   ],
   "source": [
    "beds_above8.head()"
   ]
  },
  {
   "cell_type": "code",
   "execution_count": 37,
   "metadata": {},
   "outputs": [
    {
     "data": {
      "text/plain": [
       "0.0    9991\n",
       "1.0     107\n",
       "Name: waterfront, dtype: int64"
      ]
     },
     "execution_count": 37,
     "metadata": {},
     "output_type": "execute_result"
    }
   ],
   "source": [
    "beds_above8['waterfront'].value_counts()"
   ]
  },
  {
   "cell_type": "code",
   "execution_count": 38,
   "metadata": {},
   "outputs": [
    {
     "data": {
      "text/plain": [
       "<matplotlib.axes._subplots.AxesSubplot at 0x1a21b23dd8>"
      ]
     },
     "execution_count": 38,
     "metadata": {},
     "output_type": "execute_result"
    },
    {
     "data": {
      "image/png": "[encoded data removed]",
      "text/plain": [
       "<Figure size 432x288 with 1 Axes>"
      ]
     },
     "metadata": {
      "needs_background": "light"
     },
     "output_type": "display_data"
    }
   ],
   "source": [
    "sns.boxplot(x = 'waterfront', y = 'price', data = beds_above8)"
   ]
  },
  {
   "cell_type": "markdown",
   "metadata": {},
   "source": [
    "We can see that having a view of the waterfront increases a house's sales price."
   ]
  },
  {
   "cell_type": "markdown",
   "metadata": {},
   "source": [
    "**Condition**"
   ]
  },
  {
   "cell_type": "code",
   "execution_count": 39,
   "metadata": {},
   "outputs": [
    {
     "data": {
      "text/plain": [
       "0"
      ]
     },
     "execution_count": 39,
     "metadata": {},
     "output_type": "execute_result"
    }
   ],
   "source": [
    "beds_above8['condition'].isna().sum()"
   ]
  },
  {
   "cell_type": "code",
   "execution_count": 40,
   "metadata": {
    "scrolled": true
   },
   "outputs": [
    {
     "data": {
      "text/plain": [
       "3    7514\n",
       "4    2000\n",
       "5     565\n",
       "2      17\n",
       "1       2\n",
       "Name: condition, dtype: int64"
      ]
     },
     "execution_count": 40,
     "metadata": {},
     "output_type": "execute_result"
    }
   ],
   "source": [
    "beds_above8['condition'].value_counts()"
   ]
  },
  {
   "cell_type": "markdown",
   "metadata": {},
   "source": [
    "At this stage, we do not know how the condition of a house is rated. Is a '1' high, or is a '5'? If we plot price against condition, this might give us a better idea. We would assume that houses with a higher condition have a higher price."
   ]
  },
  {
   "cell_type": "code",
   "execution_count": 41,
   "metadata": {},
   "outputs": [
    {
     "data": {
      "image/png": "[encoded data removed]",
      "text/plain": [
       "<Figure size 1440x720 with 1 Axes>"
      ]
     },
     "metadata": {
      "needs_background": "light"
     },
     "output_type": "display_data"
    }
   ],
   "source": [
    "plt.figure(figsize = (20,10))\n",
    "\n",
    "ax = sns.scatterplot(x=\"condition\", y=\"price\",\n",
    "                      data=beds_above8)"
   ]
  },
  {
   "cell_type": "markdown",
   "metadata": {},
   "source": [
    "It does seem that prices with a higher condition rating will have a higher price."
   ]
  },
  {
   "cell_type": "code",
   "execution_count": 42,
   "metadata": {},
   "outputs": [
    {
     "data": {
      "text/plain": [
       "<matplotlib.axes._subplots.AxesSubplot at 0x1a21e5c470>"
      ]
     },
     "execution_count": 42,
     "metadata": {},
     "output_type": "execute_result"
    },
    {
     "data": {
      "image/png": "[encoded data removed]",
      "text/plain": [
       "<Figure size 432x288 with 1 Axes>"
      ]
     },
     "metadata": {
      "needs_background": "light"
     },
     "output_type": "display_data"
    }
   ],
   "source": [
    "sns.boxplot(x = 'condition', y = 'price', data = beds_above8)"
   ]
  },
  {
   "cell_type": "markdown",
   "metadata": {},
   "source": [
    "The condition of a house doesn't seem to affect its price; in fact, houses with a low condition rating have a higher average price than houses with a high condition rating."
   ]
  },
  {
   "cell_type": "markdown",
   "metadata": {},
   "source": [
    "**Latitude**"
   ]
  },
  {
   "cell_type": "code",
   "execution_count": 59,
   "metadata": {},
   "outputs": [
    {
     "data": {
      "text/plain": [
       "False"
      ]
     },
     "execution_count": 59,
     "metadata": {},
     "output_type": "execute_result"
    }
   ],
   "source": [
    "beds_above8['lat'].isna().any() "
   ]
  },
  {
   "cell_type": "code",
   "execution_count": 61,
   "metadata": {},
   "outputs": [
    {
     "data": {
      "image/png": "[encoded data removed]",
      "text/plain": [
       "<Figure size 1440x720 with 1 Axes>"
      ]
     },
     "metadata": {
      "needs_background": "light"
     },
     "output_type": "display_data"
    }
   ],
   "source": [
    "plt.figure(figsize = (20,10))\n",
    "\n",
    "ax = sns.scatterplot(x=\"lat\", y=\"price\",\n",
    "                      data=beds_above8)"
   ]
  },
  {
   "cell_type": "markdown",
   "metadata": {},
   "source": [
    "There seems to be a slightly interesting relationship here: as the latitude of a house increases, its price tends to increase (so the further north a house is, the higher its price)."
   ]
  },
  {
   "cell_type": "markdown",
   "metadata": {},
   "source": [
    "**Longitude**"
   ]
  },
  {
   "cell_type": "code",
   "execution_count": 62,
   "metadata": {},
   "outputs": [
    {
     "data": {
      "text/plain": [
       "False"
      ]
     },
     "execution_count": 62,
     "metadata": {},
     "output_type": "execute_result"
    }
   ],
   "source": [
    "beds_above8['long'].isna().any()"
   ]
  },
  {
   "cell_type": "code",
   "execution_count": 63,
   "metadata": {},
   "outputs": [
    {
     "data": {
      "image/png": "[encoded data removed]",
      "text/plain": [
       "<Figure size 1440x720 with 1 Axes>"
      ]
     },
     "metadata": {
      "needs_background": "light"
     },
     "output_type": "display_data"
    }
   ],
   "source": [
    "plt.figure(figsize = (20,10))\n",
    "\n",
    "ax = sns.scatterplot(x=\"long\", y=\"price\",\n",
    "                      data=beds_above8)"
   ]
  },
  {
   "cell_type": "markdown",
   "metadata": {},
   "source": [
    "The houses which are in higher longitudes have a higher price."
   ]
  },
  {
   "cell_type": "code",
   "execution_count": null,
   "metadata": {},
   "outputs": [],
   "source": [
    "**Sqft living nearest 15 neighbours**"
   ]
  },
  {
   "cell_type": "code",
   "execution_count": 66,
   "metadata": {},
   "outputs": [
    {
     "data": {
      "text/plain": [
       "False"
      ]
     },
     "execution_count": 66,
     "metadata": {},
     "output_type": "execute_result"
    }
   ],
   "source": [
    "beds_above8['sqft_living15'].isna().any()"
   ]
  },
  {
   "cell_type": "code",
   "execution_count": 67,
   "metadata": {
    "scrolled": false
   },
   "outputs": [
    {
     "data": {
      "image/png": "[encoded data removed]",
      "text/plain": [
       "<Figure size 1440x720 with 1 Axes>"
      ]
     },
     "metadata": {
      "needs_background": "light"
     },
     "output_type": "display_data"
    }
   ],
   "source": [
    "plt.figure(figsize = (20,10))\n",
    "\n",
    "ax = sns.scatterplot(x=\"sqft_living15\", y=\"price\",\n",
    "                      data=beds_above8)"
   ]
  },
  {
   "cell_type": "markdown",
   "metadata": {},
   "source": [
    "There seems to be a relation here: the larger the mean size of houses surrounding a house, the higher its price will be."
   ]
  },
  {
   "cell_type": "code",
   "execution_count": null,
   "metadata": {},
   "outputs": [],
   "source": []
  },
  {
   "cell_type": "code",
   "execution_count": null,
   "metadata": {},
   "outputs": [],
   "source": []
  },
  {
   "cell_type": "markdown",
   "metadata": {},
   "source": [
    "**TO DO**"
   ]
  },
  {
   "cell_type": "code",
   "execution_count": null,
   "metadata": {},
   "outputs": [],
   "source": [
    "#we need to create a new column here with yes and no values for whether a house has been renovated or not "
   ]
  },
  {
   "cell_type": "markdown",
   "metadata": {},
   "source": [
    "**Year renovated**"
   ]
  },
  {
   "cell_type": "code",
   "execution_count": 68,
   "metadata": {},
   "outputs": [
    {
     "data": {
      "text/plain": [
       "1776"
      ]
     },
     "execution_count": 68,
     "metadata": {},
     "output_type": "execute_result"
    }
   ],
   "source": [
    "beds_above8['yr_renovated'].isna().sum()"
   ]
  },
  {
   "cell_type": "code",
   "execution_count": 69,
   "metadata": {},
   "outputs": [
    {
     "data": {
      "text/plain": [
       "0    0.0\n",
       "dtype: float64"
      ]
     },
     "execution_count": 69,
     "metadata": {},
     "output_type": "execute_result"
    }
   ],
   "source": [
    "beds_above8['yr_renovated'].mode()"
   ]
  },
  {
   "cell_type": "code",
   "execution_count": 71,
   "metadata": {
    "scrolled": true
   },
   "outputs": [
    {
     "data": {
      "text/plain": [
       "True     7950\n",
       "False    2148\n",
       "Name: yr_renovated, dtype: int64"
      ]
     },
     "execution_count": 71,
     "metadata": {},
     "output_type": "execute_result"
    }
   ],
   "source": [
    "(beds_above8['yr_renovated'] == 0.0).value_counts()"
   ]
  },
  {
   "cell_type": "code",
   "execution_count": 72,
   "metadata": {},
   "outputs": [
    {
     "name": "stderr",
     "output_type": "stream",
     "text": [
      "/Users/flatironschool/anaconda3/lib/python3.7/site-packages/pandas/core/generic.py:6130: SettingWithCopyWarning: \n",
      "A value is trying to be set on a copy of a slice from a DataFrame\n",
      "\n",
      "See the caveats in the documentation: http://pandas.pydata.org/pandas-docs/stable/indexing.html#indexing-view-versus-copy\n",
      "  self._update_inplace(new_data)\n"
     ]
    }
   ],
   "source": [
    "beds_above8[\"yr_renovated\"].fillna(int(0), inplace = True)"
   ]
  },
  {
   "cell_type": "code",
   "execution_count": 73,
   "metadata": {},
   "outputs": [
    {
     "data": {
      "text/html": [
       "<div>\n",
       "<style scoped>\n",
       "    .dataframe tbody tr th:only-of-type {\n",
       "        vertical-align: middle;\n",
       "    }\n",
       "\n",
       "    .dataframe tbody tr th {\n",
       "        vertical-align: top;\n",
       "    }\n",
       "\n",
       "    .dataframe thead th {\n",
       "        text-align: right;\n",
       "    }\n",
       "</style>\n",
       "<table border=\"1\" class=\"dataframe\">\n",
       "  <thead>\n",
       "    <tr style=\"text-align: right;\">\n",
       "      <th></th>\n",
       "      <th>id</th>\n",
       "      <th>date</th>\n",
       "      <th>price</th>\n",
       "      <th>bedrooms</th>\n",
       "      <th>bathrooms</th>\n",
       "      <th>sqft_living</th>\n",
       "      <th>sqft_lot</th>\n",
       "      <th>floors</th>\n",
       "      <th>waterfront</th>\n",
       "      <th>view</th>\n",
       "      <th>...</th>\n",
       "      <th>sqft_above</th>\n",
       "      <th>sqft_basement</th>\n",
       "      <th>yr_built</th>\n",
       "      <th>yr_renovated</th>\n",
       "      <th>zipcode</th>\n",
       "      <th>lat</th>\n",
       "      <th>long</th>\n",
       "      <th>sqft_living15</th>\n",
       "      <th>sqft_lot15</th>\n",
       "      <th>year_sold</th>\n",
       "    </tr>\n",
       "  </thead>\n",
       "  <tbody>\n",
       "    <tr>\n",
       "      <th>4</th>\n",
       "      <td>1954400510</td>\n",
       "      <td>2/18/2015</td>\n",
       "      <td>510000.0</td>\n",
       "      <td>3</td>\n",
       "      <td>2.00</td>\n",
       "      <td>1680</td>\n",
       "      <td>8080</td>\n",
       "      <td>1.0</td>\n",
       "      <td>0.0</td>\n",
       "      <td>0.0</td>\n",
       "      <td>...</td>\n",
       "      <td>1680</td>\n",
       "      <td>0.0</td>\n",
       "      <td>1987</td>\n",
       "      <td>0.0</td>\n",
       "      <td>98074</td>\n",
       "      <td>47.6168</td>\n",
       "      <td>-122.045</td>\n",
       "      <td>1800</td>\n",
       "      <td>7503</td>\n",
       "      <td>2015</td>\n",
       "    </tr>\n",
       "    <tr>\n",
       "      <th>5</th>\n",
       "      <td>7237550310</td>\n",
       "      <td>5/12/2014</td>\n",
       "      <td>1230000.0</td>\n",
       "      <td>4</td>\n",
       "      <td>4.50</td>\n",
       "      <td>5420</td>\n",
       "      <td>101930</td>\n",
       "      <td>1.0</td>\n",
       "      <td>0.0</td>\n",
       "      <td>0.0</td>\n",
       "      <td>...</td>\n",
       "      <td>3890</td>\n",
       "      <td>1530.0</td>\n",
       "      <td>2001</td>\n",
       "      <td>0.0</td>\n",
       "      <td>98053</td>\n",
       "      <td>47.6561</td>\n",
       "      <td>-122.005</td>\n",
       "      <td>4760</td>\n",
       "      <td>101930</td>\n",
       "      <td>2014</td>\n",
       "    </tr>\n",
       "    <tr>\n",
       "      <th>10</th>\n",
       "      <td>1736800520</td>\n",
       "      <td>4/3/2015</td>\n",
       "      <td>662500.0</td>\n",
       "      <td>3</td>\n",
       "      <td>2.50</td>\n",
       "      <td>3560</td>\n",
       "      <td>9796</td>\n",
       "      <td>1.0</td>\n",
       "      <td>0.0</td>\n",
       "      <td>0.0</td>\n",
       "      <td>...</td>\n",
       "      <td>1860</td>\n",
       "      <td>1700.0</td>\n",
       "      <td>1965</td>\n",
       "      <td>0.0</td>\n",
       "      <td>98007</td>\n",
       "      <td>47.6007</td>\n",
       "      <td>-122.145</td>\n",
       "      <td>2210</td>\n",
       "      <td>8925</td>\n",
       "      <td>2015</td>\n",
       "    </tr>\n",
       "    <tr>\n",
       "      <th>15</th>\n",
       "      <td>9297300055</td>\n",
       "      <td>1/24/2015</td>\n",
       "      <td>650000.0</td>\n",
       "      <td>4</td>\n",
       "      <td>3.00</td>\n",
       "      <td>2950</td>\n",
       "      <td>5000</td>\n",
       "      <td>2.0</td>\n",
       "      <td>0.0</td>\n",
       "      <td>3.0</td>\n",
       "      <td>...</td>\n",
       "      <td>1980</td>\n",
       "      <td>970.0</td>\n",
       "      <td>1979</td>\n",
       "      <td>0.0</td>\n",
       "      <td>98126</td>\n",
       "      <td>47.5714</td>\n",
       "      <td>-122.375</td>\n",
       "      <td>2140</td>\n",
       "      <td>4000</td>\n",
       "      <td>2015</td>\n",
       "    </tr>\n",
       "    <tr>\n",
       "      <th>21</th>\n",
       "      <td>2524049179</td>\n",
       "      <td>8/26/2014</td>\n",
       "      <td>2000000.0</td>\n",
       "      <td>3</td>\n",
       "      <td>2.75</td>\n",
       "      <td>3050</td>\n",
       "      <td>44867</td>\n",
       "      <td>1.0</td>\n",
       "      <td>0.0</td>\n",
       "      <td>4.0</td>\n",
       "      <td>...</td>\n",
       "      <td>2330</td>\n",
       "      <td>720.0</td>\n",
       "      <td>1968</td>\n",
       "      <td>0.0</td>\n",
       "      <td>98040</td>\n",
       "      <td>47.5316</td>\n",
       "      <td>-122.233</td>\n",
       "      <td>4110</td>\n",
       "      <td>20336</td>\n",
       "      <td>2014</td>\n",
       "    </tr>\n",
       "  </tbody>\n",
       "</table>\n",
       "<p>5 rows × 22 columns</p>\n",
       "</div>"
      ],
      "text/plain": [
       "            id       date      price  bedrooms  bathrooms  sqft_living  \\\n",
       "4   1954400510  2/18/2015   510000.0         3       2.00         1680   \n",
       "5   7237550310  5/12/2014  1230000.0         4       4.50         5420   \n",
       "10  1736800520   4/3/2015   662500.0         3       2.50         3560   \n",
       "15  9297300055  1/24/2015   650000.0         4       3.00         2950   \n",
       "21  2524049179  8/26/2014  2000000.0         3       2.75         3050   \n",
       "\n",
       "    sqft_lot  floors  waterfront  view  ...  sqft_above  sqft_basement  \\\n",
       "4       8080     1.0         0.0   0.0  ...        1680            0.0   \n",
       "5     101930     1.0         0.0   0.0  ...        3890         1530.0   \n",
       "10      9796     1.0         0.0   0.0  ...        1860         1700.0   \n",
       "15      5000     2.0         0.0   3.0  ...        1980          970.0   \n",
       "21     44867     1.0         0.0   4.0  ...        2330          720.0   \n",
       "\n",
       "    yr_built yr_renovated  zipcode      lat     long  sqft_living15  \\\n",
       "4       1987          0.0    98074  47.6168 -122.045           1800   \n",
       "5       2001          0.0    98053  47.6561 -122.005           4760   \n",
       "10      1965          0.0    98007  47.6007 -122.145           2210   \n",
       "15      1979          0.0    98126  47.5714 -122.375           2140   \n",
       "21      1968          0.0    98040  47.5316 -122.233           4110   \n",
       "\n",
       "    sqft_lot15  year_sold  \n",
       "4         7503       2015  \n",
       "5       101930       2014  \n",
       "10        8925       2015  \n",
       "15        4000       2015  \n",
       "21       20336       2014  \n",
       "\n",
       "[5 rows x 22 columns]"
      ]
     },
     "execution_count": 73,
     "metadata": {},
     "output_type": "execute_result"
    }
   ],
   "source": [
    "beds_above8.head()"
   ]
  },
  {
   "cell_type": "code",
   "execution_count": 74,
   "metadata": {},
   "outputs": [
    {
     "data": {
      "text/plain": [
       "True     9726\n",
       "False     372\n",
       "Name: yr_renovated, dtype: int64"
      ]
     },
     "execution_count": 74,
     "metadata": {},
     "output_type": "execute_result"
    }
   ],
   "source": [
    "(beds_above8['yr_renovated'] == 0.0).value_counts()"
   ]
  },
  {
   "cell_type": "code",
   "execution_count": null,
   "metadata": {},
   "outputs": [],
   "source": []
  },
  {
   "cell_type": "markdown",
   "metadata": {},
   "source": []
  },
  {
   "cell_type": "markdown",
   "metadata": {},
   "source": [
    "**Year built**"
   ]
  },
  {
   "cell_type": "code",
   "execution_count": null,
   "metadata": {},
   "outputs": [],
   "source": [
    "#we need to figure out how old each house is\n",
    "#to do this, we need to create a new column with the year sold in it, then subtract the year built from this\n",
    "#I have created the year sold column, but the year built is and onj not an int. How do we transform it wi"
   ]
  },
  {
   "cell_type": "code",
   "execution_count": 43,
   "metadata": {},
   "outputs": [
    {
     "data": {
      "text/plain": [
       "0"
      ]
     },
     "execution_count": 43,
     "metadata": {},
     "output_type": "execute_result"
    }
   ],
   "source": [
    "beds_above8['yr_built'].isna().sum()"
   ]
  },
  {
   "cell_type": "code",
   "execution_count": 44,
   "metadata": {
    "scrolled": true
   },
   "outputs": [
    {
     "data": {
      "text/plain": [
       "2014    519\n",
       "2006    369\n",
       "2005    332\n",
       "2007    314\n",
       "2004    314\n",
       "2008    297\n",
       "2003    266\n",
       "2001    236\n",
       "1990    221\n",
       "1978    219\n",
       "1977    212\n",
       "1989    208\n",
       "1999    196\n",
       "1988    192\n",
       "1987    189\n",
       "1998    181\n",
       "1979    181\n",
       "2013    171\n",
       "2000    169\n",
       "1994    160\n",
       "2009    156\n",
       "1991    156\n",
       "2002    152\n",
       "1993    145\n",
       "1996    141\n",
       "1976    140\n",
       "1992    137\n",
       "1984    136\n",
       "1997    132\n",
       "2012    128\n",
       "       ... \n",
       "1924     21\n",
       "1918     18\n",
       "1922     18\n",
       "1921     18\n",
       "1908     16\n",
       "1923     16\n",
       "1900     16\n",
       "1914     15\n",
       "1911     15\n",
       "1946     13\n",
       "1919     13\n",
       "1913     13\n",
       "1917     12\n",
       "1942     11\n",
       "1938     11\n",
       "1933     11\n",
       "1932     11\n",
       "1916     11\n",
       "1915     11\n",
       "1902     10\n",
       "1936     10\n",
       "1920     10\n",
       "1901      8\n",
       "1903      8\n",
       "1943      8\n",
       "1904      7\n",
       "1945      6\n",
       "1935      6\n",
       "1934      5\n",
       "1944      5\n",
       "Name: yr_built, Length: 116, dtype: int64"
      ]
     },
     "execution_count": 44,
     "metadata": {},
     "output_type": "execute_result"
    }
   ],
   "source": [
    "beds_above8['yr_built'].value_counts()"
   ]
  },
  {
   "cell_type": "code",
   "execution_count": 45,
   "metadata": {
    "scrolled": true
   },
   "outputs": [
    {
     "data": {
      "text/plain": [
       "dtype('O')"
      ]
     },
     "execution_count": 45,
     "metadata": {},
     "output_type": "execute_result"
    }
   ],
   "source": [
    "#check ['date'].dtype"
   ]
  },
  {
   "cell_type": "code",
   "execution_count": 46,
   "metadata": {},
   "outputs": [
    {
     "data": {
      "text/plain": [
       "dtype('int64')"
      ]
     },
     "execution_count": 46,
     "metadata": {},
     "output_type": "execute_result"
    }
   ],
   "source": [
    "#check ['yr_built'].dtype"
   ]
  },
  {
   "cell_type": "code",
   "execution_count": 50,
   "metadata": {
    "scrolled": true
   },
   "outputs": [
    {
     "name": "stderr",
     "output_type": "stream",
     "text": [
      "/Users/flatironschool/anaconda3/lib/python3.7/site-packages/ipykernel_launcher.py:1: SettingWithCopyWarning: \n",
      "A value is trying to be set on a copy of a slice from a DataFrame.\n",
      "Try using .loc[row_indexer,col_indexer] = value instead\n",
      "\n",
      "See the caveats in the documentation: http://pandas.pydata.org/pandas-docs/stable/indexing.html#indexing-view-versus-copy\n",
      "  \"\"\"Entry point for launching an IPython kernel.\n"
     ]
    }
   ],
   "source": [
    "#this works: makes a new column for year in which a house was sold\n",
    "\n",
    "#beds_above8['year_sold'] = beds_above8['date'].map(lambda x: x[-4:])"
   ]
  },
  {
   "cell_type": "markdown",
   "metadata": {},
   "source": [
    "**Sqft basement**"
   ]
  },
  {
   "cell_type": "code",
   "execution_count": null,
   "metadata": {},
   "outputs": [],
   "source": [
    "#['sqft_basement'].isna().sum()"
   ]
  },
  {
   "cell_type": "code",
   "execution_count": null,
   "metadata": {},
   "outputs": [],
   "source": [
    "#['sqft_basement'].value_counts()"
   ]
  },
  {
   "cell_type": "code",
   "execution_count": null,
   "metadata": {},
   "outputs": [],
   "source": [
    "#['sqft_basement'].mode()"
   ]
  },
  {
   "cell_type": "markdown",
   "metadata": {},
   "source": [
    "We need to delete or replace the values which have a '?' in them for the basement feature. Given that the mode for this feature is 0, we can replace them with a 0."
   ]
  }
 ],
 "metadata": {
  "kernelspec": {
   "display_name": "Python 3",
   "language": "python",
   "name": "python3"
  },
  "language_info": {
   "codemirror_mode": {
    "name": "ipython",
    "version": 3
   },
   "file_extension": ".py",
   "mimetype": "text/x-python",
   "name": "python",
   "nbconvert_exporter": "python",
   "pygments_lexer": "ipython3",
   "version": "3.7.3"
  }
 },
 "nbformat": 4,
 "nbformat_minor": 2
}
