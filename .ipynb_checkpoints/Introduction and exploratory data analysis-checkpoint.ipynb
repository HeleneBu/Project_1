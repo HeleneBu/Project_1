{
 "cells": [
  {
   "cell_type": "markdown",
   "metadata": {},
   "source": [
    "As outlined in the project scoping document, our task is to predict the sales price of houses as accurately as possible using a multivariate linear regression.\n",
    "\n",
    "Our approach will involve the following steps:\n",
    "\n",
    "1) Hypothesising about the data - without looking at the data in any detail, thinking about which features may influence our target (sales price)\n",
    "\n",
    "2) Carrying out initial exploratory analysis to get a feel for the data and plotting our first charts to explore whether the features we hypothesised about are meaningful and whether their influence on sales price is worth exploring further\n",
    "\n",
    "3) Cleaning the data, based on the features we are interested in exploring (meaning it will be easier to manipulate), getting rid of any outliers and dropping null values or replacing them with meaningful or placeholder values instead\n",
    "\n",
    "4) Exploring differences in subsets of the data, to see if there are meaningful differences between them\n",
    "\n",
    "5) Undertaking linear regression using different features to see which (combination) most accurately predicts sales price."
   ]
  },
  {
   "cell_type": "markdown",
   "metadata": {},
   "source": [
    "**Step 1: Hypotheses about our data**"
   ]
  },
  {
   "cell_type": "code",
   "execution_count": 1,
   "metadata": {},
   "outputs": [],
   "source": [
    "import pandas as pd\n",
    "\n",
    "import numpy as np\n",
    "\n",
    "from matplotlib import pyplot as plt\n",
    "\n",
    "%matplotlib inline\n",
    "\n",
    "import seaborn as sns\n",
    "\n",
    "df = pd.read_csv(\"kc_house_data.csv\")"
   ]
  },
  {
   "cell_type": "code",
   "execution_count": 2,
   "metadata": {
    "scrolled": false
   },
   "outputs": [
    {
     "data": {
      "text/html": [
       "<div>\n",
       "<style scoped>\n",
       "    .dataframe tbody tr th:only-of-type {\n",
       "        vertical-align: middle;\n",
       "    }\n",
       "\n",
       "    .dataframe tbody tr th {\n",
       "        vertical-align: top;\n",
       "    }\n",
       "\n",
       "    .dataframe thead th {\n",
       "        text-align: right;\n",
       "    }\n",
       "</style>\n",
       "<table border=\"1\" class=\"dataframe\">\n",
       "  <thead>\n",
       "    <tr style=\"text-align: right;\">\n",
       "      <th></th>\n",
       "      <th>id</th>\n",
       "      <th>date</th>\n",
       "      <th>price</th>\n",
       "      <th>bedrooms</th>\n",
       "      <th>bathrooms</th>\n",
       "      <th>sqft_living</th>\n",
       "      <th>sqft_lot</th>\n",
       "      <th>floors</th>\n",
       "      <th>waterfront</th>\n",
       "      <th>view</th>\n",
       "      <th>...</th>\n",
       "      <th>grade</th>\n",
       "      <th>sqft_above</th>\n",
       "      <th>sqft_basement</th>\n",
       "      <th>yr_built</th>\n",
       "      <th>yr_renovated</th>\n",
       "      <th>zipcode</th>\n",
       "      <th>lat</th>\n",
       "      <th>long</th>\n",
       "      <th>sqft_living15</th>\n",
       "      <th>sqft_lot15</th>\n",
       "    </tr>\n",
       "  </thead>\n",
       "  <tbody>\n",
       "    <tr>\n",
       "      <th>0</th>\n",
       "      <td>7129300520</td>\n",
       "      <td>10/13/2014</td>\n",
       "      <td>221900.0</td>\n",
       "      <td>3</td>\n",
       "      <td>1.00</td>\n",
       "      <td>1180</td>\n",
       "      <td>5650</td>\n",
       "      <td>1.0</td>\n",
       "      <td>NaN</td>\n",
       "      <td>0.0</td>\n",
       "      <td>...</td>\n",
       "      <td>7</td>\n",
       "      <td>1180</td>\n",
       "      <td>0.0</td>\n",
       "      <td>1955</td>\n",
       "      <td>0.0</td>\n",
       "      <td>98178</td>\n",
       "      <td>47.5112</td>\n",
       "      <td>-122.257</td>\n",
       "      <td>1340</td>\n",
       "      <td>5650</td>\n",
       "    </tr>\n",
       "    <tr>\n",
       "      <th>1</th>\n",
       "      <td>6414100192</td>\n",
       "      <td>12/9/2014</td>\n",
       "      <td>538000.0</td>\n",
       "      <td>3</td>\n",
       "      <td>2.25</td>\n",
       "      <td>2570</td>\n",
       "      <td>7242</td>\n",
       "      <td>2.0</td>\n",
       "      <td>0.0</td>\n",
       "      <td>0.0</td>\n",
       "      <td>...</td>\n",
       "      <td>7</td>\n",
       "      <td>2170</td>\n",
       "      <td>400.0</td>\n",
       "      <td>1951</td>\n",
       "      <td>1991.0</td>\n",
       "      <td>98125</td>\n",
       "      <td>47.7210</td>\n",
       "      <td>-122.319</td>\n",
       "      <td>1690</td>\n",
       "      <td>7639</td>\n",
       "    </tr>\n",
       "    <tr>\n",
       "      <th>2</th>\n",
       "      <td>5631500400</td>\n",
       "      <td>2/25/2015</td>\n",
       "      <td>180000.0</td>\n",
       "      <td>2</td>\n",
       "      <td>1.00</td>\n",
       "      <td>770</td>\n",
       "      <td>10000</td>\n",
       "      <td>1.0</td>\n",
       "      <td>0.0</td>\n",
       "      <td>0.0</td>\n",
       "      <td>...</td>\n",
       "      <td>6</td>\n",
       "      <td>770</td>\n",
       "      <td>0.0</td>\n",
       "      <td>1933</td>\n",
       "      <td>NaN</td>\n",
       "      <td>98028</td>\n",
       "      <td>47.7379</td>\n",
       "      <td>-122.233</td>\n",
       "      <td>2720</td>\n",
       "      <td>8062</td>\n",
       "    </tr>\n",
       "    <tr>\n",
       "      <th>3</th>\n",
       "      <td>2487200875</td>\n",
       "      <td>12/9/2014</td>\n",
       "      <td>604000.0</td>\n",
       "      <td>4</td>\n",
       "      <td>3.00</td>\n",
       "      <td>1960</td>\n",
       "      <td>5000</td>\n",
       "      <td>1.0</td>\n",
       "      <td>0.0</td>\n",
       "      <td>0.0</td>\n",
       "      <td>...</td>\n",
       "      <td>7</td>\n",
       "      <td>1050</td>\n",
       "      <td>910.0</td>\n",
       "      <td>1965</td>\n",
       "      <td>0.0</td>\n",
       "      <td>98136</td>\n",
       "      <td>47.5208</td>\n",
       "      <td>-122.393</td>\n",
       "      <td>1360</td>\n",
       "      <td>5000</td>\n",
       "    </tr>\n",
       "    <tr>\n",
       "      <th>4</th>\n",
       "      <td>1954400510</td>\n",
       "      <td>2/18/2015</td>\n",
       "      <td>510000.0</td>\n",
       "      <td>3</td>\n",
       "      <td>2.00</td>\n",
       "      <td>1680</td>\n",
       "      <td>8080</td>\n",
       "      <td>1.0</td>\n",
       "      <td>0.0</td>\n",
       "      <td>0.0</td>\n",
       "      <td>...</td>\n",
       "      <td>8</td>\n",
       "      <td>1680</td>\n",
       "      <td>0.0</td>\n",
       "      <td>1987</td>\n",
       "      <td>0.0</td>\n",
       "      <td>98074</td>\n",
       "      <td>47.6168</td>\n",
       "      <td>-122.045</td>\n",
       "      <td>1800</td>\n",
       "      <td>7503</td>\n",
       "    </tr>\n",
       "  </tbody>\n",
       "</table>\n",
       "<p>5 rows × 21 columns</p>\n",
       "</div>"
      ],
      "text/plain": [
       "           id        date     price  bedrooms  bathrooms  sqft_living  \\\n",
       "0  7129300520  10/13/2014  221900.0         3       1.00         1180   \n",
       "1  6414100192   12/9/2014  538000.0         3       2.25         2570   \n",
       "2  5631500400   2/25/2015  180000.0         2       1.00          770   \n",
       "3  2487200875   12/9/2014  604000.0         4       3.00         1960   \n",
       "4  1954400510   2/18/2015  510000.0         3       2.00         1680   \n",
       "\n",
       "   sqft_lot  floors  waterfront  view  ...  grade  sqft_above  sqft_basement  \\\n",
       "0      5650     1.0         NaN   0.0  ...      7        1180            0.0   \n",
       "1      7242     2.0         0.0   0.0  ...      7        2170          400.0   \n",
       "2     10000     1.0         0.0   0.0  ...      6         770            0.0   \n",
       "3      5000     1.0         0.0   0.0  ...      7        1050          910.0   \n",
       "4      8080     1.0         0.0   0.0  ...      8        1680            0.0   \n",
       "\n",
       "  yr_built  yr_renovated  zipcode      lat     long  sqft_living15  sqft_lot15  \n",
       "0     1955           0.0    98178  47.5112 -122.257           1340        5650  \n",
       "1     1951        1991.0    98125  47.7210 -122.319           1690        7639  \n",
       "2     1933           NaN    98028  47.7379 -122.233           2720        8062  \n",
       "3     1965           0.0    98136  47.5208 -122.393           1360        5000  \n",
       "4     1987           0.0    98074  47.6168 -122.045           1800        7503  \n",
       "\n",
       "[5 rows x 21 columns]"
      ]
     },
     "execution_count": 2,
     "metadata": {},
     "output_type": "execute_result"
    }
   ],
   "source": [
    "df.head()"
   ]
  },
  {
   "cell_type": "code",
   "execution_count": 3,
   "metadata": {},
   "outputs": [
    {
     "data": {
      "text/plain": [
       "(21597, 21)"
      ]
     },
     "execution_count": 3,
     "metadata": {},
     "output_type": "execute_result"
    }
   ],
   "source": [
    "df.shape"
   ]
  },
  {
   "cell_type": "code",
   "execution_count": 4,
   "metadata": {
    "scrolled": true
   },
   "outputs": [
    {
     "data": {
      "text/plain": [
       "Index(['id', 'date', 'price', 'bedrooms', 'bathrooms', 'sqft_living',\n",
       "       'sqft_lot', 'floors', 'waterfront', 'view', 'condition', 'grade',\n",
       "       'sqft_above', 'sqft_basement', 'yr_built', 'yr_renovated', 'zipcode',\n",
       "       'lat', 'long', 'sqft_living15', 'sqft_lot15'],\n",
       "      dtype='object')"
      ]
     },
     "execution_count": 4,
     "metadata": {},
     "output_type": "execute_result"
    }
   ],
   "source": [
    "df.columns"
   ]
  },
  {
   "cell_type": "markdown",
   "metadata": {},
   "source": [
    "As can be seen from an overview of the data we have available, there are a number of features which we think might have a positive effect on the sales price of a house: number of bedrooms or bathrooms in a house; the size of the living space; whether or not the house has a view of the waterfront; the condition it is in; the grade it was given; the year it was renovated; and its zipcode (the area it is in). We will now explore these features a little more."
   ]
  },
  {
   "cell_type": "code",
   "execution_count": 5,
   "metadata": {},
   "outputs": [
    {
     "name": "stdout",
     "output_type": "stream",
     "text": [
      "<class 'pandas.core.frame.DataFrame'>\n",
      "RangeIndex: 21597 entries, 0 to 21596\n",
      "Data columns (total 21 columns):\n",
      "id               21597 non-null int64\n",
      "date             21597 non-null object\n",
      "price            21597 non-null float64\n",
      "bedrooms         21597 non-null int64\n",
      "bathrooms        21597 non-null float64\n",
      "sqft_living      21597 non-null int64\n",
      "sqft_lot         21597 non-null int64\n",
      "floors           21597 non-null float64\n",
      "waterfront       19221 non-null float64\n",
      "view             21534 non-null float64\n",
      "condition        21597 non-null int64\n",
      "grade            21597 non-null int64\n",
      "sqft_above       21597 non-null int64\n",
      "sqft_basement    21597 non-null object\n",
      "yr_built         21597 non-null int64\n",
      "yr_renovated     17755 non-null float64\n",
      "zipcode          21597 non-null int64\n",
      "lat              21597 non-null float64\n",
      "long             21597 non-null float64\n",
      "sqft_living15    21597 non-null int64\n",
      "sqft_lot15       21597 non-null int64\n",
      "dtypes: float64(8), int64(11), object(2)\n",
      "memory usage: 3.5+ MB\n"
     ]
    }
   ],
   "source": [
    "df.info()"
   ]
  },
  {
   "cell_type": "markdown",
   "metadata": {},
   "source": [
    "The .info() function gives us a concise summary of our table - we can see that there are 21597 rows of data (entries or houses). However, it also tells us that three of the features are missing values: waterfront; view; and year renovated. We will need to decide if what to do with these missing values if we are interested in investigating these factors further."
   ]
  },
  {
   "cell_type": "code",
   "execution_count": 6,
   "metadata": {
    "scrolled": true
   },
   "outputs": [
    {
     "data": {
      "text/html": [
       "<div>\n",
       "<style scoped>\n",
       "    .dataframe tbody tr th:only-of-type {\n",
       "        vertical-align: middle;\n",
       "    }\n",
       "\n",
       "    .dataframe tbody tr th {\n",
       "        vertical-align: top;\n",
       "    }\n",
       "\n",
       "    .dataframe thead th {\n",
       "        text-align: right;\n",
       "    }\n",
       "</style>\n",
       "<table border=\"1\" class=\"dataframe\">\n",
       "  <thead>\n",
       "    <tr style=\"text-align: right;\">\n",
       "      <th></th>\n",
       "      <th>id</th>\n",
       "      <th>price</th>\n",
       "      <th>bedrooms</th>\n",
       "      <th>bathrooms</th>\n",
       "      <th>sqft_living</th>\n",
       "      <th>sqft_lot</th>\n",
       "      <th>floors</th>\n",
       "      <th>waterfront</th>\n",
       "      <th>view</th>\n",
       "      <th>condition</th>\n",
       "      <th>grade</th>\n",
       "      <th>sqft_above</th>\n",
       "      <th>yr_built</th>\n",
       "      <th>yr_renovated</th>\n",
       "      <th>zipcode</th>\n",
       "      <th>lat</th>\n",
       "      <th>long</th>\n",
       "      <th>sqft_living15</th>\n",
       "      <th>sqft_lot15</th>\n",
       "    </tr>\n",
       "  </thead>\n",
       "  <tbody>\n",
       "    <tr>\n",
       "      <th>count</th>\n",
       "      <td>2.159700e+04</td>\n",
       "      <td>2.159700e+04</td>\n",
       "      <td>21597.000000</td>\n",
       "      <td>21597.000000</td>\n",
       "      <td>21597.000000</td>\n",
       "      <td>2.159700e+04</td>\n",
       "      <td>21597.000000</td>\n",
       "      <td>19221.000000</td>\n",
       "      <td>21534.000000</td>\n",
       "      <td>21597.000000</td>\n",
       "      <td>21597.000000</td>\n",
       "      <td>21597.000000</td>\n",
       "      <td>21597.000000</td>\n",
       "      <td>17755.000000</td>\n",
       "      <td>21597.000000</td>\n",
       "      <td>21597.000000</td>\n",
       "      <td>21597.000000</td>\n",
       "      <td>21597.000000</td>\n",
       "      <td>21597.000000</td>\n",
       "    </tr>\n",
       "    <tr>\n",
       "      <th>mean</th>\n",
       "      <td>4.580474e+09</td>\n",
       "      <td>5.402966e+05</td>\n",
       "      <td>3.373200</td>\n",
       "      <td>2.115826</td>\n",
       "      <td>2080.321850</td>\n",
       "      <td>1.509941e+04</td>\n",
       "      <td>1.494096</td>\n",
       "      <td>0.007596</td>\n",
       "      <td>0.233863</td>\n",
       "      <td>3.409825</td>\n",
       "      <td>7.657915</td>\n",
       "      <td>1788.596842</td>\n",
       "      <td>1970.999676</td>\n",
       "      <td>83.636778</td>\n",
       "      <td>98077.951845</td>\n",
       "      <td>47.560093</td>\n",
       "      <td>-122.213982</td>\n",
       "      <td>1986.620318</td>\n",
       "      <td>12758.283512</td>\n",
       "    </tr>\n",
       "    <tr>\n",
       "      <th>std</th>\n",
       "      <td>2.876736e+09</td>\n",
       "      <td>3.673681e+05</td>\n",
       "      <td>0.926299</td>\n",
       "      <td>0.768984</td>\n",
       "      <td>918.106125</td>\n",
       "      <td>4.141264e+04</td>\n",
       "      <td>0.539683</td>\n",
       "      <td>0.086825</td>\n",
       "      <td>0.765686</td>\n",
       "      <td>0.650546</td>\n",
       "      <td>1.173200</td>\n",
       "      <td>827.759761</td>\n",
       "      <td>29.375234</td>\n",
       "      <td>399.946414</td>\n",
       "      <td>53.513072</td>\n",
       "      <td>0.138552</td>\n",
       "      <td>0.140724</td>\n",
       "      <td>685.230472</td>\n",
       "      <td>27274.441950</td>\n",
       "    </tr>\n",
       "    <tr>\n",
       "      <th>min</th>\n",
       "      <td>1.000102e+06</td>\n",
       "      <td>7.800000e+04</td>\n",
       "      <td>1.000000</td>\n",
       "      <td>0.500000</td>\n",
       "      <td>370.000000</td>\n",
       "      <td>5.200000e+02</td>\n",
       "      <td>1.000000</td>\n",
       "      <td>0.000000</td>\n",
       "      <td>0.000000</td>\n",
       "      <td>1.000000</td>\n",
       "      <td>3.000000</td>\n",
       "      <td>370.000000</td>\n",
       "      <td>1900.000000</td>\n",
       "      <td>0.000000</td>\n",
       "      <td>98001.000000</td>\n",
       "      <td>47.155900</td>\n",
       "      <td>-122.519000</td>\n",
       "      <td>399.000000</td>\n",
       "      <td>651.000000</td>\n",
       "    </tr>\n",
       "    <tr>\n",
       "      <th>25%</th>\n",
       "      <td>2.123049e+09</td>\n",
       "      <td>3.220000e+05</td>\n",
       "      <td>3.000000</td>\n",
       "      <td>1.750000</td>\n",
       "      <td>1430.000000</td>\n",
       "      <td>5.040000e+03</td>\n",
       "      <td>1.000000</td>\n",
       "      <td>0.000000</td>\n",
       "      <td>0.000000</td>\n",
       "      <td>3.000000</td>\n",
       "      <td>7.000000</td>\n",
       "      <td>1190.000000</td>\n",
       "      <td>1951.000000</td>\n",
       "      <td>0.000000</td>\n",
       "      <td>98033.000000</td>\n",
       "      <td>47.471100</td>\n",
       "      <td>-122.328000</td>\n",
       "      <td>1490.000000</td>\n",
       "      <td>5100.000000</td>\n",
       "    </tr>\n",
       "    <tr>\n",
       "      <th>50%</th>\n",
       "      <td>3.904930e+09</td>\n",
       "      <td>4.500000e+05</td>\n",
       "      <td>3.000000</td>\n",
       "      <td>2.250000</td>\n",
       "      <td>1910.000000</td>\n",
       "      <td>7.618000e+03</td>\n",
       "      <td>1.500000</td>\n",
       "      <td>0.000000</td>\n",
       "      <td>0.000000</td>\n",
       "      <td>3.000000</td>\n",
       "      <td>7.000000</td>\n",
       "      <td>1560.000000</td>\n",
       "      <td>1975.000000</td>\n",
       "      <td>0.000000</td>\n",
       "      <td>98065.000000</td>\n",
       "      <td>47.571800</td>\n",
       "      <td>-122.231000</td>\n",
       "      <td>1840.000000</td>\n",
       "      <td>7620.000000</td>\n",
       "    </tr>\n",
       "    <tr>\n",
       "      <th>75%</th>\n",
       "      <td>7.308900e+09</td>\n",
       "      <td>6.450000e+05</td>\n",
       "      <td>4.000000</td>\n",
       "      <td>2.500000</td>\n",
       "      <td>2550.000000</td>\n",
       "      <td>1.068500e+04</td>\n",
       "      <td>2.000000</td>\n",
       "      <td>0.000000</td>\n",
       "      <td>0.000000</td>\n",
       "      <td>4.000000</td>\n",
       "      <td>8.000000</td>\n",
       "      <td>2210.000000</td>\n",
       "      <td>1997.000000</td>\n",
       "      <td>0.000000</td>\n",
       "      <td>98118.000000</td>\n",
       "      <td>47.678000</td>\n",
       "      <td>-122.125000</td>\n",
       "      <td>2360.000000</td>\n",
       "      <td>10083.000000</td>\n",
       "    </tr>\n",
       "    <tr>\n",
       "      <th>max</th>\n",
       "      <td>9.900000e+09</td>\n",
       "      <td>7.700000e+06</td>\n",
       "      <td>33.000000</td>\n",
       "      <td>8.000000</td>\n",
       "      <td>13540.000000</td>\n",
       "      <td>1.651359e+06</td>\n",
       "      <td>3.500000</td>\n",
       "      <td>1.000000</td>\n",
       "      <td>4.000000</td>\n",
       "      <td>5.000000</td>\n",
       "      <td>13.000000</td>\n",
       "      <td>9410.000000</td>\n",
       "      <td>2015.000000</td>\n",
       "      <td>2015.000000</td>\n",
       "      <td>98199.000000</td>\n",
       "      <td>47.777600</td>\n",
       "      <td>-121.315000</td>\n",
       "      <td>6210.000000</td>\n",
       "      <td>871200.000000</td>\n",
       "    </tr>\n",
       "  </tbody>\n",
       "</table>\n",
       "</div>"
      ],
      "text/plain": [
       "                 id         price      bedrooms     bathrooms   sqft_living  \\\n",
       "count  2.159700e+04  2.159700e+04  21597.000000  21597.000000  21597.000000   \n",
       "mean   4.580474e+09  5.402966e+05      3.373200      2.115826   2080.321850   \n",
       "std    2.876736e+09  3.673681e+05      0.926299      0.768984    918.106125   \n",
       "min    1.000102e+06  7.800000e+04      1.000000      0.500000    370.000000   \n",
       "25%    2.123049e+09  3.220000e+05      3.000000      1.750000   1430.000000   \n",
       "50%    3.904930e+09  4.500000e+05      3.000000      2.250000   1910.000000   \n",
       "75%    7.308900e+09  6.450000e+05      4.000000      2.500000   2550.000000   \n",
       "max    9.900000e+09  7.700000e+06     33.000000      8.000000  13540.000000   \n",
       "\n",
       "           sqft_lot        floors    waterfront          view     condition  \\\n",
       "count  2.159700e+04  21597.000000  19221.000000  21534.000000  21597.000000   \n",
       "mean   1.509941e+04      1.494096      0.007596      0.233863      3.409825   \n",
       "std    4.141264e+04      0.539683      0.086825      0.765686      0.650546   \n",
       "min    5.200000e+02      1.000000      0.000000      0.000000      1.000000   \n",
       "25%    5.040000e+03      1.000000      0.000000      0.000000      3.000000   \n",
       "50%    7.618000e+03      1.500000      0.000000      0.000000      3.000000   \n",
       "75%    1.068500e+04      2.000000      0.000000      0.000000      4.000000   \n",
       "max    1.651359e+06      3.500000      1.000000      4.000000      5.000000   \n",
       "\n",
       "              grade    sqft_above      yr_built  yr_renovated       zipcode  \\\n",
       "count  21597.000000  21597.000000  21597.000000  17755.000000  21597.000000   \n",
       "mean       7.657915   1788.596842   1970.999676     83.636778  98077.951845   \n",
       "std        1.173200    827.759761     29.375234    399.946414     53.513072   \n",
       "min        3.000000    370.000000   1900.000000      0.000000  98001.000000   \n",
       "25%        7.000000   1190.000000   1951.000000      0.000000  98033.000000   \n",
       "50%        7.000000   1560.000000   1975.000000      0.000000  98065.000000   \n",
       "75%        8.000000   2210.000000   1997.000000      0.000000  98118.000000   \n",
       "max       13.000000   9410.000000   2015.000000   2015.000000  98199.000000   \n",
       "\n",
       "                lat          long  sqft_living15     sqft_lot15  \n",
       "count  21597.000000  21597.000000   21597.000000   21597.000000  \n",
       "mean      47.560093   -122.213982    1986.620318   12758.283512  \n",
       "std        0.138552      0.140724     685.230472   27274.441950  \n",
       "min       47.155900   -122.519000     399.000000     651.000000  \n",
       "25%       47.471100   -122.328000    1490.000000    5100.000000  \n",
       "50%       47.571800   -122.231000    1840.000000    7620.000000  \n",
       "75%       47.678000   -122.125000    2360.000000   10083.000000  \n",
       "max       47.777600   -121.315000    6210.000000  871200.000000  "
      ]
     },
     "execution_count": 6,
     "metadata": {},
     "output_type": "execute_result"
    }
   ],
   "source": [
    "df.describe()"
   ]
  },
  {
   "cell_type": "markdown",
   "metadata": {},
   "source": [
    "Using the describe function gives us a statistical description of the dataframe. We can easily spot outliers, trends and patterns for our dataset as a whole from it.\n",
    "From the above, we can see the following:\n",
    "\n",
    "- \n",
    "- there is a house with 33 bedrooms, which seems huge (it might be a hotel, an outlier, or a mistake)\n",
    "- \n"
   ]
  },
  {
   "cell_type": "code",
   "execution_count": 7,
   "metadata": {},
   "outputs": [
    {
     "name": "stdout",
     "output_type": "stream",
     "text": [
      "Empty DataFrame\n",
      "Columns: [id, date, price, bedrooms, bathrooms, sqft_living, sqft_lot, floors, waterfront, view, condition, grade, sqft_above, sqft_basement, yr_built, yr_renovated, zipcode, lat, long, sqft_living15, sqft_lot15]\n",
      "Index: []\n",
      "\n",
      "[0 rows x 21 columns]\n"
     ]
    }
   ],
   "source": [
    "df.duplicated(subset=None, keep='first')\n",
    "\n",
    "duplicated_rows_df = df[df.duplicated()]\n",
    "\n",
    "print(duplicated_rows_df)"
   ]
  },
  {
   "cell_type": "markdown",
   "metadata": {},
   "source": [
    "This tells us that there are no duplicate rows based on all columns in the dataframe - we don't need to worry about deleting rows which are exact duplicates of each other for all columns."
   ]
  },
  {
   "cell_type": "markdown",
   "metadata": {},
   "source": [
    "**Step 2: Exploratory data analysis**"
   ]
  },
  {
   "cell_type": "markdown",
   "metadata": {},
   "source": [
    "We will examine each feature in a little more detail to get a feel for it."
   ]
  },
  {
   "cell_type": "markdown",
   "metadata": {},
   "source": [
    "We can use .corr() to have an overview of which factors are correlated. Using .corr() with our dataframe will return the pairwise correlation for all columns in our dataframe."
   ]
  },
  {
   "cell_type": "code",
   "execution_count": 8,
   "metadata": {},
   "outputs": [
    {
     "data": {
      "text/html": [
       "<div>\n",
       "<style scoped>\n",
       "    .dataframe tbody tr th:only-of-type {\n",
       "        vertical-align: middle;\n",
       "    }\n",
       "\n",
       "    .dataframe tbody tr th {\n",
       "        vertical-align: top;\n",
       "    }\n",
       "\n",
       "    .dataframe thead th {\n",
       "        text-align: right;\n",
       "    }\n",
       "</style>\n",
       "<table border=\"1\" class=\"dataframe\">\n",
       "  <thead>\n",
       "    <tr style=\"text-align: right;\">\n",
       "      <th></th>\n",
       "      <th>id</th>\n",
       "      <th>price</th>\n",
       "      <th>bedrooms</th>\n",
       "      <th>bathrooms</th>\n",
       "      <th>sqft_living</th>\n",
       "      <th>sqft_lot</th>\n",
       "      <th>floors</th>\n",
       "      <th>waterfront</th>\n",
       "      <th>view</th>\n",
       "      <th>condition</th>\n",
       "      <th>grade</th>\n",
       "      <th>sqft_above</th>\n",
       "      <th>yr_built</th>\n",
       "      <th>yr_renovated</th>\n",
       "      <th>zipcode</th>\n",
       "      <th>lat</th>\n",
       "      <th>long</th>\n",
       "      <th>sqft_living15</th>\n",
       "      <th>sqft_lot15</th>\n",
       "    </tr>\n",
       "  </thead>\n",
       "  <tbody>\n",
       "    <tr>\n",
       "      <th>id</th>\n",
       "      <td>1.000000</td>\n",
       "      <td>-0.016772</td>\n",
       "      <td>0.001150</td>\n",
       "      <td>0.005162</td>\n",
       "      <td>-0.012241</td>\n",
       "      <td>-0.131911</td>\n",
       "      <td>0.018608</td>\n",
       "      <td>-0.004176</td>\n",
       "      <td>0.011592</td>\n",
       "      <td>-0.023803</td>\n",
       "      <td>0.008188</td>\n",
       "      <td>-0.010799</td>\n",
       "      <td>0.021617</td>\n",
       "      <td>-0.012010</td>\n",
       "      <td>-0.008211</td>\n",
       "      <td>-0.001798</td>\n",
       "      <td>0.020672</td>\n",
       "      <td>-0.002701</td>\n",
       "      <td>-0.138557</td>\n",
       "    </tr>\n",
       "    <tr>\n",
       "      <th>price</th>\n",
       "      <td>-0.016772</td>\n",
       "      <td>1.000000</td>\n",
       "      <td>0.308787</td>\n",
       "      <td>0.525906</td>\n",
       "      <td>0.701917</td>\n",
       "      <td>0.089876</td>\n",
       "      <td>0.256804</td>\n",
       "      <td>0.276295</td>\n",
       "      <td>0.395734</td>\n",
       "      <td>0.036056</td>\n",
       "      <td>0.667951</td>\n",
       "      <td>0.605368</td>\n",
       "      <td>0.053953</td>\n",
       "      <td>0.129599</td>\n",
       "      <td>-0.053402</td>\n",
       "      <td>0.306692</td>\n",
       "      <td>0.022036</td>\n",
       "      <td>0.585241</td>\n",
       "      <td>0.082845</td>\n",
       "    </tr>\n",
       "    <tr>\n",
       "      <th>bedrooms</th>\n",
       "      <td>0.001150</td>\n",
       "      <td>0.308787</td>\n",
       "      <td>1.000000</td>\n",
       "      <td>0.514508</td>\n",
       "      <td>0.578212</td>\n",
       "      <td>0.032471</td>\n",
       "      <td>0.177944</td>\n",
       "      <td>-0.002386</td>\n",
       "      <td>0.078523</td>\n",
       "      <td>0.026496</td>\n",
       "      <td>0.356563</td>\n",
       "      <td>0.479386</td>\n",
       "      <td>0.155670</td>\n",
       "      <td>0.018495</td>\n",
       "      <td>-0.154092</td>\n",
       "      <td>-0.009951</td>\n",
       "      <td>0.132054</td>\n",
       "      <td>0.393406</td>\n",
       "      <td>0.030690</td>\n",
       "    </tr>\n",
       "    <tr>\n",
       "      <th>bathrooms</th>\n",
       "      <td>0.005162</td>\n",
       "      <td>0.525906</td>\n",
       "      <td>0.514508</td>\n",
       "      <td>1.000000</td>\n",
       "      <td>0.755758</td>\n",
       "      <td>0.088373</td>\n",
       "      <td>0.502582</td>\n",
       "      <td>0.067282</td>\n",
       "      <td>0.186451</td>\n",
       "      <td>-0.126479</td>\n",
       "      <td>0.665838</td>\n",
       "      <td>0.686668</td>\n",
       "      <td>0.507173</td>\n",
       "      <td>0.051050</td>\n",
       "      <td>-0.204786</td>\n",
       "      <td>0.024280</td>\n",
       "      <td>0.224903</td>\n",
       "      <td>0.569884</td>\n",
       "      <td>0.088303</td>\n",
       "    </tr>\n",
       "    <tr>\n",
       "      <th>sqft_living</th>\n",
       "      <td>-0.012241</td>\n",
       "      <td>0.701917</td>\n",
       "      <td>0.578212</td>\n",
       "      <td>0.755758</td>\n",
       "      <td>1.000000</td>\n",
       "      <td>0.173453</td>\n",
       "      <td>0.353953</td>\n",
       "      <td>0.110230</td>\n",
       "      <td>0.282532</td>\n",
       "      <td>-0.059445</td>\n",
       "      <td>0.762779</td>\n",
       "      <td>0.876448</td>\n",
       "      <td>0.318152</td>\n",
       "      <td>0.055660</td>\n",
       "      <td>-0.199802</td>\n",
       "      <td>0.052155</td>\n",
       "      <td>0.241214</td>\n",
       "      <td>0.756402</td>\n",
       "      <td>0.184342</td>\n",
       "    </tr>\n",
       "    <tr>\n",
       "      <th>sqft_lot</th>\n",
       "      <td>-0.131911</td>\n",
       "      <td>0.089876</td>\n",
       "      <td>0.032471</td>\n",
       "      <td>0.088373</td>\n",
       "      <td>0.173453</td>\n",
       "      <td>1.000000</td>\n",
       "      <td>-0.004814</td>\n",
       "      <td>0.023143</td>\n",
       "      <td>0.075298</td>\n",
       "      <td>-0.008830</td>\n",
       "      <td>0.114731</td>\n",
       "      <td>0.184139</td>\n",
       "      <td>0.052946</td>\n",
       "      <td>0.004513</td>\n",
       "      <td>-0.129586</td>\n",
       "      <td>-0.085514</td>\n",
       "      <td>0.230227</td>\n",
       "      <td>0.144763</td>\n",
       "      <td>0.718204</td>\n",
       "    </tr>\n",
       "    <tr>\n",
       "      <th>floors</th>\n",
       "      <td>0.018608</td>\n",
       "      <td>0.256804</td>\n",
       "      <td>0.177944</td>\n",
       "      <td>0.502582</td>\n",
       "      <td>0.353953</td>\n",
       "      <td>-0.004814</td>\n",
       "      <td>1.000000</td>\n",
       "      <td>0.021883</td>\n",
       "      <td>0.028436</td>\n",
       "      <td>-0.264075</td>\n",
       "      <td>0.458794</td>\n",
       "      <td>0.523989</td>\n",
       "      <td>0.489193</td>\n",
       "      <td>0.003535</td>\n",
       "      <td>-0.059541</td>\n",
       "      <td>0.049239</td>\n",
       "      <td>0.125943</td>\n",
       "      <td>0.280102</td>\n",
       "      <td>-0.010722</td>\n",
       "    </tr>\n",
       "    <tr>\n",
       "      <th>waterfront</th>\n",
       "      <td>-0.004176</td>\n",
       "      <td>0.276295</td>\n",
       "      <td>-0.002386</td>\n",
       "      <td>0.067282</td>\n",
       "      <td>0.110230</td>\n",
       "      <td>0.023143</td>\n",
       "      <td>0.021883</td>\n",
       "      <td>1.000000</td>\n",
       "      <td>0.406654</td>\n",
       "      <td>0.017642</td>\n",
       "      <td>0.087383</td>\n",
       "      <td>0.075463</td>\n",
       "      <td>-0.026079</td>\n",
       "      <td>0.087244</td>\n",
       "      <td>0.031057</td>\n",
       "      <td>-0.012772</td>\n",
       "      <td>-0.039864</td>\n",
       "      <td>0.088860</td>\n",
       "      <td>0.032002</td>\n",
       "    </tr>\n",
       "    <tr>\n",
       "      <th>view</th>\n",
       "      <td>0.011592</td>\n",
       "      <td>0.395734</td>\n",
       "      <td>0.078523</td>\n",
       "      <td>0.186451</td>\n",
       "      <td>0.282532</td>\n",
       "      <td>0.075298</td>\n",
       "      <td>0.028436</td>\n",
       "      <td>0.406654</td>\n",
       "      <td>1.000000</td>\n",
       "      <td>0.045735</td>\n",
       "      <td>0.249727</td>\n",
       "      <td>0.166299</td>\n",
       "      <td>-0.054564</td>\n",
       "      <td>0.100964</td>\n",
       "      <td>0.085277</td>\n",
       "      <td>0.006141</td>\n",
       "      <td>-0.077894</td>\n",
       "      <td>0.279561</td>\n",
       "      <td>0.073332</td>\n",
       "    </tr>\n",
       "    <tr>\n",
       "      <th>condition</th>\n",
       "      <td>-0.023803</td>\n",
       "      <td>0.036056</td>\n",
       "      <td>0.026496</td>\n",
       "      <td>-0.126479</td>\n",
       "      <td>-0.059445</td>\n",
       "      <td>-0.008830</td>\n",
       "      <td>-0.264075</td>\n",
       "      <td>0.017642</td>\n",
       "      <td>0.045735</td>\n",
       "      <td>1.000000</td>\n",
       "      <td>-0.146896</td>\n",
       "      <td>-0.158904</td>\n",
       "      <td>-0.361592</td>\n",
       "      <td>-0.061858</td>\n",
       "      <td>0.002888</td>\n",
       "      <td>-0.015102</td>\n",
       "      <td>-0.105877</td>\n",
       "      <td>-0.093072</td>\n",
       "      <td>-0.003126</td>\n",
       "    </tr>\n",
       "    <tr>\n",
       "      <th>grade</th>\n",
       "      <td>0.008188</td>\n",
       "      <td>0.667951</td>\n",
       "      <td>0.356563</td>\n",
       "      <td>0.665838</td>\n",
       "      <td>0.762779</td>\n",
       "      <td>0.114731</td>\n",
       "      <td>0.458794</td>\n",
       "      <td>0.087383</td>\n",
       "      <td>0.249727</td>\n",
       "      <td>-0.146896</td>\n",
       "      <td>1.000000</td>\n",
       "      <td>0.756073</td>\n",
       "      <td>0.447865</td>\n",
       "      <td>0.016669</td>\n",
       "      <td>-0.185771</td>\n",
       "      <td>0.113575</td>\n",
       "      <td>0.200341</td>\n",
       "      <td>0.713867</td>\n",
       "      <td>0.120981</td>\n",
       "    </tr>\n",
       "    <tr>\n",
       "      <th>sqft_above</th>\n",
       "      <td>-0.010799</td>\n",
       "      <td>0.605368</td>\n",
       "      <td>0.479386</td>\n",
       "      <td>0.686668</td>\n",
       "      <td>0.876448</td>\n",
       "      <td>0.184139</td>\n",
       "      <td>0.523989</td>\n",
       "      <td>0.075463</td>\n",
       "      <td>0.166299</td>\n",
       "      <td>-0.158904</td>\n",
       "      <td>0.756073</td>\n",
       "      <td>1.000000</td>\n",
       "      <td>0.424037</td>\n",
       "      <td>0.022137</td>\n",
       "      <td>-0.261570</td>\n",
       "      <td>-0.001199</td>\n",
       "      <td>0.344842</td>\n",
       "      <td>0.731767</td>\n",
       "      <td>0.195077</td>\n",
       "    </tr>\n",
       "    <tr>\n",
       "      <th>yr_built</th>\n",
       "      <td>0.021617</td>\n",
       "      <td>0.053953</td>\n",
       "      <td>0.155670</td>\n",
       "      <td>0.507173</td>\n",
       "      <td>0.318152</td>\n",
       "      <td>0.052946</td>\n",
       "      <td>0.489193</td>\n",
       "      <td>-0.026079</td>\n",
       "      <td>-0.054564</td>\n",
       "      <td>-0.361592</td>\n",
       "      <td>0.447865</td>\n",
       "      <td>0.424037</td>\n",
       "      <td>1.000000</td>\n",
       "      <td>-0.225209</td>\n",
       "      <td>-0.347210</td>\n",
       "      <td>-0.148370</td>\n",
       "      <td>0.409993</td>\n",
       "      <td>0.326377</td>\n",
       "      <td>0.070777</td>\n",
       "    </tr>\n",
       "    <tr>\n",
       "      <th>yr_renovated</th>\n",
       "      <td>-0.012010</td>\n",
       "      <td>0.129599</td>\n",
       "      <td>0.018495</td>\n",
       "      <td>0.051050</td>\n",
       "      <td>0.055660</td>\n",
       "      <td>0.004513</td>\n",
       "      <td>0.003535</td>\n",
       "      <td>0.087244</td>\n",
       "      <td>0.100964</td>\n",
       "      <td>-0.061858</td>\n",
       "      <td>0.016669</td>\n",
       "      <td>0.022137</td>\n",
       "      <td>-0.225209</td>\n",
       "      <td>1.000000</td>\n",
       "      <td>0.069846</td>\n",
       "      <td>0.032145</td>\n",
       "      <td>-0.072156</td>\n",
       "      <td>-0.000247</td>\n",
       "      <td>0.003852</td>\n",
       "    </tr>\n",
       "    <tr>\n",
       "      <th>zipcode</th>\n",
       "      <td>-0.008211</td>\n",
       "      <td>-0.053402</td>\n",
       "      <td>-0.154092</td>\n",
       "      <td>-0.204786</td>\n",
       "      <td>-0.199802</td>\n",
       "      <td>-0.129586</td>\n",
       "      <td>-0.059541</td>\n",
       "      <td>0.031057</td>\n",
       "      <td>0.085277</td>\n",
       "      <td>0.002888</td>\n",
       "      <td>-0.185771</td>\n",
       "      <td>-0.261570</td>\n",
       "      <td>-0.347210</td>\n",
       "      <td>0.069846</td>\n",
       "      <td>1.000000</td>\n",
       "      <td>0.266742</td>\n",
       "      <td>-0.564259</td>\n",
       "      <td>-0.279299</td>\n",
       "      <td>-0.147294</td>\n",
       "    </tr>\n",
       "    <tr>\n",
       "      <th>lat</th>\n",
       "      <td>-0.001798</td>\n",
       "      <td>0.306692</td>\n",
       "      <td>-0.009951</td>\n",
       "      <td>0.024280</td>\n",
       "      <td>0.052155</td>\n",
       "      <td>-0.085514</td>\n",
       "      <td>0.049239</td>\n",
       "      <td>-0.012772</td>\n",
       "      <td>0.006141</td>\n",
       "      <td>-0.015102</td>\n",
       "      <td>0.113575</td>\n",
       "      <td>-0.001199</td>\n",
       "      <td>-0.148370</td>\n",
       "      <td>0.032145</td>\n",
       "      <td>0.266742</td>\n",
       "      <td>1.000000</td>\n",
       "      <td>-0.135371</td>\n",
       "      <td>0.048679</td>\n",
       "      <td>-0.086139</td>\n",
       "    </tr>\n",
       "    <tr>\n",
       "      <th>long</th>\n",
       "      <td>0.020672</td>\n",
       "      <td>0.022036</td>\n",
       "      <td>0.132054</td>\n",
       "      <td>0.224903</td>\n",
       "      <td>0.241214</td>\n",
       "      <td>0.230227</td>\n",
       "      <td>0.125943</td>\n",
       "      <td>-0.039864</td>\n",
       "      <td>-0.077894</td>\n",
       "      <td>-0.105877</td>\n",
       "      <td>0.200341</td>\n",
       "      <td>0.344842</td>\n",
       "      <td>0.409993</td>\n",
       "      <td>-0.072156</td>\n",
       "      <td>-0.564259</td>\n",
       "      <td>-0.135371</td>\n",
       "      <td>1.000000</td>\n",
       "      <td>0.335626</td>\n",
       "      <td>0.255586</td>\n",
       "    </tr>\n",
       "    <tr>\n",
       "      <th>sqft_living15</th>\n",
       "      <td>-0.002701</td>\n",
       "      <td>0.585241</td>\n",
       "      <td>0.393406</td>\n",
       "      <td>0.569884</td>\n",
       "      <td>0.756402</td>\n",
       "      <td>0.144763</td>\n",
       "      <td>0.280102</td>\n",
       "      <td>0.088860</td>\n",
       "      <td>0.279561</td>\n",
       "      <td>-0.093072</td>\n",
       "      <td>0.713867</td>\n",
       "      <td>0.731767</td>\n",
       "      <td>0.326377</td>\n",
       "      <td>-0.000247</td>\n",
       "      <td>-0.279299</td>\n",
       "      <td>0.048679</td>\n",
       "      <td>0.335626</td>\n",
       "      <td>1.000000</td>\n",
       "      <td>0.183515</td>\n",
       "    </tr>\n",
       "    <tr>\n",
       "      <th>sqft_lot15</th>\n",
       "      <td>-0.138557</td>\n",
       "      <td>0.082845</td>\n",
       "      <td>0.030690</td>\n",
       "      <td>0.088303</td>\n",
       "      <td>0.184342</td>\n",
       "      <td>0.718204</td>\n",
       "      <td>-0.010722</td>\n",
       "      <td>0.032002</td>\n",
       "      <td>0.073332</td>\n",
       "      <td>-0.003126</td>\n",
       "      <td>0.120981</td>\n",
       "      <td>0.195077</td>\n",
       "      <td>0.070777</td>\n",
       "      <td>0.003852</td>\n",
       "      <td>-0.147294</td>\n",
       "      <td>-0.086139</td>\n",
       "      <td>0.255586</td>\n",
       "      <td>0.183515</td>\n",
       "      <td>1.000000</td>\n",
       "    </tr>\n",
       "  </tbody>\n",
       "</table>\n",
       "</div>"
      ],
      "text/plain": [
       "                     id     price  bedrooms  bathrooms  sqft_living  sqft_lot  \\\n",
       "id             1.000000 -0.016772  0.001150   0.005162    -0.012241 -0.131911   \n",
       "price         -0.016772  1.000000  0.308787   0.525906     0.701917  0.089876   \n",
       "bedrooms       0.001150  0.308787  1.000000   0.514508     0.578212  0.032471   \n",
       "bathrooms      0.005162  0.525906  0.514508   1.000000     0.755758  0.088373   \n",
       "sqft_living   -0.012241  0.701917  0.578212   0.755758     1.000000  0.173453   \n",
       "sqft_lot      -0.131911  0.089876  0.032471   0.088373     0.173453  1.000000   \n",
       "floors         0.018608  0.256804  0.177944   0.502582     0.353953 -0.004814   \n",
       "waterfront    -0.004176  0.276295 -0.002386   0.067282     0.110230  0.023143   \n",
       "view           0.011592  0.395734  0.078523   0.186451     0.282532  0.075298   \n",
       "condition     -0.023803  0.036056  0.026496  -0.126479    -0.059445 -0.008830   \n",
       "grade          0.008188  0.667951  0.356563   0.665838     0.762779  0.114731   \n",
       "sqft_above    -0.010799  0.605368  0.479386   0.686668     0.876448  0.184139   \n",
       "yr_built       0.021617  0.053953  0.155670   0.507173     0.318152  0.052946   \n",
       "yr_renovated  -0.012010  0.129599  0.018495   0.051050     0.055660  0.004513   \n",
       "zipcode       -0.008211 -0.053402 -0.154092  -0.204786    -0.199802 -0.129586   \n",
       "lat           -0.001798  0.306692 -0.009951   0.024280     0.052155 -0.085514   \n",
       "long           0.020672  0.022036  0.132054   0.224903     0.241214  0.230227   \n",
       "sqft_living15 -0.002701  0.585241  0.393406   0.569884     0.756402  0.144763   \n",
       "sqft_lot15    -0.138557  0.082845  0.030690   0.088303     0.184342  0.718204   \n",
       "\n",
       "                 floors  waterfront      view  condition     grade  \\\n",
       "id             0.018608   -0.004176  0.011592  -0.023803  0.008188   \n",
       "price          0.256804    0.276295  0.395734   0.036056  0.667951   \n",
       "bedrooms       0.177944   -0.002386  0.078523   0.026496  0.356563   \n",
       "bathrooms      0.502582    0.067282  0.186451  -0.126479  0.665838   \n",
       "sqft_living    0.353953    0.110230  0.282532  -0.059445  0.762779   \n",
       "sqft_lot      -0.004814    0.023143  0.075298  -0.008830  0.114731   \n",
       "floors         1.000000    0.021883  0.028436  -0.264075  0.458794   \n",
       "waterfront     0.021883    1.000000  0.406654   0.017642  0.087383   \n",
       "view           0.028436    0.406654  1.000000   0.045735  0.249727   \n",
       "condition     -0.264075    0.017642  0.045735   1.000000 -0.146896   \n",
       "grade          0.458794    0.087383  0.249727  -0.146896  1.000000   \n",
       "sqft_above     0.523989    0.075463  0.166299  -0.158904  0.756073   \n",
       "yr_built       0.489193   -0.026079 -0.054564  -0.361592  0.447865   \n",
       "yr_renovated   0.003535    0.087244  0.100964  -0.061858  0.016669   \n",
       "zipcode       -0.059541    0.031057  0.085277   0.002888 -0.185771   \n",
       "lat            0.049239   -0.012772  0.006141  -0.015102  0.113575   \n",
       "long           0.125943   -0.039864 -0.077894  -0.105877  0.200341   \n",
       "sqft_living15  0.280102    0.088860  0.279561  -0.093072  0.713867   \n",
       "sqft_lot15    -0.010722    0.032002  0.073332  -0.003126  0.120981   \n",
       "\n",
       "               sqft_above  yr_built  yr_renovated   zipcode       lat  \\\n",
       "id              -0.010799  0.021617     -0.012010 -0.008211 -0.001798   \n",
       "price            0.605368  0.053953      0.129599 -0.053402  0.306692   \n",
       "bedrooms         0.479386  0.155670      0.018495 -0.154092 -0.009951   \n",
       "bathrooms        0.686668  0.507173      0.051050 -0.204786  0.024280   \n",
       "sqft_living      0.876448  0.318152      0.055660 -0.199802  0.052155   \n",
       "sqft_lot         0.184139  0.052946      0.004513 -0.129586 -0.085514   \n",
       "floors           0.523989  0.489193      0.003535 -0.059541  0.049239   \n",
       "waterfront       0.075463 -0.026079      0.087244  0.031057 -0.012772   \n",
       "view             0.166299 -0.054564      0.100964  0.085277  0.006141   \n",
       "condition       -0.158904 -0.361592     -0.061858  0.002888 -0.015102   \n",
       "grade            0.756073  0.447865      0.016669 -0.185771  0.113575   \n",
       "sqft_above       1.000000  0.424037      0.022137 -0.261570 -0.001199   \n",
       "yr_built         0.424037  1.000000     -0.225209 -0.347210 -0.148370   \n",
       "yr_renovated     0.022137 -0.225209      1.000000  0.069846  0.032145   \n",
       "zipcode         -0.261570 -0.347210      0.069846  1.000000  0.266742   \n",
       "lat             -0.001199 -0.148370      0.032145  0.266742  1.000000   \n",
       "long             0.344842  0.409993     -0.072156 -0.564259 -0.135371   \n",
       "sqft_living15    0.731767  0.326377     -0.000247 -0.279299  0.048679   \n",
       "sqft_lot15       0.195077  0.070777      0.003852 -0.147294 -0.086139   \n",
       "\n",
       "                   long  sqft_living15  sqft_lot15  \n",
       "id             0.020672      -0.002701   -0.138557  \n",
       "price          0.022036       0.585241    0.082845  \n",
       "bedrooms       0.132054       0.393406    0.030690  \n",
       "bathrooms      0.224903       0.569884    0.088303  \n",
       "sqft_living    0.241214       0.756402    0.184342  \n",
       "sqft_lot       0.230227       0.144763    0.718204  \n",
       "floors         0.125943       0.280102   -0.010722  \n",
       "waterfront    -0.039864       0.088860    0.032002  \n",
       "view          -0.077894       0.279561    0.073332  \n",
       "condition     -0.105877      -0.093072   -0.003126  \n",
       "grade          0.200341       0.713867    0.120981  \n",
       "sqft_above     0.344842       0.731767    0.195077  \n",
       "yr_built       0.409993       0.326377    0.070777  \n",
       "yr_renovated  -0.072156      -0.000247    0.003852  \n",
       "zipcode       -0.564259      -0.279299   -0.147294  \n",
       "lat           -0.135371       0.048679   -0.086139  \n",
       "long           1.000000       0.335626    0.255586  \n",
       "sqft_living15  0.335626       1.000000    0.183515  \n",
       "sqft_lot15     0.255586       0.183515    1.000000  "
      ]
     },
     "execution_count": 8,
     "metadata": {},
     "output_type": "execute_result"
    }
   ],
   "source": [
    "correlations_initial = df.corr()\n",
    "correlations_initial"
   ]
  },
  {
   "cell_type": "markdown",
   "metadata": {},
   "source": [
    "The above gives us the pairwise correlation for all columns in the dataframe. Any null values are automatically excluded from the output. The closer the correlation coefficient is to 1, the stronger the strength of association is between two features."
   ]
  },
  {
   "cell_type": "code",
   "execution_count": 9,
   "metadata": {},
   "outputs": [
    {
     "data": {
      "image/png": "[encoded data removed]",
      "text/plain": [
       "<Figure size 432x288 with 2 Axes>"
      ]
     },
     "metadata": {
      "needs_background": "light"
     },
     "output_type": "display_data"
    }
   ],
   "source": [
    "ax = sns.heatmap(correlations_initial, cmap=\"YlGnBu\")"
   ]
  },
  {
   "cell_type": "markdown",
   "metadata": {},
   "source": [
    "This gives us a heatmap of the pariwise correlation for all the columns in the dataframe. The darker the blue, the closer the correlation is to 1, and the stronger the strength of association is between two features.\n",
    "\n",
    "Based on this, it seems that the following factors have a high correlation with the price of a house, and may be worth investigating further: 1) the number of bathrooms a house has; 2) the area of a home in sqft; 3) the grade of a house; 4) the area of a house in sqft minus the basement; 5) the areas of a house's nearest 15 neighbours in sqft.\n",
    "We must, however, be wary of variables which have a high degree of correlation between themselves (independently of the target) because they are related or are repetitions of the same kind of information (eg. subsets of each other). Inclusion of such factors together will have an adverse effect on our final model, since their influence will be amplified and their combined weight will cause the model to over-estimate their importance/influence on the target (sales price).\n",
    "\n",
    "Looking at the five factors above, we need to be wary of the following:\n",
    "\n",
    "(a) using area of a home in sq ft and also the number of bedrooms and bathrooms together (the bigger the area of a house, the more bathrooms and bedrooms it is likely to have; we can see that the correlation between sqft living and number of bathrooms is 0.75, for example);\n",
    "\n",
    "(b) the area of a home and the area of the home minus the basement (their correlation is 0.87) (but, given that having a basement is an attractive feature to potential buyers, we might want to investigate this further);\n",
    "\n",
    "(c) the area of a home and the mean of the sqft areas of the nearest 15 neighbours of a house (if a house is surrounded by big houses, it is likely to be quite big itself - their correlation is 0.75).\n",
    "\n",
    "Based on the pairwise correlation above, we will focus on the following questions during the EDA:\n",
    "\n",
    "1) How much does the area of a home in sqft influence the sales price?\n",
    "2) How much does the grade of a house influence its sales price?\n",
    "\n",
    "We will also investigate a further question:\n",
    "\n",
    "3) Does having a view of the waterfront affect a home's sales price?\n",
    "\n",
    "Despite the fact that the correlation between these two factors is relatively low (0.39) compared with the other two factors in questions 1 and 2, it might be worth investigating as part of EDA because we know that having a view of the waterfront will be an attractive feature."
   ]
  },
  {
   "cell_type": "markdown",
   "metadata": {},
   "source": [
    "**Plotting some initial visualisations based on our three hypotheses above.**"
   ]
  },
  {
   "cell_type": "markdown",
   "metadata": {},
   "source": [
    "**1) Area of a home in sqft and price**"
   ]
  },
  {
   "cell_type": "code",
   "execution_count": 10,
   "metadata": {},
   "outputs": [
    {
     "data": {
      "text/plain": [
       "0"
      ]
     },
     "execution_count": 10,
     "metadata": {},
     "output_type": "execute_result"
    }
   ],
   "source": [
    "df['price'].isna().sum()"
   ]
  },
  {
   "cell_type": "code",
   "execution_count": 11,
   "metadata": {},
   "outputs": [
    {
     "data": {
      "text/plain": [
       "0"
      ]
     },
     "execution_count": 11,
     "metadata": {},
     "output_type": "execute_result"
    }
   ],
   "source": [
    "df['sqft_living'].isna().sum()"
   ]
  },
  {
   "cell_type": "markdown",
   "metadata": {},
   "source": [
    "It's useful to know that neither of our price or sqft_living columns contain null values - we don't need to correct for these during data cleaning.\n",
    "\n",
    "We may also need to consider (during data cleaning) adding a new column to the dataframe and adding price ranges to it which are a little easier to manipulate."
   ]
  },
  {
   "cell_type": "markdown",
   "metadata": {},
   "source": [
    "We can plot the area of each house against its price using a scatter plot to investigate their relationship more closely."
   ]
  },
  {
   "cell_type": "code",
   "execution_count": 12,
   "metadata": {
    "scrolled": false
   },
   "outputs": [
    {
     "data": {
      "image/png": "[encoded data removed]",
      "text/plain": [
       "<Figure size 1440x720 with 1 Axes>"
      ]
     },
     "metadata": {
      "needs_background": "light"
     },
     "output_type": "display_data"
    }
   ],
   "source": [
    "plt.figure(figsize = (20,10))\n",
    "\n",
    "ax = sns.scatterplot(x=\"sqft_living\", y=\"price\",\n",
    "                      data=df)"
   ]
  },
  {
   "cell_type": "markdown",
   "metadata": {},
   "source": [
    "There seems to be a trend worth investigating here: as the area of a house in square foot increases, so does the price of the house. However, there are clearly outliers - there seems to be a very large house, for example, and one very expensive and large house. We will need to deal with outliers during data cleaning to ensure that these don't affect our linear regression model."
   ]
  },
  {
   "cell_type": "markdown",
   "metadata": {},
   "source": [
    "**2) Grade given to a home and price**"
   ]
  },
  {
   "cell_type": "code",
   "execution_count": 13,
   "metadata": {},
   "outputs": [
    {
     "data": {
      "text/plain": [
       "0"
      ]
     },
     "execution_count": 13,
     "metadata": {},
     "output_type": "execute_result"
    }
   ],
   "source": [
    "df['grade'].isna().sum()"
   ]
  },
  {
   "cell_type": "code",
   "execution_count": 14,
   "metadata": {},
   "outputs": [
    {
     "data": {
      "text/plain": [
       "7     8974\n",
       "8     6065\n",
       "9     2615\n",
       "6     2038\n",
       "10    1134\n",
       "11     399\n",
       "5      242\n",
       "12      89\n",
       "4       27\n",
       "13      13\n",
       "3        1\n",
       "Name: grade, dtype: int64"
      ]
     },
     "execution_count": 14,
     "metadata": {},
     "output_type": "execute_result"
    }
   ],
   "source": [
    "df['grade'].value_counts()"
   ]
  },
  {
   "cell_type": "markdown",
   "metadata": {},
   "source": [
    "The 'grade' column doesn't include null values.\n",
    "\n",
    "The 'grade' column is categorical: houses are assigned individual grades based on the overall condition of the housing unit based on the King County grading system.\n",
    "\n",
    "However, we can't be sure whether a higher grade indicates a higher overall condition."
   ]
  },
  {
   "cell_type": "code",
   "execution_count": 42,
   "metadata": {},
   "outputs": [
    {
     "data": {
      "image/png": "[encoded data removed]",
      "text/plain": [
       "<Figure size 432x288 with 1 Axes>"
      ]
     },
     "metadata": {},
     "output_type": "display_data"
    }
   ],
   "source": [
    "ax = sns.barplot(x=\"grade\", y=\"price\", data=df)\n"
   ]
  },
  {
   "cell_type": "markdown",
   "metadata": {},
   "source": [
    "Given that the price of a house seems to increase as the grade of a house does, this suggests that a higher grade equates to better overall condition of a house."
   ]
  },
  {
   "cell_type": "markdown",
   "metadata": {},
   "source": [
    "**3) View of the waterfront and price**"
   ]
  },
  {
   "cell_type": "code",
   "execution_count": 15,
   "metadata": {},
   "outputs": [
    {
     "data": {
      "text/plain": [
       "2376"
      ]
     },
     "execution_count": 15,
     "metadata": {},
     "output_type": "execute_result"
    }
   ],
   "source": [
    "df['waterfront'].isna().sum()"
   ]
  },
  {
   "cell_type": "code",
   "execution_count": 16,
   "metadata": {},
   "outputs": [
    {
     "data": {
      "text/plain": [
       "0.0    19075\n",
       "1.0      146\n",
       "Name: waterfront, dtype: int64"
      ]
     },
     "execution_count": 16,
     "metadata": {},
     "output_type": "execute_result"
    }
   ],
   "source": [
    "df['waterfront'].value_counts()"
   ]
  },
  {
   "cell_type": "markdown",
   "metadata": {},
   "source": [
    "The 'waterfront' factor tells us whether a property has a view of the waterfront or not.\n",
    "\n",
    "Firstly, 2376 values for the waterfront column are missing. We may need to replace these later with a meaningful value during data cleaning. Secondly, only 146 of the remaining houses have a view of the waterfront, whilst 19075 don't. This seems strange, given the location of King County: it is located along Elliott Bay."
   ]
  },
  {
   "cell_type": "markdown",
   "metadata": {},
   "source": [
    "Given that having a view of a waterfront is an rare and sought-after feature for a house, it seems likely that '1' equates to a property having a view of the waterfront. We can confirm this using a boxplot."
   ]
  },
  {
   "cell_type": "code",
   "execution_count": 17,
   "metadata": {},
   "outputs": [
    {
     "data": {
      "text/plain": [
       "<matplotlib.axes._subplots.AxesSubplot at 0x1a17ee6320>"
      ]
     },
     "execution_count": 17,
     "metadata": {},
     "output_type": "execute_result"
    },
    {
     "data": {
      "image/png": "[encoded data removed]",
      "text/plain": [
       "<Figure size 432x288 with 1 Axes>"
      ]
     },
     "metadata": {
      "needs_background": "light"
     },
     "output_type": "display_data"
    }
   ],
   "source": [
    "sns.boxplot(x = 'waterfront', y = 'price', data = df, showfliers = False)"
   ]
  },
  {
   "cell_type": "markdown",
   "metadata": {},
   "source": [
    "This boxplot gives us a good idea of the difference in price between those houses with and without a view of the waterfront: the mean house price for houses with a waterfront view is much higher than the mean house price for houses without a waterfront view. The highest price for houses without a waterfront view overlap with the lowest prices for houses with a waterfront view. Therefore, the waterfront factor is an interesting one to keep in mind."
   ]
  },
  {
   "cell_type": "markdown",
   "metadata": {},
   "source": [
    "**Looking at each of the remaining individual factors more closely - checking for null values and value counts and preparing for data cleaning considerations**"
   ]
  },
  {
   "cell_type": "markdown",
   "metadata": {},
   "source": [
    "**Date**"
   ]
  },
  {
   "cell_type": "code",
   "execution_count": 18,
   "metadata": {},
   "outputs": [
    {
     "data": {
      "text/plain": [
       "0"
      ]
     },
     "execution_count": 18,
     "metadata": {},
     "output_type": "execute_result"
    }
   ],
   "source": [
    "df['date'].isna().sum()"
   ]
  },
  {
   "cell_type": "markdown",
   "metadata": {},
   "source": [
    "Entries in the date column (the date each house was sold) are in the format month-day-year. It may be useful to convert these dates into years only."
   ]
  },
  {
   "cell_type": "markdown",
   "metadata": {},
   "source": [
    "**Bedrooms**"
   ]
  },
  {
   "cell_type": "markdown",
   "metadata": {},
   "source": [
    "At first glance, there seems to be one clear outlier in the  bedrooms column: one house has 33 bedrooms. One would expect this house to be extremely expensive, and very big. However, looking at that particular row demonstrates that its price is not at the higher end of the range of house prices (it is only USD 100000 more than the average house price). We can safely assume that this is an anomaly."
   ]
  },
  {
   "cell_type": "code",
   "execution_count": 19,
   "metadata": {},
   "outputs": [
    {
     "data": {
      "text/html": [
       "<div>\n",
       "<style scoped>\n",
       "    .dataframe tbody tr th:only-of-type {\n",
       "        vertical-align: middle;\n",
       "    }\n",
       "\n",
       "    .dataframe tbody tr th {\n",
       "        vertical-align: top;\n",
       "    }\n",
       "\n",
       "    .dataframe thead th {\n",
       "        text-align: right;\n",
       "    }\n",
       "</style>\n",
       "<table border=\"1\" class=\"dataframe\">\n",
       "  <thead>\n",
       "    <tr style=\"text-align: right;\">\n",
       "      <th></th>\n",
       "      <th>id</th>\n",
       "      <th>date</th>\n",
       "      <th>price</th>\n",
       "      <th>bedrooms</th>\n",
       "      <th>bathrooms</th>\n",
       "      <th>sqft_living</th>\n",
       "      <th>sqft_lot</th>\n",
       "      <th>floors</th>\n",
       "      <th>waterfront</th>\n",
       "      <th>view</th>\n",
       "      <th>...</th>\n",
       "      <th>grade</th>\n",
       "      <th>sqft_above</th>\n",
       "      <th>sqft_basement</th>\n",
       "      <th>yr_built</th>\n",
       "      <th>yr_renovated</th>\n",
       "      <th>zipcode</th>\n",
       "      <th>lat</th>\n",
       "      <th>long</th>\n",
       "      <th>sqft_living15</th>\n",
       "      <th>sqft_lot15</th>\n",
       "    </tr>\n",
       "  </thead>\n",
       "  <tbody>\n",
       "    <tr>\n",
       "      <th>15856</th>\n",
       "      <td>2402100895</td>\n",
       "      <td>6/25/2014</td>\n",
       "      <td>640000.0</td>\n",
       "      <td>33</td>\n",
       "      <td>1.75</td>\n",
       "      <td>1620</td>\n",
       "      <td>6000</td>\n",
       "      <td>1.0</td>\n",
       "      <td>0.0</td>\n",
       "      <td>0.0</td>\n",
       "      <td>...</td>\n",
       "      <td>7</td>\n",
       "      <td>1040</td>\n",
       "      <td>580.0</td>\n",
       "      <td>1947</td>\n",
       "      <td>0.0</td>\n",
       "      <td>98103</td>\n",
       "      <td>47.6878</td>\n",
       "      <td>-122.331</td>\n",
       "      <td>1330</td>\n",
       "      <td>4700</td>\n",
       "    </tr>\n",
       "  </tbody>\n",
       "</table>\n",
       "<p>1 rows × 21 columns</p>\n",
       "</div>"
      ],
      "text/plain": [
       "               id       date     price  bedrooms  bathrooms  sqft_living  \\\n",
       "15856  2402100895  6/25/2014  640000.0        33       1.75         1620   \n",
       "\n",
       "       sqft_lot  floors  waterfront  view  ...  grade  sqft_above  \\\n",
       "15856      6000     1.0         0.0   0.0  ...      7        1040   \n",
       "\n",
       "       sqft_basement yr_built  yr_renovated  zipcode      lat     long  \\\n",
       "15856          580.0     1947           0.0    98103  47.6878 -122.331   \n",
       "\n",
       "       sqft_living15  sqft_lot15  \n",
       "15856           1330        4700  \n",
       "\n",
       "[1 rows x 21 columns]"
      ]
     },
     "execution_count": 19,
     "metadata": {},
     "output_type": "execute_result"
    }
   ],
   "source": [
    "df.loc[df['bedrooms'] == 33]"
   ]
  },
  {
   "cell_type": "code",
   "execution_count": 20,
   "metadata": {},
   "outputs": [
    {
     "data": {
      "text/plain": [
       "0"
      ]
     },
     "execution_count": 20,
     "metadata": {},
     "output_type": "execute_result"
    }
   ],
   "source": [
    "df['bedrooms'].isna().sum()"
   ]
  },
  {
   "cell_type": "code",
   "execution_count": 21,
   "metadata": {},
   "outputs": [
    {
     "data": {
      "text/plain": [
       "3     9824\n",
       "4     6882\n",
       "2     2760\n",
       "5     1601\n",
       "6      272\n",
       "1      196\n",
       "7       38\n",
       "8       13\n",
       "9        6\n",
       "10       3\n",
       "11       1\n",
       "33       1\n",
       "Name: bedrooms, dtype: int64"
      ]
     },
     "execution_count": 21,
     "metadata": {},
     "output_type": "execute_result"
    }
   ],
   "source": [
    "df['bedrooms'].value_counts()"
   ]
  },
  {
   "cell_type": "markdown",
   "metadata": {},
   "source": [
    "**Bathrooms**\n",
    "\n",
    "The values in the bathrooms column describe the number of bathrooms per bedroom per house. To calculate the number of bathrooms in a house, we could add a new column to the dataframe and simply multiply the number of bathrooms per bedroom per house."
   ]
  },
  {
   "cell_type": "code",
   "execution_count": 22,
   "metadata": {},
   "outputs": [
    {
     "data": {
      "text/plain": [
       "0"
      ]
     },
     "execution_count": 22,
     "metadata": {},
     "output_type": "execute_result"
    }
   ],
   "source": [
    "df['bathrooms'].isna().sum()"
   ]
  },
  {
   "cell_type": "code",
   "execution_count": 43,
   "metadata": {},
   "outputs": [
    {
     "data": {
      "text/plain": [
       "2.50    5377\n",
       "1.00    3851\n",
       "1.75    3048\n",
       "2.25    2047\n",
       "2.00    1930\n",
       "1.50    1445\n",
       "2.75    1185\n",
       "3.00     753\n",
       "3.50     731\n",
       "3.25     589\n",
       "3.75     155\n",
       "4.00     136\n",
       "4.50     100\n",
       "4.25      79\n",
       "0.75      71\n",
       "4.75      23\n",
       "5.00      21\n",
       "5.25      13\n",
       "5.50      10\n",
       "1.25       9\n",
       "6.00       6\n",
       "5.75       4\n",
       "0.50       4\n",
       "8.00       2\n",
       "6.25       2\n",
       "6.75       2\n",
       "6.50       2\n",
       "7.50       1\n",
       "7.75       1\n",
       "Name: bathrooms, dtype: int64"
      ]
     },
     "execution_count": 43,
     "metadata": {},
     "output_type": "execute_result"
    }
   ],
   "source": [
    "df['bathrooms'].value_counts()"
   ]
  },
  {
   "cell_type": "markdown",
   "metadata": {},
   "source": [
    "**Floors**\n",
    "\n",
    "Some of the values in the floor column seem a little strange - the highest number of floors in a house is 3.5, suggesting that some houses may have mezzanines in them."
   ]
  },
  {
   "cell_type": "markdown",
   "metadata": {},
   "source": [
    "**View**\n",
    "\n",
    "The view column tells us whether the property has been viewed or not. However, the values included for this factor are not straightforward."
   ]
  },
  {
   "cell_type": "code",
   "execution_count": 24,
   "metadata": {},
   "outputs": [
    {
     "data": {
      "text/plain": [
       "63"
      ]
     },
     "execution_count": 24,
     "metadata": {},
     "output_type": "execute_result"
    }
   ],
   "source": [
    "df['view'].isna().sum()"
   ]
  },
  {
   "cell_type": "code",
   "execution_count": 25,
   "metadata": {},
   "outputs": [
    {
     "data": {
      "text/plain": [
       "0.0    19422\n",
       "2.0      957\n",
       "3.0      508\n",
       "1.0      330\n",
       "4.0      317\n",
       "Name: view, dtype: int64"
      ]
     },
     "execution_count": 25,
     "metadata": {},
     "output_type": "execute_result"
    }
   ],
   "source": [
    "df['view'].value_counts()"
   ]
  },
  {
   "cell_type": "markdown",
   "metadata": {},
   "source": [
    "It could be that the column tells us how many times a property has been viewed. We might expect a property with a high number of views to be less desirable and harder to sell."
   ]
  },
  {
   "cell_type": "markdown",
   "metadata": {},
   "source": [
    "**Condition**\n",
    "\n",
    "This tells us how good the condition of the house is overall. We can assume that the higher the associated value, the better the condition the house is in."
   ]
  },
  {
   "cell_type": "code",
   "execution_count": 26,
   "metadata": {},
   "outputs": [
    {
     "data": {
      "text/plain": [
       "3    14020\n",
       "4     5677\n",
       "5     1701\n",
       "2      170\n",
       "1       29\n",
       "Name: condition, dtype: int64"
      ]
     },
     "execution_count": 26,
     "metadata": {},
     "output_type": "execute_result"
    }
   ],
   "source": [
    "df['condition'].value_counts()"
   ]
  },
  {
   "cell_type": "code",
   "execution_count": 27,
   "metadata": {},
   "outputs": [
    {
     "data": {
      "text/plain": [
       "0"
      ]
     },
     "execution_count": 27,
     "metadata": {},
     "output_type": "execute_result"
    }
   ],
   "source": [
    "df['condition'].isna().sum()"
   ]
  },
  {
   "cell_type": "code",
   "execution_count": 28,
   "metadata": {},
   "outputs": [
    {
     "data": {
      "text/html": [
       "<div>\n",
       "<style scoped>\n",
       "    .dataframe tbody tr th:only-of-type {\n",
       "        vertical-align: middle;\n",
       "    }\n",
       "\n",
       "    .dataframe tbody tr th {\n",
       "        vertical-align: top;\n",
       "    }\n",
       "\n",
       "    .dataframe thead th {\n",
       "        text-align: right;\n",
       "    }\n",
       "</style>\n",
       "<table border=\"1\" class=\"dataframe\">\n",
       "  <thead>\n",
       "    <tr style=\"text-align: right;\">\n",
       "      <th></th>\n",
       "      <th>price</th>\n",
       "      <th>condition</th>\n",
       "    </tr>\n",
       "  </thead>\n",
       "  <tbody>\n",
       "    <tr>\n",
       "      <th>0</th>\n",
       "      <td>221900.0</td>\n",
       "      <td>3</td>\n",
       "    </tr>\n",
       "    <tr>\n",
       "      <th>1</th>\n",
       "      <td>538000.0</td>\n",
       "      <td>3</td>\n",
       "    </tr>\n",
       "    <tr>\n",
       "      <th>2</th>\n",
       "      <td>180000.0</td>\n",
       "      <td>3</td>\n",
       "    </tr>\n",
       "    <tr>\n",
       "      <th>3</th>\n",
       "      <td>604000.0</td>\n",
       "      <td>5</td>\n",
       "    </tr>\n",
       "    <tr>\n",
       "      <th>4</th>\n",
       "      <td>510000.0</td>\n",
       "      <td>3</td>\n",
       "    </tr>\n",
       "  </tbody>\n",
       "</table>\n",
       "</div>"
      ],
      "text/plain": [
       "      price  condition\n",
       "0  221900.0          3\n",
       "1  538000.0          3\n",
       "2  180000.0          3\n",
       "3  604000.0          5\n",
       "4  510000.0          3"
      ]
     },
     "execution_count": 28,
     "metadata": {},
     "output_type": "execute_result"
    }
   ],
   "source": [
    "df_price_condition = df[['price', 'condition']]\n",
    "\n",
    "df_price_condition.head()"
   ]
  },
  {
   "cell_type": "markdown",
   "metadata": {},
   "source": [
    "**Sqft above** describes the total area of the house, minus the area of the basement. We could assume that the larger the area of the house, the higher the price of the house."
   ]
  },
  {
   "cell_type": "code",
   "execution_count": 32,
   "metadata": {},
   "outputs": [
    {
     "data": {
      "text/plain": [
       "0"
      ]
     },
     "execution_count": 32,
     "metadata": {},
     "output_type": "execute_result"
    }
   ],
   "source": [
    "df['sqft_above'].isna().sum()"
   ]
  },
  {
   "cell_type": "markdown",
   "metadata": {},
   "source": [
    "**Sqft_basement** describes the total area of the basement of a house. Not all houses will have basements, and those which do not have basements we will assume will have a value of '0' in this column. We can see below that there are some values which are missing for this factor, as noted by the '?' value."
   ]
  },
  {
   "cell_type": "code",
   "execution_count": 33,
   "metadata": {},
   "outputs": [
    {
     "data": {
      "text/plain": [
       "0"
      ]
     },
     "execution_count": 33,
     "metadata": {},
     "output_type": "execute_result"
    }
   ],
   "source": [
    "df['sqft_basement'].isna().sum()"
   ]
  },
  {
   "cell_type": "code",
   "execution_count": 34,
   "metadata": {},
   "outputs": [
    {
     "data": {
      "text/plain": [
       "0.0       12826\n",
       "?           454\n",
       "600.0       217\n",
       "500.0       209\n",
       "700.0       208\n",
       "800.0       201\n",
       "400.0       184\n",
       "1000.0      148\n",
       "900.0       142\n",
       "300.0       142\n",
       "200.0       105\n",
       "750.0       104\n",
       "480.0       103\n",
       "450.0       103\n",
       "530.0       103\n",
       "720.0        98\n",
       "620.0        90\n",
       "580.0        84\n",
       "840.0        83\n",
       "420.0        81\n",
       "860.0        79\n",
       "1100.0       78\n",
       "670.0        78\n",
       "550.0        76\n",
       "780.0        76\n",
       "650.0        75\n",
       "240.0        74\n",
       "380.0        73\n",
       "680.0        73\n",
       "850.0        72\n",
       "          ...  \n",
       "935.0         1\n",
       "862.0         1\n",
       "915.0         1\n",
       "2350.0        1\n",
       "861.0         1\n",
       "1930.0        1\n",
       "2810.0        1\n",
       "1852.0        1\n",
       "415.0         1\n",
       "556.0         1\n",
       "875.0         1\n",
       "2390.0        1\n",
       "4130.0        1\n",
       "1525.0        1\n",
       "2120.0        1\n",
       "225.0         1\n",
       "2500.0        1\n",
       "516.0         1\n",
       "1816.0        1\n",
       "792.0         1\n",
       "2400.0        1\n",
       "2250.0        1\n",
       "1024.0        1\n",
       "1548.0        1\n",
       "2600.0        1\n",
       "1284.0        1\n",
       "506.0         1\n",
       "2180.0        1\n",
       "2490.0        1\n",
       "143.0         1\n",
       "Name: sqft_basement, Length: 304, dtype: int64"
      ]
     },
     "execution_count": 34,
     "metadata": {},
     "output_type": "execute_result"
    }
   ],
   "source": [
    "df['sqft_basement'].value_counts()"
   ]
  },
  {
   "cell_type": "markdown",
   "metadata": {},
   "source": [
    "**Yr_built** describes the year a house was built. We don't yet know whether/how this factor will influence the price of a house - perhaps a house built a long time ago will have some value, as long as its condition is not too low or if it has been recently renovated."
   ]
  },
  {
   "cell_type": "code",
   "execution_count": 35,
   "metadata": {},
   "outputs": [
    {
     "data": {
      "text/plain": [
       "2014    559\n",
       "2006    453\n",
       "2005    450\n",
       "2004    433\n",
       "2003    420\n",
       "2007    417\n",
       "1977    417\n",
       "1978    387\n",
       "1968    381\n",
       "2008    367\n",
       "1967    350\n",
       "1979    343\n",
       "1959    334\n",
       "1990    317\n",
       "1962    312\n",
       "2001    305\n",
       "1954    305\n",
       "1987    294\n",
       "1989    290\n",
       "1969    280\n",
       "1955    271\n",
       "1988    270\n",
       "1947    263\n",
       "1999    263\n",
       "1963    255\n",
       "1976    253\n",
       "1966    249\n",
       "1994    249\n",
       "1950    249\n",
       "1960    248\n",
       "       ... \n",
       "1909     94\n",
       "1906     92\n",
       "1930     90\n",
       "1919     88\n",
       "1900     87\n",
       "1908     86\n",
       "1923     84\n",
       "1912     79\n",
       "1916     79\n",
       "1921     76\n",
       "1905     74\n",
       "1911     73\n",
       "1937     68\n",
       "1907     65\n",
       "1915     64\n",
       "1931     61\n",
       "1913     58\n",
       "1917     56\n",
       "1914     54\n",
       "1938     52\n",
       "1903     46\n",
       "1904     45\n",
       "1936     40\n",
       "1932     38\n",
       "2015     38\n",
       "1933     30\n",
       "1901     29\n",
       "1902     27\n",
       "1935     24\n",
       "1934     21\n",
       "Name: yr_built, Length: 116, dtype: int64"
      ]
     },
     "execution_count": 35,
     "metadata": {},
     "output_type": "execute_result"
    }
   ],
   "source": [
    "df['yr_built'].value_counts()"
   ]
  },
  {
   "cell_type": "code",
   "execution_count": 36,
   "metadata": {},
   "outputs": [
    {
     "data": {
      "text/plain": [
       "0"
      ]
     },
     "execution_count": 36,
     "metadata": {},
     "output_type": "execute_result"
    }
   ],
   "source": [
    "df['yr_built'].isna().sum()"
   ]
  },
  {
   "cell_type": "markdown",
   "metadata": {},
   "source": [
    "**Yr_renovated** tells us the year a house has been renovated, if at all. We can assume that '0' suggests the house has never been renovated."
   ]
  },
  {
   "cell_type": "code",
   "execution_count": 37,
   "metadata": {},
   "outputs": [
    {
     "data": {
      "text/plain": [
       "0.0       17011\n",
       "2014.0       73\n",
       "2003.0       31\n",
       "2013.0       31\n",
       "2007.0       30\n",
       "2000.0       29\n",
       "2005.0       29\n",
       "1990.0       22\n",
       "2004.0       22\n",
       "2009.0       21\n",
       "1989.0       20\n",
       "2006.0       20\n",
       "2002.0       17\n",
       "1991.0       16\n",
       "1998.0       16\n",
       "1984.0       16\n",
       "1999.0       15\n",
       "2008.0       15\n",
       "2010.0       15\n",
       "2001.0       15\n",
       "1983.0       15\n",
       "2015.0       14\n",
       "1985.0       14\n",
       "1986.0       14\n",
       "1987.0       14\n",
       "1994.0       14\n",
       "1992.0       13\n",
       "1993.0       12\n",
       "1997.0       12\n",
       "1995.0       12\n",
       "          ...  \n",
       "1975.0        5\n",
       "1964.0        5\n",
       "1969.0        4\n",
       "1963.0        4\n",
       "1973.0        4\n",
       "1981.0        4\n",
       "1965.0        4\n",
       "1978.0        3\n",
       "1960.0        3\n",
       "1958.0        3\n",
       "1956.0        3\n",
       "1955.0        3\n",
       "1945.0        3\n",
       "1972.0        3\n",
       "1967.0        2\n",
       "1957.0        2\n",
       "1940.0        2\n",
       "1974.0        2\n",
       "1962.0        2\n",
       "1953.0        1\n",
       "1950.0        1\n",
       "1934.0        1\n",
       "1944.0        1\n",
       "1976.0        1\n",
       "1948.0        1\n",
       "1946.0        1\n",
       "1959.0        1\n",
       "1971.0        1\n",
       "1951.0        1\n",
       "1954.0        1\n",
       "Name: yr_renovated, Length: 70, dtype: int64"
      ]
     },
     "execution_count": 37,
     "metadata": {},
     "output_type": "execute_result"
    }
   ],
   "source": [
    "df['yr_renovated'].value_counts()"
   ]
  },
  {
   "cell_type": "code",
   "execution_count": 38,
   "metadata": {
    "scrolled": true
   },
   "outputs": [
    {
     "data": {
      "text/plain": [
       "3842"
      ]
     },
     "execution_count": 38,
     "metadata": {},
     "output_type": "execute_result"
    }
   ],
   "source": [
    "df['yr_renovated'].isna().sum()"
   ]
  },
  {
   "cell_type": "markdown",
   "metadata": {},
   "source": [
    "**Zipcode** The zipcode of a property will tell us where the property is located. Some zipcodes will be more in demand than others, as they are more attractive areas to live than others. To work with this factor, we may need to find a way to group the zipcodes together by larger area, in order to make our data more manageable (we could do this using the **longitude** and **latitude** figures we are given, for example)."
   ]
  },
  {
   "cell_type": "code",
   "execution_count": 39,
   "metadata": {},
   "outputs": [
    {
     "data": {
      "text/plain": [
       "98103    602\n",
       "98038    589\n",
       "98115    583\n",
       "98052    574\n",
       "98117    553\n",
       "98042    547\n",
       "98034    545\n",
       "98118    507\n",
       "98023    499\n",
       "98006    498\n",
       "98133    493\n",
       "98059    468\n",
       "98058    455\n",
       "98155    446\n",
       "98074    441\n",
       "98033    432\n",
       "98027    412\n",
       "98125    409\n",
       "98056    406\n",
       "98053    403\n",
       "98001    361\n",
       "98075    359\n",
       "98126    354\n",
       "98092    351\n",
       "98144    343\n",
       "98106    335\n",
       "98116    330\n",
       "98029    321\n",
       "98199    317\n",
       "98004    317\n",
       "        ... \n",
       "98112    269\n",
       "98168    269\n",
       "98055    268\n",
       "98107    266\n",
       "98136    263\n",
       "98178    262\n",
       "98030    256\n",
       "98177    255\n",
       "98166    254\n",
       "98022    233\n",
       "98105    229\n",
       "98045    220\n",
       "98002    199\n",
       "98077    198\n",
       "98011    195\n",
       "98019    190\n",
       "98108    186\n",
       "98119    184\n",
       "98005    168\n",
       "98007    141\n",
       "98188    136\n",
       "98032    125\n",
       "98014    124\n",
       "98070    117\n",
       "98109    109\n",
       "98102    104\n",
       "98010    100\n",
       "98024     80\n",
       "98148     57\n",
       "98039     50\n",
       "Name: zipcode, Length: 70, dtype: int64"
      ]
     },
     "execution_count": 39,
     "metadata": {},
     "output_type": "execute_result"
    }
   ],
   "source": [
    "df['zipcode'].value_counts()"
   ]
  },
  {
   "cell_type": "code",
   "execution_count": 40,
   "metadata": {},
   "outputs": [
    {
     "data": {
      "text/plain": [
       "0"
      ]
     },
     "execution_count": 40,
     "metadata": {},
     "output_type": "execute_result"
    }
   ],
   "source": [
    "df['zipcode'].isna().sum()"
   ]
  },
  {
   "cell_type": "markdown",
   "metadata": {},
   "source": [
    "**Sqft_living** This factor tells us the square footage of the house living space for the nearest 15 neighbours for each house, whilst **sq_ft lot 15** tells us the size of the plot of land of the nearest 5 neighbours for each house."
   ]
  }
 ],
 "metadata": {
  "kernelspec": {
   "display_name": "Python 3",
   "language": "python",
   "name": "python3"
  },
  "language_info": {
   "codemirror_mode": {
    "name": "ipython",
    "version": 3
   },
   "file_extension": ".py",
   "mimetype": "text/x-python",
   "name": "python",
   "nbconvert_exporter": "python",
   "pygments_lexer": "ipython3",
   "version": "3.7.3"
  }
 },
 "nbformat": 4,
 "nbformat_minor": 2
}
